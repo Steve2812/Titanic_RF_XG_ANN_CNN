{
  "nbformat": 4,
  "nbformat_minor": 0,
  "metadata": {
    "colab": {
      "provenance": []
    },
    "kernelspec": {
      "name": "python3",
      "display_name": "Python 3"
    }
  },
  "cells": [
    {
      "cell_type": "markdown",
      "metadata": {
        "id": "EoRP98MpR-qj"
      },
      "source": [
        "## Importing the libraries"
      ]
    },
    {
      "cell_type": "code",
      "source": [
        "import numpy as np\n",
        "import pandas as pd\n",
        "import matplotlib.pyplot as plt\n",
        "import tensorflow as tf"
      ],
      "metadata": {
        "id": "fP2P9a_lp486"
      },
      "execution_count": 228,
      "outputs": []
    },
    {
      "cell_type": "markdown",
      "metadata": {
        "id": "RopL7tUZSQkT"
      },
      "source": [
        "## Importing the dataset"
      ]
    },
    {
      "cell_type": "code",
      "source": [
        "TRD = pd.read_csv('train.csv')\n",
        "TRD.head()"
      ],
      "metadata": {
        "id": "QlKagisjqAjA",
        "colab": {
          "base_uri": "https://localhost:8080/",
          "height": 258
        },
        "outputId": "2a919cd4-6055-41d6-ca9c-f43c32a85931"
      },
      "execution_count": 229,
      "outputs": [
        {
          "output_type": "execute_result",
          "data": {
            "text/plain": [
              "   PassengerId  Survived  Pclass  \\\n",
              "0            1         0       3   \n",
              "1            2         1       1   \n",
              "2            3         1       3   \n",
              "3            4         1       1   \n",
              "4            5         0       3   \n",
              "\n",
              "                                                Name     Sex   Age  SibSp  \\\n",
              "0                            Braund, Mr. Owen Harris    male  22.0      1   \n",
              "1  Cumings, Mrs. John Bradley (Florence Briggs Th...  female  38.0      1   \n",
              "2                             Heikkinen, Miss. Laina  female  26.0      0   \n",
              "3       Futrelle, Mrs. Jacques Heath (Lily May Peel)  female  35.0      1   \n",
              "4                           Allen, Mr. William Henry    male  35.0      0   \n",
              "\n",
              "   Parch            Ticket     Fare Cabin Embarked  \n",
              "0      0         A/5 21171   7.2500   NaN        S  \n",
              "1      0          PC 17599  71.2833   C85        C  \n",
              "2      0  STON/O2. 3101282   7.9250   NaN        S  \n",
              "3      0            113803  53.1000  C123        S  \n",
              "4      0            373450   8.0500   NaN        S  "
            ],
            "text/html": [
              "\n",
              "  <div id=\"df-af6076cc-7aff-4090-8b0f-2d89e533082d\" class=\"colab-df-container\">\n",
              "    <div>\n",
              "<style scoped>\n",
              "    .dataframe tbody tr th:only-of-type {\n",
              "        vertical-align: middle;\n",
              "    }\n",
              "\n",
              "    .dataframe tbody tr th {\n",
              "        vertical-align: top;\n",
              "    }\n",
              "\n",
              "    .dataframe thead th {\n",
              "        text-align: right;\n",
              "    }\n",
              "</style>\n",
              "<table border=\"1\" class=\"dataframe\">\n",
              "  <thead>\n",
              "    <tr style=\"text-align: right;\">\n",
              "      <th></th>\n",
              "      <th>PassengerId</th>\n",
              "      <th>Survived</th>\n",
              "      <th>Pclass</th>\n",
              "      <th>Name</th>\n",
              "      <th>Sex</th>\n",
              "      <th>Age</th>\n",
              "      <th>SibSp</th>\n",
              "      <th>Parch</th>\n",
              "      <th>Ticket</th>\n",
              "      <th>Fare</th>\n",
              "      <th>Cabin</th>\n",
              "      <th>Embarked</th>\n",
              "    </tr>\n",
              "  </thead>\n",
              "  <tbody>\n",
              "    <tr>\n",
              "      <th>0</th>\n",
              "      <td>1</td>\n",
              "      <td>0</td>\n",
              "      <td>3</td>\n",
              "      <td>Braund, Mr. Owen Harris</td>\n",
              "      <td>male</td>\n",
              "      <td>22.0</td>\n",
              "      <td>1</td>\n",
              "      <td>0</td>\n",
              "      <td>A/5 21171</td>\n",
              "      <td>7.2500</td>\n",
              "      <td>NaN</td>\n",
              "      <td>S</td>\n",
              "    </tr>\n",
              "    <tr>\n",
              "      <th>1</th>\n",
              "      <td>2</td>\n",
              "      <td>1</td>\n",
              "      <td>1</td>\n",
              "      <td>Cumings, Mrs. John Bradley (Florence Briggs Th...</td>\n",
              "      <td>female</td>\n",
              "      <td>38.0</td>\n",
              "      <td>1</td>\n",
              "      <td>0</td>\n",
              "      <td>PC 17599</td>\n",
              "      <td>71.2833</td>\n",
              "      <td>C85</td>\n",
              "      <td>C</td>\n",
              "    </tr>\n",
              "    <tr>\n",
              "      <th>2</th>\n",
              "      <td>3</td>\n",
              "      <td>1</td>\n",
              "      <td>3</td>\n",
              "      <td>Heikkinen, Miss. Laina</td>\n",
              "      <td>female</td>\n",
              "      <td>26.0</td>\n",
              "      <td>0</td>\n",
              "      <td>0</td>\n",
              "      <td>STON/O2. 3101282</td>\n",
              "      <td>7.9250</td>\n",
              "      <td>NaN</td>\n",
              "      <td>S</td>\n",
              "    </tr>\n",
              "    <tr>\n",
              "      <th>3</th>\n",
              "      <td>4</td>\n",
              "      <td>1</td>\n",
              "      <td>1</td>\n",
              "      <td>Futrelle, Mrs. Jacques Heath (Lily May Peel)</td>\n",
              "      <td>female</td>\n",
              "      <td>35.0</td>\n",
              "      <td>1</td>\n",
              "      <td>0</td>\n",
              "      <td>113803</td>\n",
              "      <td>53.1000</td>\n",
              "      <td>C123</td>\n",
              "      <td>S</td>\n",
              "    </tr>\n",
              "    <tr>\n",
              "      <th>4</th>\n",
              "      <td>5</td>\n",
              "      <td>0</td>\n",
              "      <td>3</td>\n",
              "      <td>Allen, Mr. William Henry</td>\n",
              "      <td>male</td>\n",
              "      <td>35.0</td>\n",
              "      <td>0</td>\n",
              "      <td>0</td>\n",
              "      <td>373450</td>\n",
              "      <td>8.0500</td>\n",
              "      <td>NaN</td>\n",
              "      <td>S</td>\n",
              "    </tr>\n",
              "  </tbody>\n",
              "</table>\n",
              "</div>\n",
              "    <div class=\"colab-df-buttons\">\n",
              "\n",
              "  <div class=\"colab-df-container\">\n",
              "    <button class=\"colab-df-convert\" onclick=\"convertToInteractive('df-af6076cc-7aff-4090-8b0f-2d89e533082d')\"\n",
              "            title=\"Convert this dataframe to an interactive table.\"\n",
              "            style=\"display:none;\">\n",
              "\n",
              "  <svg xmlns=\"http://www.w3.org/2000/svg\" height=\"24px\" viewBox=\"0 -960 960 960\">\n",
              "    <path d=\"M120-120v-720h720v720H120Zm60-500h600v-160H180v160Zm220 220h160v-160H400v160Zm0 220h160v-160H400v160ZM180-400h160v-160H180v160Zm440 0h160v-160H620v160ZM180-180h160v-160H180v160Zm440 0h160v-160H620v160Z\"/>\n",
              "  </svg>\n",
              "    </button>\n",
              "\n",
              "  <style>\n",
              "    .colab-df-container {\n",
              "      display:flex;\n",
              "      gap: 12px;\n",
              "    }\n",
              "\n",
              "    .colab-df-convert {\n",
              "      background-color: #E8F0FE;\n",
              "      border: none;\n",
              "      border-radius: 50%;\n",
              "      cursor: pointer;\n",
              "      display: none;\n",
              "      fill: #1967D2;\n",
              "      height: 32px;\n",
              "      padding: 0 0 0 0;\n",
              "      width: 32px;\n",
              "    }\n",
              "\n",
              "    .colab-df-convert:hover {\n",
              "      background-color: #E2EBFA;\n",
              "      box-shadow: 0px 1px 2px rgba(60, 64, 67, 0.3), 0px 1px 3px 1px rgba(60, 64, 67, 0.15);\n",
              "      fill: #174EA6;\n",
              "    }\n",
              "\n",
              "    .colab-df-buttons div {\n",
              "      margin-bottom: 4px;\n",
              "    }\n",
              "\n",
              "    [theme=dark] .colab-df-convert {\n",
              "      background-color: #3B4455;\n",
              "      fill: #D2E3FC;\n",
              "    }\n",
              "\n",
              "    [theme=dark] .colab-df-convert:hover {\n",
              "      background-color: #434B5C;\n",
              "      box-shadow: 0px 1px 3px 1px rgba(0, 0, 0, 0.15);\n",
              "      filter: drop-shadow(0px 1px 2px rgba(0, 0, 0, 0.3));\n",
              "      fill: #FFFFFF;\n",
              "    }\n",
              "  </style>\n",
              "\n",
              "    <script>\n",
              "      const buttonEl =\n",
              "        document.querySelector('#df-af6076cc-7aff-4090-8b0f-2d89e533082d button.colab-df-convert');\n",
              "      buttonEl.style.display =\n",
              "        google.colab.kernel.accessAllowed ? 'block' : 'none';\n",
              "\n",
              "      async function convertToInteractive(key) {\n",
              "        const element = document.querySelector('#df-af6076cc-7aff-4090-8b0f-2d89e533082d');\n",
              "        const dataTable =\n",
              "          await google.colab.kernel.invokeFunction('convertToInteractive',\n",
              "                                                    [key], {});\n",
              "        if (!dataTable) return;\n",
              "\n",
              "        const docLinkHtml = 'Like what you see? Visit the ' +\n",
              "          '<a target=\"_blank\" href=https://colab.research.google.com/notebooks/data_table.ipynb>data table notebook</a>'\n",
              "          + ' to learn more about interactive tables.';\n",
              "        element.innerHTML = '';\n",
              "        dataTable['output_type'] = 'display_data';\n",
              "        await google.colab.output.renderOutput(dataTable, element);\n",
              "        const docLink = document.createElement('div');\n",
              "        docLink.innerHTML = docLinkHtml;\n",
              "        element.appendChild(docLink);\n",
              "      }\n",
              "    </script>\n",
              "  </div>\n",
              "\n",
              "\n",
              "    <div id=\"df-5a0e6cde-815e-4877-8509-e7f02b16ba38\">\n",
              "      <button class=\"colab-df-quickchart\" onclick=\"quickchart('df-5a0e6cde-815e-4877-8509-e7f02b16ba38')\"\n",
              "                title=\"Suggest charts\"\n",
              "                style=\"display:none;\">\n",
              "\n",
              "<svg xmlns=\"http://www.w3.org/2000/svg\" height=\"24px\"viewBox=\"0 0 24 24\"\n",
              "     width=\"24px\">\n",
              "    <g>\n",
              "        <path d=\"M19 3H5c-1.1 0-2 .9-2 2v14c0 1.1.9 2 2 2h14c1.1 0 2-.9 2-2V5c0-1.1-.9-2-2-2zM9 17H7v-7h2v7zm4 0h-2V7h2v10zm4 0h-2v-4h2v4z\"/>\n",
              "    </g>\n",
              "</svg>\n",
              "      </button>\n",
              "\n",
              "<style>\n",
              "  .colab-df-quickchart {\n",
              "      --bg-color: #E8F0FE;\n",
              "      --fill-color: #1967D2;\n",
              "      --hover-bg-color: #E2EBFA;\n",
              "      --hover-fill-color: #174EA6;\n",
              "      --disabled-fill-color: #AAA;\n",
              "      --disabled-bg-color: #DDD;\n",
              "  }\n",
              "\n",
              "  [theme=dark] .colab-df-quickchart {\n",
              "      --bg-color: #3B4455;\n",
              "      --fill-color: #D2E3FC;\n",
              "      --hover-bg-color: #434B5C;\n",
              "      --hover-fill-color: #FFFFFF;\n",
              "      --disabled-bg-color: #3B4455;\n",
              "      --disabled-fill-color: #666;\n",
              "  }\n",
              "\n",
              "  .colab-df-quickchart {\n",
              "    background-color: var(--bg-color);\n",
              "    border: none;\n",
              "    border-radius: 50%;\n",
              "    cursor: pointer;\n",
              "    display: none;\n",
              "    fill: var(--fill-color);\n",
              "    height: 32px;\n",
              "    padding: 0;\n",
              "    width: 32px;\n",
              "  }\n",
              "\n",
              "  .colab-df-quickchart:hover {\n",
              "    background-color: var(--hover-bg-color);\n",
              "    box-shadow: 0 1px 2px rgba(60, 64, 67, 0.3), 0 1px 3px 1px rgba(60, 64, 67, 0.15);\n",
              "    fill: var(--button-hover-fill-color);\n",
              "  }\n",
              "\n",
              "  .colab-df-quickchart-complete:disabled,\n",
              "  .colab-df-quickchart-complete:disabled:hover {\n",
              "    background-color: var(--disabled-bg-color);\n",
              "    fill: var(--disabled-fill-color);\n",
              "    box-shadow: none;\n",
              "  }\n",
              "\n",
              "  .colab-df-spinner {\n",
              "    border: 2px solid var(--fill-color);\n",
              "    border-color: transparent;\n",
              "    border-bottom-color: var(--fill-color);\n",
              "    animation:\n",
              "      spin 1s steps(1) infinite;\n",
              "  }\n",
              "\n",
              "  @keyframes spin {\n",
              "    0% {\n",
              "      border-color: transparent;\n",
              "      border-bottom-color: var(--fill-color);\n",
              "      border-left-color: var(--fill-color);\n",
              "    }\n",
              "    20% {\n",
              "      border-color: transparent;\n",
              "      border-left-color: var(--fill-color);\n",
              "      border-top-color: var(--fill-color);\n",
              "    }\n",
              "    30% {\n",
              "      border-color: transparent;\n",
              "      border-left-color: var(--fill-color);\n",
              "      border-top-color: var(--fill-color);\n",
              "      border-right-color: var(--fill-color);\n",
              "    }\n",
              "    40% {\n",
              "      border-color: transparent;\n",
              "      border-right-color: var(--fill-color);\n",
              "      border-top-color: var(--fill-color);\n",
              "    }\n",
              "    60% {\n",
              "      border-color: transparent;\n",
              "      border-right-color: var(--fill-color);\n",
              "    }\n",
              "    80% {\n",
              "      border-color: transparent;\n",
              "      border-right-color: var(--fill-color);\n",
              "      border-bottom-color: var(--fill-color);\n",
              "    }\n",
              "    90% {\n",
              "      border-color: transparent;\n",
              "      border-bottom-color: var(--fill-color);\n",
              "    }\n",
              "  }\n",
              "</style>\n",
              "\n",
              "      <script>\n",
              "        async function quickchart(key) {\n",
              "          const quickchartButtonEl =\n",
              "            document.querySelector('#' + key + ' button');\n",
              "          quickchartButtonEl.disabled = true;  // To prevent multiple clicks.\n",
              "          quickchartButtonEl.classList.add('colab-df-spinner');\n",
              "          try {\n",
              "            const charts = await google.colab.kernel.invokeFunction(\n",
              "                'suggestCharts', [key], {});\n",
              "          } catch (error) {\n",
              "            console.error('Error during call to suggestCharts:', error);\n",
              "          }\n",
              "          quickchartButtonEl.classList.remove('colab-df-spinner');\n",
              "          quickchartButtonEl.classList.add('colab-df-quickchart-complete');\n",
              "        }\n",
              "        (() => {\n",
              "          let quickchartButtonEl =\n",
              "            document.querySelector('#df-5a0e6cde-815e-4877-8509-e7f02b16ba38 button');\n",
              "          quickchartButtonEl.style.display =\n",
              "            google.colab.kernel.accessAllowed ? 'block' : 'none';\n",
              "        })();\n",
              "      </script>\n",
              "    </div>\n",
              "\n",
              "    </div>\n",
              "  </div>\n"
            ],
            "application/vnd.google.colaboratory.intrinsic+json": {
              "type": "dataframe",
              "variable_name": "TRD",
              "summary": "{\n  \"name\": \"TRD\",\n  \"rows\": 891,\n  \"fields\": [\n    {\n      \"column\": \"PassengerId\",\n      \"properties\": {\n        \"dtype\": \"number\",\n        \"std\": 257,\n        \"min\": 1,\n        \"max\": 891,\n        \"num_unique_values\": 891,\n        \"samples\": [\n          710,\n          440,\n          841\n        ],\n        \"semantic_type\": \"\",\n        \"description\": \"\"\n      }\n    },\n    {\n      \"column\": \"Survived\",\n      \"properties\": {\n        \"dtype\": \"number\",\n        \"std\": 0,\n        \"min\": 0,\n        \"max\": 1,\n        \"num_unique_values\": 2,\n        \"samples\": [\n          1,\n          0\n        ],\n        \"semantic_type\": \"\",\n        \"description\": \"\"\n      }\n    },\n    {\n      \"column\": \"Pclass\",\n      \"properties\": {\n        \"dtype\": \"number\",\n        \"std\": 0,\n        \"min\": 1,\n        \"max\": 3,\n        \"num_unique_values\": 3,\n        \"samples\": [\n          3,\n          1\n        ],\n        \"semantic_type\": \"\",\n        \"description\": \"\"\n      }\n    },\n    {\n      \"column\": \"Name\",\n      \"properties\": {\n        \"dtype\": \"string\",\n        \"num_unique_values\": 891,\n        \"samples\": [\n          \"Moubarek, Master. Halim Gonios (\\\"William George\\\")\",\n          \"Kvillner, Mr. Johan Henrik Johannesson\"\n        ],\n        \"semantic_type\": \"\",\n        \"description\": \"\"\n      }\n    },\n    {\n      \"column\": \"Sex\",\n      \"properties\": {\n        \"dtype\": \"category\",\n        \"num_unique_values\": 2,\n        \"samples\": [\n          \"female\",\n          \"male\"\n        ],\n        \"semantic_type\": \"\",\n        \"description\": \"\"\n      }\n    },\n    {\n      \"column\": \"Age\",\n      \"properties\": {\n        \"dtype\": \"number\",\n        \"std\": 14.526497332334044,\n        \"min\": 0.42,\n        \"max\": 80.0,\n        \"num_unique_values\": 88,\n        \"samples\": [\n          0.75,\n          22.0\n        ],\n        \"semantic_type\": \"\",\n        \"description\": \"\"\n      }\n    },\n    {\n      \"column\": \"SibSp\",\n      \"properties\": {\n        \"dtype\": \"number\",\n        \"std\": 1,\n        \"min\": 0,\n        \"max\": 8,\n        \"num_unique_values\": 7,\n        \"samples\": [\n          1,\n          0\n        ],\n        \"semantic_type\": \"\",\n        \"description\": \"\"\n      }\n    },\n    {\n      \"column\": \"Parch\",\n      \"properties\": {\n        \"dtype\": \"number\",\n        \"std\": 0,\n        \"min\": 0,\n        \"max\": 6,\n        \"num_unique_values\": 7,\n        \"samples\": [\n          0,\n          1\n        ],\n        \"semantic_type\": \"\",\n        \"description\": \"\"\n      }\n    },\n    {\n      \"column\": \"Ticket\",\n      \"properties\": {\n        \"dtype\": \"string\",\n        \"num_unique_values\": 681,\n        \"samples\": [\n          \"11774\",\n          \"248740\"\n        ],\n        \"semantic_type\": \"\",\n        \"description\": \"\"\n      }\n    },\n    {\n      \"column\": \"Fare\",\n      \"properties\": {\n        \"dtype\": \"number\",\n        \"std\": 49.693428597180905,\n        \"min\": 0.0,\n        \"max\": 512.3292,\n        \"num_unique_values\": 248,\n        \"samples\": [\n          11.2417,\n          51.8625\n        ],\n        \"semantic_type\": \"\",\n        \"description\": \"\"\n      }\n    },\n    {\n      \"column\": \"Cabin\",\n      \"properties\": {\n        \"dtype\": \"category\",\n        \"num_unique_values\": 147,\n        \"samples\": [\n          \"D45\",\n          \"B49\"\n        ],\n        \"semantic_type\": \"\",\n        \"description\": \"\"\n      }\n    },\n    {\n      \"column\": \"Embarked\",\n      \"properties\": {\n        \"dtype\": \"category\",\n        \"num_unique_values\": 3,\n        \"samples\": [\n          \"S\",\n          \"C\"\n        ],\n        \"semantic_type\": \"\",\n        \"description\": \"\"\n      }\n    }\n  ]\n}"
            }
          },
          "metadata": {},
          "execution_count": 229
        }
      ]
    },
    {
      "cell_type": "code",
      "source": [
        "TED = pd.read_csv('test.csv')\n",
        "TED.head()"
      ],
      "metadata": {
        "colab": {
          "base_uri": "https://localhost:8080/",
          "height": 206
        },
        "id": "ngNVxZmqe6EH",
        "outputId": "64bfad7d-df52-446e-b3c4-cbbe7df23d1c"
      },
      "execution_count": 230,
      "outputs": [
        {
          "output_type": "execute_result",
          "data": {
            "text/plain": [
              "   PassengerId  Pclass                                          Name     Sex  \\\n",
              "0          892       3                              Kelly, Mr. James    male   \n",
              "1          893       3              Wilkes, Mrs. James (Ellen Needs)  female   \n",
              "2          894       2                     Myles, Mr. Thomas Francis    male   \n",
              "3          895       3                              Wirz, Mr. Albert    male   \n",
              "4          896       3  Hirvonen, Mrs. Alexander (Helga E Lindqvist)  female   \n",
              "\n",
              "    Age  SibSp  Parch   Ticket     Fare Cabin Embarked  \n",
              "0  34.5      0      0   330911   7.8292   NaN        Q  \n",
              "1  47.0      1      0   363272   7.0000   NaN        S  \n",
              "2  62.0      0      0   240276   9.6875   NaN        Q  \n",
              "3  27.0      0      0   315154   8.6625   NaN        S  \n",
              "4  22.0      1      1  3101298  12.2875   NaN        S  "
            ],
            "text/html": [
              "\n",
              "  <div id=\"df-460cf794-fe25-49b4-85bc-c31d298cb5ef\" class=\"colab-df-container\">\n",
              "    <div>\n",
              "<style scoped>\n",
              "    .dataframe tbody tr th:only-of-type {\n",
              "        vertical-align: middle;\n",
              "    }\n",
              "\n",
              "    .dataframe tbody tr th {\n",
              "        vertical-align: top;\n",
              "    }\n",
              "\n",
              "    .dataframe thead th {\n",
              "        text-align: right;\n",
              "    }\n",
              "</style>\n",
              "<table border=\"1\" class=\"dataframe\">\n",
              "  <thead>\n",
              "    <tr style=\"text-align: right;\">\n",
              "      <th></th>\n",
              "      <th>PassengerId</th>\n",
              "      <th>Pclass</th>\n",
              "      <th>Name</th>\n",
              "      <th>Sex</th>\n",
              "      <th>Age</th>\n",
              "      <th>SibSp</th>\n",
              "      <th>Parch</th>\n",
              "      <th>Ticket</th>\n",
              "      <th>Fare</th>\n",
              "      <th>Cabin</th>\n",
              "      <th>Embarked</th>\n",
              "    </tr>\n",
              "  </thead>\n",
              "  <tbody>\n",
              "    <tr>\n",
              "      <th>0</th>\n",
              "      <td>892</td>\n",
              "      <td>3</td>\n",
              "      <td>Kelly, Mr. James</td>\n",
              "      <td>male</td>\n",
              "      <td>34.5</td>\n",
              "      <td>0</td>\n",
              "      <td>0</td>\n",
              "      <td>330911</td>\n",
              "      <td>7.8292</td>\n",
              "      <td>NaN</td>\n",
              "      <td>Q</td>\n",
              "    </tr>\n",
              "    <tr>\n",
              "      <th>1</th>\n",
              "      <td>893</td>\n",
              "      <td>3</td>\n",
              "      <td>Wilkes, Mrs. James (Ellen Needs)</td>\n",
              "      <td>female</td>\n",
              "      <td>47.0</td>\n",
              "      <td>1</td>\n",
              "      <td>0</td>\n",
              "      <td>363272</td>\n",
              "      <td>7.0000</td>\n",
              "      <td>NaN</td>\n",
              "      <td>S</td>\n",
              "    </tr>\n",
              "    <tr>\n",
              "      <th>2</th>\n",
              "      <td>894</td>\n",
              "      <td>2</td>\n",
              "      <td>Myles, Mr. Thomas Francis</td>\n",
              "      <td>male</td>\n",
              "      <td>62.0</td>\n",
              "      <td>0</td>\n",
              "      <td>0</td>\n",
              "      <td>240276</td>\n",
              "      <td>9.6875</td>\n",
              "      <td>NaN</td>\n",
              "      <td>Q</td>\n",
              "    </tr>\n",
              "    <tr>\n",
              "      <th>3</th>\n",
              "      <td>895</td>\n",
              "      <td>3</td>\n",
              "      <td>Wirz, Mr. Albert</td>\n",
              "      <td>male</td>\n",
              "      <td>27.0</td>\n",
              "      <td>0</td>\n",
              "      <td>0</td>\n",
              "      <td>315154</td>\n",
              "      <td>8.6625</td>\n",
              "      <td>NaN</td>\n",
              "      <td>S</td>\n",
              "    </tr>\n",
              "    <tr>\n",
              "      <th>4</th>\n",
              "      <td>896</td>\n",
              "      <td>3</td>\n",
              "      <td>Hirvonen, Mrs. Alexander (Helga E Lindqvist)</td>\n",
              "      <td>female</td>\n",
              "      <td>22.0</td>\n",
              "      <td>1</td>\n",
              "      <td>1</td>\n",
              "      <td>3101298</td>\n",
              "      <td>12.2875</td>\n",
              "      <td>NaN</td>\n",
              "      <td>S</td>\n",
              "    </tr>\n",
              "  </tbody>\n",
              "</table>\n",
              "</div>\n",
              "    <div class=\"colab-df-buttons\">\n",
              "\n",
              "  <div class=\"colab-df-container\">\n",
              "    <button class=\"colab-df-convert\" onclick=\"convertToInteractive('df-460cf794-fe25-49b4-85bc-c31d298cb5ef')\"\n",
              "            title=\"Convert this dataframe to an interactive table.\"\n",
              "            style=\"display:none;\">\n",
              "\n",
              "  <svg xmlns=\"http://www.w3.org/2000/svg\" height=\"24px\" viewBox=\"0 -960 960 960\">\n",
              "    <path d=\"M120-120v-720h720v720H120Zm60-500h600v-160H180v160Zm220 220h160v-160H400v160Zm0 220h160v-160H400v160ZM180-400h160v-160H180v160Zm440 0h160v-160H620v160ZM180-180h160v-160H180v160Zm440 0h160v-160H620v160Z\"/>\n",
              "  </svg>\n",
              "    </button>\n",
              "\n",
              "  <style>\n",
              "    .colab-df-container {\n",
              "      display:flex;\n",
              "      gap: 12px;\n",
              "    }\n",
              "\n",
              "    .colab-df-convert {\n",
              "      background-color: #E8F0FE;\n",
              "      border: none;\n",
              "      border-radius: 50%;\n",
              "      cursor: pointer;\n",
              "      display: none;\n",
              "      fill: #1967D2;\n",
              "      height: 32px;\n",
              "      padding: 0 0 0 0;\n",
              "      width: 32px;\n",
              "    }\n",
              "\n",
              "    .colab-df-convert:hover {\n",
              "      background-color: #E2EBFA;\n",
              "      box-shadow: 0px 1px 2px rgba(60, 64, 67, 0.3), 0px 1px 3px 1px rgba(60, 64, 67, 0.15);\n",
              "      fill: #174EA6;\n",
              "    }\n",
              "\n",
              "    .colab-df-buttons div {\n",
              "      margin-bottom: 4px;\n",
              "    }\n",
              "\n",
              "    [theme=dark] .colab-df-convert {\n",
              "      background-color: #3B4455;\n",
              "      fill: #D2E3FC;\n",
              "    }\n",
              "\n",
              "    [theme=dark] .colab-df-convert:hover {\n",
              "      background-color: #434B5C;\n",
              "      box-shadow: 0px 1px 3px 1px rgba(0, 0, 0, 0.15);\n",
              "      filter: drop-shadow(0px 1px 2px rgba(0, 0, 0, 0.3));\n",
              "      fill: #FFFFFF;\n",
              "    }\n",
              "  </style>\n",
              "\n",
              "    <script>\n",
              "      const buttonEl =\n",
              "        document.querySelector('#df-460cf794-fe25-49b4-85bc-c31d298cb5ef button.colab-df-convert');\n",
              "      buttonEl.style.display =\n",
              "        google.colab.kernel.accessAllowed ? 'block' : 'none';\n",
              "\n",
              "      async function convertToInteractive(key) {\n",
              "        const element = document.querySelector('#df-460cf794-fe25-49b4-85bc-c31d298cb5ef');\n",
              "        const dataTable =\n",
              "          await google.colab.kernel.invokeFunction('convertToInteractive',\n",
              "                                                    [key], {});\n",
              "        if (!dataTable) return;\n",
              "\n",
              "        const docLinkHtml = 'Like what you see? Visit the ' +\n",
              "          '<a target=\"_blank\" href=https://colab.research.google.com/notebooks/data_table.ipynb>data table notebook</a>'\n",
              "          + ' to learn more about interactive tables.';\n",
              "        element.innerHTML = '';\n",
              "        dataTable['output_type'] = 'display_data';\n",
              "        await google.colab.output.renderOutput(dataTable, element);\n",
              "        const docLink = document.createElement('div');\n",
              "        docLink.innerHTML = docLinkHtml;\n",
              "        element.appendChild(docLink);\n",
              "      }\n",
              "    </script>\n",
              "  </div>\n",
              "\n",
              "\n",
              "    <div id=\"df-b0c77334-e229-44e9-996f-35b2d85a4e78\">\n",
              "      <button class=\"colab-df-quickchart\" onclick=\"quickchart('df-b0c77334-e229-44e9-996f-35b2d85a4e78')\"\n",
              "                title=\"Suggest charts\"\n",
              "                style=\"display:none;\">\n",
              "\n",
              "<svg xmlns=\"http://www.w3.org/2000/svg\" height=\"24px\"viewBox=\"0 0 24 24\"\n",
              "     width=\"24px\">\n",
              "    <g>\n",
              "        <path d=\"M19 3H5c-1.1 0-2 .9-2 2v14c0 1.1.9 2 2 2h14c1.1 0 2-.9 2-2V5c0-1.1-.9-2-2-2zM9 17H7v-7h2v7zm4 0h-2V7h2v10zm4 0h-2v-4h2v4z\"/>\n",
              "    </g>\n",
              "</svg>\n",
              "      </button>\n",
              "\n",
              "<style>\n",
              "  .colab-df-quickchart {\n",
              "      --bg-color: #E8F0FE;\n",
              "      --fill-color: #1967D2;\n",
              "      --hover-bg-color: #E2EBFA;\n",
              "      --hover-fill-color: #174EA6;\n",
              "      --disabled-fill-color: #AAA;\n",
              "      --disabled-bg-color: #DDD;\n",
              "  }\n",
              "\n",
              "  [theme=dark] .colab-df-quickchart {\n",
              "      --bg-color: #3B4455;\n",
              "      --fill-color: #D2E3FC;\n",
              "      --hover-bg-color: #434B5C;\n",
              "      --hover-fill-color: #FFFFFF;\n",
              "      --disabled-bg-color: #3B4455;\n",
              "      --disabled-fill-color: #666;\n",
              "  }\n",
              "\n",
              "  .colab-df-quickchart {\n",
              "    background-color: var(--bg-color);\n",
              "    border: none;\n",
              "    border-radius: 50%;\n",
              "    cursor: pointer;\n",
              "    display: none;\n",
              "    fill: var(--fill-color);\n",
              "    height: 32px;\n",
              "    padding: 0;\n",
              "    width: 32px;\n",
              "  }\n",
              "\n",
              "  .colab-df-quickchart:hover {\n",
              "    background-color: var(--hover-bg-color);\n",
              "    box-shadow: 0 1px 2px rgba(60, 64, 67, 0.3), 0 1px 3px 1px rgba(60, 64, 67, 0.15);\n",
              "    fill: var(--button-hover-fill-color);\n",
              "  }\n",
              "\n",
              "  .colab-df-quickchart-complete:disabled,\n",
              "  .colab-df-quickchart-complete:disabled:hover {\n",
              "    background-color: var(--disabled-bg-color);\n",
              "    fill: var(--disabled-fill-color);\n",
              "    box-shadow: none;\n",
              "  }\n",
              "\n",
              "  .colab-df-spinner {\n",
              "    border: 2px solid var(--fill-color);\n",
              "    border-color: transparent;\n",
              "    border-bottom-color: var(--fill-color);\n",
              "    animation:\n",
              "      spin 1s steps(1) infinite;\n",
              "  }\n",
              "\n",
              "  @keyframes spin {\n",
              "    0% {\n",
              "      border-color: transparent;\n",
              "      border-bottom-color: var(--fill-color);\n",
              "      border-left-color: var(--fill-color);\n",
              "    }\n",
              "    20% {\n",
              "      border-color: transparent;\n",
              "      border-left-color: var(--fill-color);\n",
              "      border-top-color: var(--fill-color);\n",
              "    }\n",
              "    30% {\n",
              "      border-color: transparent;\n",
              "      border-left-color: var(--fill-color);\n",
              "      border-top-color: var(--fill-color);\n",
              "      border-right-color: var(--fill-color);\n",
              "    }\n",
              "    40% {\n",
              "      border-color: transparent;\n",
              "      border-right-color: var(--fill-color);\n",
              "      border-top-color: var(--fill-color);\n",
              "    }\n",
              "    60% {\n",
              "      border-color: transparent;\n",
              "      border-right-color: var(--fill-color);\n",
              "    }\n",
              "    80% {\n",
              "      border-color: transparent;\n",
              "      border-right-color: var(--fill-color);\n",
              "      border-bottom-color: var(--fill-color);\n",
              "    }\n",
              "    90% {\n",
              "      border-color: transparent;\n",
              "      border-bottom-color: var(--fill-color);\n",
              "    }\n",
              "  }\n",
              "</style>\n",
              "\n",
              "      <script>\n",
              "        async function quickchart(key) {\n",
              "          const quickchartButtonEl =\n",
              "            document.querySelector('#' + key + ' button');\n",
              "          quickchartButtonEl.disabled = true;  // To prevent multiple clicks.\n",
              "          quickchartButtonEl.classList.add('colab-df-spinner');\n",
              "          try {\n",
              "            const charts = await google.colab.kernel.invokeFunction(\n",
              "                'suggestCharts', [key], {});\n",
              "          } catch (error) {\n",
              "            console.error('Error during call to suggestCharts:', error);\n",
              "          }\n",
              "          quickchartButtonEl.classList.remove('colab-df-spinner');\n",
              "          quickchartButtonEl.classList.add('colab-df-quickchart-complete');\n",
              "        }\n",
              "        (() => {\n",
              "          let quickchartButtonEl =\n",
              "            document.querySelector('#df-b0c77334-e229-44e9-996f-35b2d85a4e78 button');\n",
              "          quickchartButtonEl.style.display =\n",
              "            google.colab.kernel.accessAllowed ? 'block' : 'none';\n",
              "        })();\n",
              "      </script>\n",
              "    </div>\n",
              "\n",
              "    </div>\n",
              "  </div>\n"
            ],
            "application/vnd.google.colaboratory.intrinsic+json": {
              "type": "dataframe",
              "variable_name": "TED",
              "summary": "{\n  \"name\": \"TED\",\n  \"rows\": 418,\n  \"fields\": [\n    {\n      \"column\": \"PassengerId\",\n      \"properties\": {\n        \"dtype\": \"number\",\n        \"std\": 120,\n        \"min\": 892,\n        \"max\": 1309,\n        \"num_unique_values\": 418,\n        \"samples\": [\n          1213,\n          1216,\n          1280\n        ],\n        \"semantic_type\": \"\",\n        \"description\": \"\"\n      }\n    },\n    {\n      \"column\": \"Pclass\",\n      \"properties\": {\n        \"dtype\": \"number\",\n        \"std\": 0,\n        \"min\": 1,\n        \"max\": 3,\n        \"num_unique_values\": 3,\n        \"samples\": [\n          3,\n          2,\n          1\n        ],\n        \"semantic_type\": \"\",\n        \"description\": \"\"\n      }\n    },\n    {\n      \"column\": \"Name\",\n      \"properties\": {\n        \"dtype\": \"string\",\n        \"num_unique_values\": 418,\n        \"samples\": [\n          \"Krekorian, Mr. Neshan\",\n          \"Kreuchen, Miss. Emilie\",\n          \"Canavan, Mr. Patrick\"\n        ],\n        \"semantic_type\": \"\",\n        \"description\": \"\"\n      }\n    },\n    {\n      \"column\": \"Sex\",\n      \"properties\": {\n        \"dtype\": \"category\",\n        \"num_unique_values\": 2,\n        \"samples\": [\n          \"female\",\n          \"male\"\n        ],\n        \"semantic_type\": \"\",\n        \"description\": \"\"\n      }\n    },\n    {\n      \"column\": \"Age\",\n      \"properties\": {\n        \"dtype\": \"number\",\n        \"std\": 14.18120923562442,\n        \"min\": 0.17,\n        \"max\": 76.0,\n        \"num_unique_values\": 79,\n        \"samples\": [\n          10.0,\n          34.5\n        ],\n        \"semantic_type\": \"\",\n        \"description\": \"\"\n      }\n    },\n    {\n      \"column\": \"SibSp\",\n      \"properties\": {\n        \"dtype\": \"number\",\n        \"std\": 0,\n        \"min\": 0,\n        \"max\": 8,\n        \"num_unique_values\": 7,\n        \"samples\": [\n          0,\n          1\n        ],\n        \"semantic_type\": \"\",\n        \"description\": \"\"\n      }\n    },\n    {\n      \"column\": \"Parch\",\n      \"properties\": {\n        \"dtype\": \"number\",\n        \"std\": 0,\n        \"min\": 0,\n        \"max\": 9,\n        \"num_unique_values\": 8,\n        \"samples\": [\n          1,\n          6\n        ],\n        \"semantic_type\": \"\",\n        \"description\": \"\"\n      }\n    },\n    {\n      \"column\": \"Ticket\",\n      \"properties\": {\n        \"dtype\": \"string\",\n        \"num_unique_values\": 363,\n        \"samples\": [\n          \"2673\",\n          \"W./C. 6607\"\n        ],\n        \"semantic_type\": \"\",\n        \"description\": \"\"\n      }\n    },\n    {\n      \"column\": \"Fare\",\n      \"properties\": {\n        \"dtype\": \"number\",\n        \"std\": 55.90757617997383,\n        \"min\": 0.0,\n        \"max\": 512.3292,\n        \"num_unique_values\": 169,\n        \"samples\": [\n          41.5792,\n          57.75\n        ],\n        \"semantic_type\": \"\",\n        \"description\": \"\"\n      }\n    },\n    {\n      \"column\": \"Cabin\",\n      \"properties\": {\n        \"dtype\": \"category\",\n        \"num_unique_values\": 76,\n        \"samples\": [\n          \"A21\",\n          \"E45\"\n        ],\n        \"semantic_type\": \"\",\n        \"description\": \"\"\n      }\n    },\n    {\n      \"column\": \"Embarked\",\n      \"properties\": {\n        \"dtype\": \"category\",\n        \"num_unique_values\": 3,\n        \"samples\": [\n          \"Q\",\n          \"S\"\n        ],\n        \"semantic_type\": \"\",\n        \"description\": \"\"\n      }\n    }\n  ]\n}"
            }
          },
          "metadata": {},
          "execution_count": 230
        }
      ]
    },
    {
      "cell_type": "markdown",
      "metadata": {
        "id": "nhfKXNxlSabC"
      },
      "source": [
        "## Taking care of missing data"
      ]
    },
    {
      "cell_type": "code",
      "source": [
        "TRDMV = TRD.isnull().sum()\n",
        "TEDMV = TED.isnull().sum()"
      ],
      "metadata": {
        "id": "J4ROm9k5QZrr"
      },
      "execution_count": 233,
      "outputs": []
    },
    {
      "cell_type": "code",
      "source": [
        "print(TRDMV)"
      ],
      "metadata": {
        "colab": {
          "base_uri": "https://localhost:8080/"
        },
        "id": "dUGg9QZVQy7V",
        "outputId": "4fd5a509-4f5c-4d9f-886c-13119f9b4b27"
      },
      "execution_count": 234,
      "outputs": [
        {
          "output_type": "stream",
          "name": "stdout",
          "text": [
            "PassengerId      0\n",
            "Survived         0\n",
            "Pclass           0\n",
            "Name             0\n",
            "Sex              0\n",
            "Age            177\n",
            "SibSp            0\n",
            "Parch            0\n",
            "Ticket           0\n",
            "Fare             0\n",
            "Cabin          687\n",
            "Embarked         2\n",
            "dtype: int64\n"
          ]
        }
      ]
    },
    {
      "cell_type": "code",
      "source": [
        "print(TEDMV)"
      ],
      "metadata": {
        "colab": {
          "base_uri": "https://localhost:8080/"
        },
        "id": "N036xjJlQ1Dv",
        "outputId": "4020bf08-a6b3-4ecc-c0fa-e0489b45fdc0"
      },
      "execution_count": 235,
      "outputs": [
        {
          "output_type": "stream",
          "name": "stdout",
          "text": [
            "PassengerId      0\n",
            "Pclass           0\n",
            "Name             0\n",
            "Sex              0\n",
            "Age             86\n",
            "SibSp            0\n",
            "Parch            0\n",
            "Ticket           0\n",
            "Fare             1\n",
            "Cabin          327\n",
            "Embarked         0\n",
            "dtype: int64\n"
          ]
        }
      ]
    },
    {
      "cell_type": "code",
      "source": [
        "from sklearn.impute import SimpleImputer\n",
        "\n",
        "A = TRD[\"Age\"].values.reshape(-1, 1)\n",
        "MV = SimpleImputer(missing_values=np.nan, strategy='mean')\n",
        "MV.fit(A)\n",
        "TRD['Age'] = MV.transform(A)\n",
        "print (A)"
      ],
      "metadata": {
        "colab": {
          "base_uri": "https://localhost:8080/"
        },
        "id": "imE-2Rm8GuGR",
        "outputId": "d72220d6-089a-4986-eff2-cac41302a9c6"
      },
      "execution_count": 236,
      "outputs": [
        {
          "output_type": "stream",
          "name": "stdout",
          "text": [
            "[[22.  ]\n",
            " [38.  ]\n",
            " [26.  ]\n",
            " [35.  ]\n",
            " [35.  ]\n",
            " [  nan]\n",
            " [54.  ]\n",
            " [ 2.  ]\n",
            " [27.  ]\n",
            " [14.  ]\n",
            " [ 4.  ]\n",
            " [58.  ]\n",
            " [20.  ]\n",
            " [39.  ]\n",
            " [14.  ]\n",
            " [55.  ]\n",
            " [ 2.  ]\n",
            " [  nan]\n",
            " [31.  ]\n",
            " [  nan]\n",
            " [35.  ]\n",
            " [34.  ]\n",
            " [15.  ]\n",
            " [28.  ]\n",
            " [ 8.  ]\n",
            " [38.  ]\n",
            " [  nan]\n",
            " [19.  ]\n",
            " [  nan]\n",
            " [  nan]\n",
            " [40.  ]\n",
            " [  nan]\n",
            " [  nan]\n",
            " [66.  ]\n",
            " [28.  ]\n",
            " [42.  ]\n",
            " [  nan]\n",
            " [21.  ]\n",
            " [18.  ]\n",
            " [14.  ]\n",
            " [40.  ]\n",
            " [27.  ]\n",
            " [  nan]\n",
            " [ 3.  ]\n",
            " [19.  ]\n",
            " [  nan]\n",
            " [  nan]\n",
            " [  nan]\n",
            " [  nan]\n",
            " [18.  ]\n",
            " [ 7.  ]\n",
            " [21.  ]\n",
            " [49.  ]\n",
            " [29.  ]\n",
            " [65.  ]\n",
            " [  nan]\n",
            " [21.  ]\n",
            " [28.5 ]\n",
            " [ 5.  ]\n",
            " [11.  ]\n",
            " [22.  ]\n",
            " [38.  ]\n",
            " [45.  ]\n",
            " [ 4.  ]\n",
            " [  nan]\n",
            " [  nan]\n",
            " [29.  ]\n",
            " [19.  ]\n",
            " [17.  ]\n",
            " [26.  ]\n",
            " [32.  ]\n",
            " [16.  ]\n",
            " [21.  ]\n",
            " [26.  ]\n",
            " [32.  ]\n",
            " [25.  ]\n",
            " [  nan]\n",
            " [  nan]\n",
            " [ 0.83]\n",
            " [30.  ]\n",
            " [22.  ]\n",
            " [29.  ]\n",
            " [  nan]\n",
            " [28.  ]\n",
            " [17.  ]\n",
            " [33.  ]\n",
            " [16.  ]\n",
            " [  nan]\n",
            " [23.  ]\n",
            " [24.  ]\n",
            " [29.  ]\n",
            " [20.  ]\n",
            " [46.  ]\n",
            " [26.  ]\n",
            " [59.  ]\n",
            " [  nan]\n",
            " [71.  ]\n",
            " [23.  ]\n",
            " [34.  ]\n",
            " [34.  ]\n",
            " [28.  ]\n",
            " [  nan]\n",
            " [21.  ]\n",
            " [33.  ]\n",
            " [37.  ]\n",
            " [28.  ]\n",
            " [21.  ]\n",
            " [  nan]\n",
            " [38.  ]\n",
            " [  nan]\n",
            " [47.  ]\n",
            " [14.5 ]\n",
            " [22.  ]\n",
            " [20.  ]\n",
            " [17.  ]\n",
            " [21.  ]\n",
            " [70.5 ]\n",
            " [29.  ]\n",
            " [24.  ]\n",
            " [ 2.  ]\n",
            " [21.  ]\n",
            " [  nan]\n",
            " [32.5 ]\n",
            " [32.5 ]\n",
            " [54.  ]\n",
            " [12.  ]\n",
            " [  nan]\n",
            " [24.  ]\n",
            " [  nan]\n",
            " [45.  ]\n",
            " [33.  ]\n",
            " [20.  ]\n",
            " [47.  ]\n",
            " [29.  ]\n",
            " [25.  ]\n",
            " [23.  ]\n",
            " [19.  ]\n",
            " [37.  ]\n",
            " [16.  ]\n",
            " [24.  ]\n",
            " [  nan]\n",
            " [22.  ]\n",
            " [24.  ]\n",
            " [19.  ]\n",
            " [18.  ]\n",
            " [19.  ]\n",
            " [27.  ]\n",
            " [ 9.  ]\n",
            " [36.5 ]\n",
            " [42.  ]\n",
            " [51.  ]\n",
            " [22.  ]\n",
            " [55.5 ]\n",
            " [40.5 ]\n",
            " [  nan]\n",
            " [51.  ]\n",
            " [16.  ]\n",
            " [30.  ]\n",
            " [  nan]\n",
            " [  nan]\n",
            " [44.  ]\n",
            " [40.  ]\n",
            " [26.  ]\n",
            " [17.  ]\n",
            " [ 1.  ]\n",
            " [ 9.  ]\n",
            " [  nan]\n",
            " [45.  ]\n",
            " [  nan]\n",
            " [28.  ]\n",
            " [61.  ]\n",
            " [ 4.  ]\n",
            " [ 1.  ]\n",
            " [21.  ]\n",
            " [56.  ]\n",
            " [18.  ]\n",
            " [  nan]\n",
            " [50.  ]\n",
            " [30.  ]\n",
            " [36.  ]\n",
            " [  nan]\n",
            " [  nan]\n",
            " [ 9.  ]\n",
            " [ 1.  ]\n",
            " [ 4.  ]\n",
            " [  nan]\n",
            " [  nan]\n",
            " [45.  ]\n",
            " [40.  ]\n",
            " [36.  ]\n",
            " [32.  ]\n",
            " [19.  ]\n",
            " [19.  ]\n",
            " [ 3.  ]\n",
            " [44.  ]\n",
            " [58.  ]\n",
            " [  nan]\n",
            " [42.  ]\n",
            " [  nan]\n",
            " [24.  ]\n",
            " [28.  ]\n",
            " [  nan]\n",
            " [34.  ]\n",
            " [45.5 ]\n",
            " [18.  ]\n",
            " [ 2.  ]\n",
            " [32.  ]\n",
            " [26.  ]\n",
            " [16.  ]\n",
            " [40.  ]\n",
            " [24.  ]\n",
            " [35.  ]\n",
            " [22.  ]\n",
            " [30.  ]\n",
            " [  nan]\n",
            " [31.  ]\n",
            " [27.  ]\n",
            " [42.  ]\n",
            " [32.  ]\n",
            " [30.  ]\n",
            " [16.  ]\n",
            " [27.  ]\n",
            " [51.  ]\n",
            " [  nan]\n",
            " [38.  ]\n",
            " [22.  ]\n",
            " [19.  ]\n",
            " [20.5 ]\n",
            " [18.  ]\n",
            " [  nan]\n",
            " [35.  ]\n",
            " [29.  ]\n",
            " [59.  ]\n",
            " [ 5.  ]\n",
            " [24.  ]\n",
            " [  nan]\n",
            " [44.  ]\n",
            " [ 8.  ]\n",
            " [19.  ]\n",
            " [33.  ]\n",
            " [  nan]\n",
            " [  nan]\n",
            " [29.  ]\n",
            " [22.  ]\n",
            " [30.  ]\n",
            " [44.  ]\n",
            " [25.  ]\n",
            " [24.  ]\n",
            " [37.  ]\n",
            " [54.  ]\n",
            " [  nan]\n",
            " [29.  ]\n",
            " [62.  ]\n",
            " [30.  ]\n",
            " [41.  ]\n",
            " [29.  ]\n",
            " [  nan]\n",
            " [30.  ]\n",
            " [35.  ]\n",
            " [50.  ]\n",
            " [  nan]\n",
            " [ 3.  ]\n",
            " [52.  ]\n",
            " [40.  ]\n",
            " [  nan]\n",
            " [36.  ]\n",
            " [16.  ]\n",
            " [25.  ]\n",
            " [58.  ]\n",
            " [35.  ]\n",
            " [  nan]\n",
            " [25.  ]\n",
            " [41.  ]\n",
            " [37.  ]\n",
            " [  nan]\n",
            " [63.  ]\n",
            " [45.  ]\n",
            " [  nan]\n",
            " [ 7.  ]\n",
            " [35.  ]\n",
            " [65.  ]\n",
            " [28.  ]\n",
            " [16.  ]\n",
            " [19.  ]\n",
            " [  nan]\n",
            " [33.  ]\n",
            " [30.  ]\n",
            " [22.  ]\n",
            " [42.  ]\n",
            " [22.  ]\n",
            " [26.  ]\n",
            " [19.  ]\n",
            " [36.  ]\n",
            " [24.  ]\n",
            " [24.  ]\n",
            " [  nan]\n",
            " [23.5 ]\n",
            " [ 2.  ]\n",
            " [  nan]\n",
            " [50.  ]\n",
            " [  nan]\n",
            " [  nan]\n",
            " [19.  ]\n",
            " [  nan]\n",
            " [  nan]\n",
            " [ 0.92]\n",
            " [  nan]\n",
            " [17.  ]\n",
            " [30.  ]\n",
            " [30.  ]\n",
            " [24.  ]\n",
            " [18.  ]\n",
            " [26.  ]\n",
            " [28.  ]\n",
            " [43.  ]\n",
            " [26.  ]\n",
            " [24.  ]\n",
            " [54.  ]\n",
            " [31.  ]\n",
            " [40.  ]\n",
            " [22.  ]\n",
            " [27.  ]\n",
            " [30.  ]\n",
            " [22.  ]\n",
            " [  nan]\n",
            " [36.  ]\n",
            " [61.  ]\n",
            " [36.  ]\n",
            " [31.  ]\n",
            " [16.  ]\n",
            " [  nan]\n",
            " [45.5 ]\n",
            " [38.  ]\n",
            " [16.  ]\n",
            " [  nan]\n",
            " [  nan]\n",
            " [29.  ]\n",
            " [41.  ]\n",
            " [45.  ]\n",
            " [45.  ]\n",
            " [ 2.  ]\n",
            " [24.  ]\n",
            " [28.  ]\n",
            " [25.  ]\n",
            " [36.  ]\n",
            " [24.  ]\n",
            " [40.  ]\n",
            " [  nan]\n",
            " [ 3.  ]\n",
            " [42.  ]\n",
            " [23.  ]\n",
            " [  nan]\n",
            " [15.  ]\n",
            " [25.  ]\n",
            " [  nan]\n",
            " [28.  ]\n",
            " [22.  ]\n",
            " [38.  ]\n",
            " [  nan]\n",
            " [  nan]\n",
            " [40.  ]\n",
            " [29.  ]\n",
            " [45.  ]\n",
            " [35.  ]\n",
            " [  nan]\n",
            " [30.  ]\n",
            " [60.  ]\n",
            " [  nan]\n",
            " [  nan]\n",
            " [24.  ]\n",
            " [25.  ]\n",
            " [18.  ]\n",
            " [19.  ]\n",
            " [22.  ]\n",
            " [ 3.  ]\n",
            " [  nan]\n",
            " [22.  ]\n",
            " [27.  ]\n",
            " [20.  ]\n",
            " [19.  ]\n",
            " [42.  ]\n",
            " [ 1.  ]\n",
            " [32.  ]\n",
            " [35.  ]\n",
            " [  nan]\n",
            " [18.  ]\n",
            " [ 1.  ]\n",
            " [36.  ]\n",
            " [  nan]\n",
            " [17.  ]\n",
            " [36.  ]\n",
            " [21.  ]\n",
            " [28.  ]\n",
            " [23.  ]\n",
            " [24.  ]\n",
            " [22.  ]\n",
            " [31.  ]\n",
            " [46.  ]\n",
            " [23.  ]\n",
            " [28.  ]\n",
            " [39.  ]\n",
            " [26.  ]\n",
            " [21.  ]\n",
            " [28.  ]\n",
            " [20.  ]\n",
            " [34.  ]\n",
            " [51.  ]\n",
            " [ 3.  ]\n",
            " [21.  ]\n",
            " [  nan]\n",
            " [  nan]\n",
            " [  nan]\n",
            " [33.  ]\n",
            " [  nan]\n",
            " [44.  ]\n",
            " [  nan]\n",
            " [34.  ]\n",
            " [18.  ]\n",
            " [30.  ]\n",
            " [10.  ]\n",
            " [  nan]\n",
            " [21.  ]\n",
            " [29.  ]\n",
            " [28.  ]\n",
            " [18.  ]\n",
            " [  nan]\n",
            " [28.  ]\n",
            " [19.  ]\n",
            " [  nan]\n",
            " [32.  ]\n",
            " [28.  ]\n",
            " [  nan]\n",
            " [42.  ]\n",
            " [17.  ]\n",
            " [50.  ]\n",
            " [14.  ]\n",
            " [21.  ]\n",
            " [24.  ]\n",
            " [64.  ]\n",
            " [31.  ]\n",
            " [45.  ]\n",
            " [20.  ]\n",
            " [25.  ]\n",
            " [28.  ]\n",
            " [  nan]\n",
            " [ 4.  ]\n",
            " [13.  ]\n",
            " [34.  ]\n",
            " [ 5.  ]\n",
            " [52.  ]\n",
            " [36.  ]\n",
            " [  nan]\n",
            " [30.  ]\n",
            " [49.  ]\n",
            " [  nan]\n",
            " [29.  ]\n",
            " [65.  ]\n",
            " [  nan]\n",
            " [50.  ]\n",
            " [  nan]\n",
            " [48.  ]\n",
            " [34.  ]\n",
            " [47.  ]\n",
            " [48.  ]\n",
            " [  nan]\n",
            " [38.  ]\n",
            " [  nan]\n",
            " [56.  ]\n",
            " [  nan]\n",
            " [ 0.75]\n",
            " [  nan]\n",
            " [38.  ]\n",
            " [33.  ]\n",
            " [23.  ]\n",
            " [22.  ]\n",
            " [  nan]\n",
            " [34.  ]\n",
            " [29.  ]\n",
            " [22.  ]\n",
            " [ 2.  ]\n",
            " [ 9.  ]\n",
            " [  nan]\n",
            " [50.  ]\n",
            " [63.  ]\n",
            " [25.  ]\n",
            " [  nan]\n",
            " [35.  ]\n",
            " [58.  ]\n",
            " [30.  ]\n",
            " [ 9.  ]\n",
            " [  nan]\n",
            " [21.  ]\n",
            " [55.  ]\n",
            " [71.  ]\n",
            " [21.  ]\n",
            " [  nan]\n",
            " [54.  ]\n",
            " [  nan]\n",
            " [25.  ]\n",
            " [24.  ]\n",
            " [17.  ]\n",
            " [21.  ]\n",
            " [  nan]\n",
            " [37.  ]\n",
            " [16.  ]\n",
            " [18.  ]\n",
            " [33.  ]\n",
            " [  nan]\n",
            " [28.  ]\n",
            " [26.  ]\n",
            " [29.  ]\n",
            " [  nan]\n",
            " [36.  ]\n",
            " [54.  ]\n",
            " [24.  ]\n",
            " [47.  ]\n",
            " [34.  ]\n",
            " [  nan]\n",
            " [36.  ]\n",
            " [32.  ]\n",
            " [30.  ]\n",
            " [22.  ]\n",
            " [  nan]\n",
            " [44.  ]\n",
            " [  nan]\n",
            " [40.5 ]\n",
            " [50.  ]\n",
            " [  nan]\n",
            " [39.  ]\n",
            " [23.  ]\n",
            " [ 2.  ]\n",
            " [  nan]\n",
            " [17.  ]\n",
            " [  nan]\n",
            " [30.  ]\n",
            " [ 7.  ]\n",
            " [45.  ]\n",
            " [30.  ]\n",
            " [  nan]\n",
            " [22.  ]\n",
            " [36.  ]\n",
            " [ 9.  ]\n",
            " [11.  ]\n",
            " [32.  ]\n",
            " [50.  ]\n",
            " [64.  ]\n",
            " [19.  ]\n",
            " [  nan]\n",
            " [33.  ]\n",
            " [ 8.  ]\n",
            " [17.  ]\n",
            " [27.  ]\n",
            " [  nan]\n",
            " [22.  ]\n",
            " [22.  ]\n",
            " [62.  ]\n",
            " [48.  ]\n",
            " [  nan]\n",
            " [39.  ]\n",
            " [36.  ]\n",
            " [  nan]\n",
            " [40.  ]\n",
            " [28.  ]\n",
            " [  nan]\n",
            " [  nan]\n",
            " [24.  ]\n",
            " [19.  ]\n",
            " [29.  ]\n",
            " [  nan]\n",
            " [32.  ]\n",
            " [62.  ]\n",
            " [53.  ]\n",
            " [36.  ]\n",
            " [  nan]\n",
            " [16.  ]\n",
            " [19.  ]\n",
            " [34.  ]\n",
            " [39.  ]\n",
            " [  nan]\n",
            " [32.  ]\n",
            " [25.  ]\n",
            " [39.  ]\n",
            " [54.  ]\n",
            " [36.  ]\n",
            " [  nan]\n",
            " [18.  ]\n",
            " [47.  ]\n",
            " [60.  ]\n",
            " [22.  ]\n",
            " [  nan]\n",
            " [35.  ]\n",
            " [52.  ]\n",
            " [47.  ]\n",
            " [  nan]\n",
            " [37.  ]\n",
            " [36.  ]\n",
            " [  nan]\n",
            " [49.  ]\n",
            " [  nan]\n",
            " [49.  ]\n",
            " [24.  ]\n",
            " [  nan]\n",
            " [  nan]\n",
            " [44.  ]\n",
            " [35.  ]\n",
            " [36.  ]\n",
            " [30.  ]\n",
            " [27.  ]\n",
            " [22.  ]\n",
            " [40.  ]\n",
            " [39.  ]\n",
            " [  nan]\n",
            " [  nan]\n",
            " [  nan]\n",
            " [35.  ]\n",
            " [24.  ]\n",
            " [34.  ]\n",
            " [26.  ]\n",
            " [ 4.  ]\n",
            " [26.  ]\n",
            " [27.  ]\n",
            " [42.  ]\n",
            " [20.  ]\n",
            " [21.  ]\n",
            " [21.  ]\n",
            " [61.  ]\n",
            " [57.  ]\n",
            " [21.  ]\n",
            " [26.  ]\n",
            " [  nan]\n",
            " [80.  ]\n",
            " [51.  ]\n",
            " [32.  ]\n",
            " [  nan]\n",
            " [ 9.  ]\n",
            " [28.  ]\n",
            " [32.  ]\n",
            " [31.  ]\n",
            " [41.  ]\n",
            " [  nan]\n",
            " [20.  ]\n",
            " [24.  ]\n",
            " [ 2.  ]\n",
            " [  nan]\n",
            " [ 0.75]\n",
            " [48.  ]\n",
            " [19.  ]\n",
            " [56.  ]\n",
            " [  nan]\n",
            " [23.  ]\n",
            " [  nan]\n",
            " [18.  ]\n",
            " [21.  ]\n",
            " [  nan]\n",
            " [18.  ]\n",
            " [24.  ]\n",
            " [  nan]\n",
            " [32.  ]\n",
            " [23.  ]\n",
            " [58.  ]\n",
            " [50.  ]\n",
            " [40.  ]\n",
            " [47.  ]\n",
            " [36.  ]\n",
            " [20.  ]\n",
            " [32.  ]\n",
            " [25.  ]\n",
            " [  nan]\n",
            " [43.  ]\n",
            " [  nan]\n",
            " [40.  ]\n",
            " [31.  ]\n",
            " [70.  ]\n",
            " [31.  ]\n",
            " [  nan]\n",
            " [18.  ]\n",
            " [24.5 ]\n",
            " [18.  ]\n",
            " [43.  ]\n",
            " [36.  ]\n",
            " [  nan]\n",
            " [27.  ]\n",
            " [20.  ]\n",
            " [14.  ]\n",
            " [60.  ]\n",
            " [25.  ]\n",
            " [14.  ]\n",
            " [19.  ]\n",
            " [18.  ]\n",
            " [15.  ]\n",
            " [31.  ]\n",
            " [ 4.  ]\n",
            " [  nan]\n",
            " [25.  ]\n",
            " [60.  ]\n",
            " [52.  ]\n",
            " [44.  ]\n",
            " [  nan]\n",
            " [49.  ]\n",
            " [42.  ]\n",
            " [18.  ]\n",
            " [35.  ]\n",
            " [18.  ]\n",
            " [25.  ]\n",
            " [26.  ]\n",
            " [39.  ]\n",
            " [45.  ]\n",
            " [42.  ]\n",
            " [22.  ]\n",
            " [  nan]\n",
            " [24.  ]\n",
            " [  nan]\n",
            " [48.  ]\n",
            " [29.  ]\n",
            " [52.  ]\n",
            " [19.  ]\n",
            " [38.  ]\n",
            " [27.  ]\n",
            " [  nan]\n",
            " [33.  ]\n",
            " [ 6.  ]\n",
            " [17.  ]\n",
            " [34.  ]\n",
            " [50.  ]\n",
            " [27.  ]\n",
            " [20.  ]\n",
            " [30.  ]\n",
            " [  nan]\n",
            " [25.  ]\n",
            " [25.  ]\n",
            " [29.  ]\n",
            " [11.  ]\n",
            " [  nan]\n",
            " [23.  ]\n",
            " [23.  ]\n",
            " [28.5 ]\n",
            " [48.  ]\n",
            " [35.  ]\n",
            " [  nan]\n",
            " [  nan]\n",
            " [  nan]\n",
            " [36.  ]\n",
            " [21.  ]\n",
            " [24.  ]\n",
            " [31.  ]\n",
            " [70.  ]\n",
            " [16.  ]\n",
            " [30.  ]\n",
            " [19.  ]\n",
            " [31.  ]\n",
            " [ 4.  ]\n",
            " [ 6.  ]\n",
            " [33.  ]\n",
            " [23.  ]\n",
            " [48.  ]\n",
            " [ 0.67]\n",
            " [28.  ]\n",
            " [18.  ]\n",
            " [34.  ]\n",
            " [33.  ]\n",
            " [  nan]\n",
            " [41.  ]\n",
            " [20.  ]\n",
            " [36.  ]\n",
            " [16.  ]\n",
            " [51.  ]\n",
            " [  nan]\n",
            " [30.5 ]\n",
            " [  nan]\n",
            " [32.  ]\n",
            " [24.  ]\n",
            " [48.  ]\n",
            " [57.  ]\n",
            " [  nan]\n",
            " [54.  ]\n",
            " [18.  ]\n",
            " [  nan]\n",
            " [ 5.  ]\n",
            " [  nan]\n",
            " [43.  ]\n",
            " [13.  ]\n",
            " [17.  ]\n",
            " [29.  ]\n",
            " [  nan]\n",
            " [25.  ]\n",
            " [25.  ]\n",
            " [18.  ]\n",
            " [ 8.  ]\n",
            " [ 1.  ]\n",
            " [46.  ]\n",
            " [  nan]\n",
            " [16.  ]\n",
            " [  nan]\n",
            " [  nan]\n",
            " [25.  ]\n",
            " [39.  ]\n",
            " [49.  ]\n",
            " [31.  ]\n",
            " [30.  ]\n",
            " [30.  ]\n",
            " [34.  ]\n",
            " [31.  ]\n",
            " [11.  ]\n",
            " [ 0.42]\n",
            " [27.  ]\n",
            " [31.  ]\n",
            " [39.  ]\n",
            " [18.  ]\n",
            " [39.  ]\n",
            " [33.  ]\n",
            " [26.  ]\n",
            " [39.  ]\n",
            " [35.  ]\n",
            " [ 6.  ]\n",
            " [30.5 ]\n",
            " [  nan]\n",
            " [23.  ]\n",
            " [31.  ]\n",
            " [43.  ]\n",
            " [10.  ]\n",
            " [52.  ]\n",
            " [27.  ]\n",
            " [38.  ]\n",
            " [27.  ]\n",
            " [ 2.  ]\n",
            " [  nan]\n",
            " [  nan]\n",
            " [ 1.  ]\n",
            " [  nan]\n",
            " [62.  ]\n",
            " [15.  ]\n",
            " [ 0.83]\n",
            " [  nan]\n",
            " [23.  ]\n",
            " [18.  ]\n",
            " [39.  ]\n",
            " [21.  ]\n",
            " [  nan]\n",
            " [32.  ]\n",
            " [  nan]\n",
            " [20.  ]\n",
            " [16.  ]\n",
            " [30.  ]\n",
            " [34.5 ]\n",
            " [17.  ]\n",
            " [42.  ]\n",
            " [  nan]\n",
            " [35.  ]\n",
            " [28.  ]\n",
            " [  nan]\n",
            " [ 4.  ]\n",
            " [74.  ]\n",
            " [ 9.  ]\n",
            " [16.  ]\n",
            " [44.  ]\n",
            " [18.  ]\n",
            " [45.  ]\n",
            " [51.  ]\n",
            " [24.  ]\n",
            " [  nan]\n",
            " [41.  ]\n",
            " [21.  ]\n",
            " [48.  ]\n",
            " [  nan]\n",
            " [24.  ]\n",
            " [42.  ]\n",
            " [27.  ]\n",
            " [31.  ]\n",
            " [  nan]\n",
            " [ 4.  ]\n",
            " [26.  ]\n",
            " [47.  ]\n",
            " [33.  ]\n",
            " [47.  ]\n",
            " [28.  ]\n",
            " [15.  ]\n",
            " [20.  ]\n",
            " [19.  ]\n",
            " [  nan]\n",
            " [56.  ]\n",
            " [25.  ]\n",
            " [33.  ]\n",
            " [22.  ]\n",
            " [28.  ]\n",
            " [25.  ]\n",
            " [39.  ]\n",
            " [27.  ]\n",
            " [19.  ]\n",
            " [  nan]\n",
            " [26.  ]\n",
            " [32.  ]]\n"
          ]
        }
      ]
    },
    {
      "cell_type": "markdown",
      "source": [
        "**Cabin Feature Engineering:**\n",
        "\n",
        "\n",
        "To handle the missing values in the Cabin feature, I focused on extracting the deck information (the alphabetical prefix) and imputing it intelligently. Recognizing that the deck likely influenced survival rates—given its correlation with physical location on the ship—I hypothesized that Fare and Pclass could serve as strong predictors of deck assignment.\n",
        "Therefore, I treated the deck as a categorical label and trained a Random Forest Classifier using the known deck values, with Fare and Pclass as input features. This allowed me to impute the missing deck levels for passengers with unassigned cabins. The rationale was grounded in domain context: higher-class passengers (Pclass 1) with higher fares were more likely to be assigned to upper decks, which historically had better access to lifeboats—thus influencing survival probability. This approach enhanced both the interpretability and predictive power of the feature set.\n"
      ],
      "metadata": {
        "id": "fJktFeroGz1i"
      }
    },
    {
      "cell_type": "code",
      "source": [
        "TRD['Deck'] = TRD[\"Cabin\"].str[0]"
      ],
      "metadata": {
        "id": "gYGqnT4ZJRdG"
      },
      "execution_count": 237,
      "outputs": []
    },
    {
      "cell_type": "code",
      "source": [
        "from sklearn.ensemble import RandomForestClassifier\n",
        "from sklearn.preprocessing import LabelEncoder\n",
        "train_known = TRD[TRD['Deck'].notnull()]\n",
        "LE = LabelEncoder()\n",
        "Y_Deck = LE.fit_transform(train_known['Deck'])\n",
        "X_Deck = train_known[['Fare','Pclass']]\n",
        "RF = RandomForestClassifier(n_estimators=100, random_state = 42, max_depth=5)\n",
        "RF.fit(X_Deck, Y_Deck)"
      ],
      "metadata": {
        "colab": {
          "base_uri": "https://localhost:8080/",
          "height": 80
        },
        "id": "Bv5AKs-YPAB3",
        "outputId": "3d7b60de-b2f8-4126-acc5-b976ec596f37"
      },
      "execution_count": 238,
      "outputs": [
        {
          "output_type": "execute_result",
          "data": {
            "text/plain": [
              "RandomForestClassifier(max_depth=5, random_state=42)"
            ],
            "text/html": [
              "<style>#sk-container-id-4 {\n",
              "  /* Definition of color scheme common for light and dark mode */\n",
              "  --sklearn-color-text: #000;\n",
              "  --sklearn-color-text-muted: #666;\n",
              "  --sklearn-color-line: gray;\n",
              "  /* Definition of color scheme for unfitted estimators */\n",
              "  --sklearn-color-unfitted-level-0: #fff5e6;\n",
              "  --sklearn-color-unfitted-level-1: #f6e4d2;\n",
              "  --sklearn-color-unfitted-level-2: #ffe0b3;\n",
              "  --sklearn-color-unfitted-level-3: chocolate;\n",
              "  /* Definition of color scheme for fitted estimators */\n",
              "  --sklearn-color-fitted-level-0: #f0f8ff;\n",
              "  --sklearn-color-fitted-level-1: #d4ebff;\n",
              "  --sklearn-color-fitted-level-2: #b3dbfd;\n",
              "  --sklearn-color-fitted-level-3: cornflowerblue;\n",
              "\n",
              "  /* Specific color for light theme */\n",
              "  --sklearn-color-text-on-default-background: var(--sg-text-color, var(--theme-code-foreground, var(--jp-content-font-color1, black)));\n",
              "  --sklearn-color-background: var(--sg-background-color, var(--theme-background, var(--jp-layout-color0, white)));\n",
              "  --sklearn-color-border-box: var(--sg-text-color, var(--theme-code-foreground, var(--jp-content-font-color1, black)));\n",
              "  --sklearn-color-icon: #696969;\n",
              "\n",
              "  @media (prefers-color-scheme: dark) {\n",
              "    /* Redefinition of color scheme for dark theme */\n",
              "    --sklearn-color-text-on-default-background: var(--sg-text-color, var(--theme-code-foreground, var(--jp-content-font-color1, white)));\n",
              "    --sklearn-color-background: var(--sg-background-color, var(--theme-background, var(--jp-layout-color0, #111)));\n",
              "    --sklearn-color-border-box: var(--sg-text-color, var(--theme-code-foreground, var(--jp-content-font-color1, white)));\n",
              "    --sklearn-color-icon: #878787;\n",
              "  }\n",
              "}\n",
              "\n",
              "#sk-container-id-4 {\n",
              "  color: var(--sklearn-color-text);\n",
              "}\n",
              "\n",
              "#sk-container-id-4 pre {\n",
              "  padding: 0;\n",
              "}\n",
              "\n",
              "#sk-container-id-4 input.sk-hidden--visually {\n",
              "  border: 0;\n",
              "  clip: rect(1px 1px 1px 1px);\n",
              "  clip: rect(1px, 1px, 1px, 1px);\n",
              "  height: 1px;\n",
              "  margin: -1px;\n",
              "  overflow: hidden;\n",
              "  padding: 0;\n",
              "  position: absolute;\n",
              "  width: 1px;\n",
              "}\n",
              "\n",
              "#sk-container-id-4 div.sk-dashed-wrapped {\n",
              "  border: 1px dashed var(--sklearn-color-line);\n",
              "  margin: 0 0.4em 0.5em 0.4em;\n",
              "  box-sizing: border-box;\n",
              "  padding-bottom: 0.4em;\n",
              "  background-color: var(--sklearn-color-background);\n",
              "}\n",
              "\n",
              "#sk-container-id-4 div.sk-container {\n",
              "  /* jupyter's `normalize.less` sets `[hidden] { display: none; }`\n",
              "     but bootstrap.min.css set `[hidden] { display: none !important; }`\n",
              "     so we also need the `!important` here to be able to override the\n",
              "     default hidden behavior on the sphinx rendered scikit-learn.org.\n",
              "     See: https://github.com/scikit-learn/scikit-learn/issues/21755 */\n",
              "  display: inline-block !important;\n",
              "  position: relative;\n",
              "}\n",
              "\n",
              "#sk-container-id-4 div.sk-text-repr-fallback {\n",
              "  display: none;\n",
              "}\n",
              "\n",
              "div.sk-parallel-item,\n",
              "div.sk-serial,\n",
              "div.sk-item {\n",
              "  /* draw centered vertical line to link estimators */\n",
              "  background-image: linear-gradient(var(--sklearn-color-text-on-default-background), var(--sklearn-color-text-on-default-background));\n",
              "  background-size: 2px 100%;\n",
              "  background-repeat: no-repeat;\n",
              "  background-position: center center;\n",
              "}\n",
              "\n",
              "/* Parallel-specific style estimator block */\n",
              "\n",
              "#sk-container-id-4 div.sk-parallel-item::after {\n",
              "  content: \"\";\n",
              "  width: 100%;\n",
              "  border-bottom: 2px solid var(--sklearn-color-text-on-default-background);\n",
              "  flex-grow: 1;\n",
              "}\n",
              "\n",
              "#sk-container-id-4 div.sk-parallel {\n",
              "  display: flex;\n",
              "  align-items: stretch;\n",
              "  justify-content: center;\n",
              "  background-color: var(--sklearn-color-background);\n",
              "  position: relative;\n",
              "}\n",
              "\n",
              "#sk-container-id-4 div.sk-parallel-item {\n",
              "  display: flex;\n",
              "  flex-direction: column;\n",
              "}\n",
              "\n",
              "#sk-container-id-4 div.sk-parallel-item:first-child::after {\n",
              "  align-self: flex-end;\n",
              "  width: 50%;\n",
              "}\n",
              "\n",
              "#sk-container-id-4 div.sk-parallel-item:last-child::after {\n",
              "  align-self: flex-start;\n",
              "  width: 50%;\n",
              "}\n",
              "\n",
              "#sk-container-id-4 div.sk-parallel-item:only-child::after {\n",
              "  width: 0;\n",
              "}\n",
              "\n",
              "/* Serial-specific style estimator block */\n",
              "\n",
              "#sk-container-id-4 div.sk-serial {\n",
              "  display: flex;\n",
              "  flex-direction: column;\n",
              "  align-items: center;\n",
              "  background-color: var(--sklearn-color-background);\n",
              "  padding-right: 1em;\n",
              "  padding-left: 1em;\n",
              "}\n",
              "\n",
              "\n",
              "/* Toggleable style: style used for estimator/Pipeline/ColumnTransformer box that is\n",
              "clickable and can be expanded/collapsed.\n",
              "- Pipeline and ColumnTransformer use this feature and define the default style\n",
              "- Estimators will overwrite some part of the style using the `sk-estimator` class\n",
              "*/\n",
              "\n",
              "/* Pipeline and ColumnTransformer style (default) */\n",
              "\n",
              "#sk-container-id-4 div.sk-toggleable {\n",
              "  /* Default theme specific background. It is overwritten whether we have a\n",
              "  specific estimator or a Pipeline/ColumnTransformer */\n",
              "  background-color: var(--sklearn-color-background);\n",
              "}\n",
              "\n",
              "/* Toggleable label */\n",
              "#sk-container-id-4 label.sk-toggleable__label {\n",
              "  cursor: pointer;\n",
              "  display: flex;\n",
              "  width: 100%;\n",
              "  margin-bottom: 0;\n",
              "  padding: 0.5em;\n",
              "  box-sizing: border-box;\n",
              "  text-align: center;\n",
              "  align-items: start;\n",
              "  justify-content: space-between;\n",
              "  gap: 0.5em;\n",
              "}\n",
              "\n",
              "#sk-container-id-4 label.sk-toggleable__label .caption {\n",
              "  font-size: 0.6rem;\n",
              "  font-weight: lighter;\n",
              "  color: var(--sklearn-color-text-muted);\n",
              "}\n",
              "\n",
              "#sk-container-id-4 label.sk-toggleable__label-arrow:before {\n",
              "  /* Arrow on the left of the label */\n",
              "  content: \"▸\";\n",
              "  float: left;\n",
              "  margin-right: 0.25em;\n",
              "  color: var(--sklearn-color-icon);\n",
              "}\n",
              "\n",
              "#sk-container-id-4 label.sk-toggleable__label-arrow:hover:before {\n",
              "  color: var(--sklearn-color-text);\n",
              "}\n",
              "\n",
              "/* Toggleable content - dropdown */\n",
              "\n",
              "#sk-container-id-4 div.sk-toggleable__content {\n",
              "  max-height: 0;\n",
              "  max-width: 0;\n",
              "  overflow: hidden;\n",
              "  text-align: left;\n",
              "  /* unfitted */\n",
              "  background-color: var(--sklearn-color-unfitted-level-0);\n",
              "}\n",
              "\n",
              "#sk-container-id-4 div.sk-toggleable__content.fitted {\n",
              "  /* fitted */\n",
              "  background-color: var(--sklearn-color-fitted-level-0);\n",
              "}\n",
              "\n",
              "#sk-container-id-4 div.sk-toggleable__content pre {\n",
              "  margin: 0.2em;\n",
              "  border-radius: 0.25em;\n",
              "  color: var(--sklearn-color-text);\n",
              "  /* unfitted */\n",
              "  background-color: var(--sklearn-color-unfitted-level-0);\n",
              "}\n",
              "\n",
              "#sk-container-id-4 div.sk-toggleable__content.fitted pre {\n",
              "  /* unfitted */\n",
              "  background-color: var(--sklearn-color-fitted-level-0);\n",
              "}\n",
              "\n",
              "#sk-container-id-4 input.sk-toggleable__control:checked~div.sk-toggleable__content {\n",
              "  /* Expand drop-down */\n",
              "  max-height: 200px;\n",
              "  max-width: 100%;\n",
              "  overflow: auto;\n",
              "}\n",
              "\n",
              "#sk-container-id-4 input.sk-toggleable__control:checked~label.sk-toggleable__label-arrow:before {\n",
              "  content: \"▾\";\n",
              "}\n",
              "\n",
              "/* Pipeline/ColumnTransformer-specific style */\n",
              "\n",
              "#sk-container-id-4 div.sk-label input.sk-toggleable__control:checked~label.sk-toggleable__label {\n",
              "  color: var(--sklearn-color-text);\n",
              "  background-color: var(--sklearn-color-unfitted-level-2);\n",
              "}\n",
              "\n",
              "#sk-container-id-4 div.sk-label.fitted input.sk-toggleable__control:checked~label.sk-toggleable__label {\n",
              "  background-color: var(--sklearn-color-fitted-level-2);\n",
              "}\n",
              "\n",
              "/* Estimator-specific style */\n",
              "\n",
              "/* Colorize estimator box */\n",
              "#sk-container-id-4 div.sk-estimator input.sk-toggleable__control:checked~label.sk-toggleable__label {\n",
              "  /* unfitted */\n",
              "  background-color: var(--sklearn-color-unfitted-level-2);\n",
              "}\n",
              "\n",
              "#sk-container-id-4 div.sk-estimator.fitted input.sk-toggleable__control:checked~label.sk-toggleable__label {\n",
              "  /* fitted */\n",
              "  background-color: var(--sklearn-color-fitted-level-2);\n",
              "}\n",
              "\n",
              "#sk-container-id-4 div.sk-label label.sk-toggleable__label,\n",
              "#sk-container-id-4 div.sk-label label {\n",
              "  /* The background is the default theme color */\n",
              "  color: var(--sklearn-color-text-on-default-background);\n",
              "}\n",
              "\n",
              "/* On hover, darken the color of the background */\n",
              "#sk-container-id-4 div.sk-label:hover label.sk-toggleable__label {\n",
              "  color: var(--sklearn-color-text);\n",
              "  background-color: var(--sklearn-color-unfitted-level-2);\n",
              "}\n",
              "\n",
              "/* Label box, darken color on hover, fitted */\n",
              "#sk-container-id-4 div.sk-label.fitted:hover label.sk-toggleable__label.fitted {\n",
              "  color: var(--sklearn-color-text);\n",
              "  background-color: var(--sklearn-color-fitted-level-2);\n",
              "}\n",
              "\n",
              "/* Estimator label */\n",
              "\n",
              "#sk-container-id-4 div.sk-label label {\n",
              "  font-family: monospace;\n",
              "  font-weight: bold;\n",
              "  display: inline-block;\n",
              "  line-height: 1.2em;\n",
              "}\n",
              "\n",
              "#sk-container-id-4 div.sk-label-container {\n",
              "  text-align: center;\n",
              "}\n",
              "\n",
              "/* Estimator-specific */\n",
              "#sk-container-id-4 div.sk-estimator {\n",
              "  font-family: monospace;\n",
              "  border: 1px dotted var(--sklearn-color-border-box);\n",
              "  border-radius: 0.25em;\n",
              "  box-sizing: border-box;\n",
              "  margin-bottom: 0.5em;\n",
              "  /* unfitted */\n",
              "  background-color: var(--sklearn-color-unfitted-level-0);\n",
              "}\n",
              "\n",
              "#sk-container-id-4 div.sk-estimator.fitted {\n",
              "  /* fitted */\n",
              "  background-color: var(--sklearn-color-fitted-level-0);\n",
              "}\n",
              "\n",
              "/* on hover */\n",
              "#sk-container-id-4 div.sk-estimator:hover {\n",
              "  /* unfitted */\n",
              "  background-color: var(--sklearn-color-unfitted-level-2);\n",
              "}\n",
              "\n",
              "#sk-container-id-4 div.sk-estimator.fitted:hover {\n",
              "  /* fitted */\n",
              "  background-color: var(--sklearn-color-fitted-level-2);\n",
              "}\n",
              "\n",
              "/* Specification for estimator info (e.g. \"i\" and \"?\") */\n",
              "\n",
              "/* Common style for \"i\" and \"?\" */\n",
              "\n",
              ".sk-estimator-doc-link,\n",
              "a:link.sk-estimator-doc-link,\n",
              "a:visited.sk-estimator-doc-link {\n",
              "  float: right;\n",
              "  font-size: smaller;\n",
              "  line-height: 1em;\n",
              "  font-family: monospace;\n",
              "  background-color: var(--sklearn-color-background);\n",
              "  border-radius: 1em;\n",
              "  height: 1em;\n",
              "  width: 1em;\n",
              "  text-decoration: none !important;\n",
              "  margin-left: 0.5em;\n",
              "  text-align: center;\n",
              "  /* unfitted */\n",
              "  border: var(--sklearn-color-unfitted-level-1) 1pt solid;\n",
              "  color: var(--sklearn-color-unfitted-level-1);\n",
              "}\n",
              "\n",
              ".sk-estimator-doc-link.fitted,\n",
              "a:link.sk-estimator-doc-link.fitted,\n",
              "a:visited.sk-estimator-doc-link.fitted {\n",
              "  /* fitted */\n",
              "  border: var(--sklearn-color-fitted-level-1) 1pt solid;\n",
              "  color: var(--sklearn-color-fitted-level-1);\n",
              "}\n",
              "\n",
              "/* On hover */\n",
              "div.sk-estimator:hover .sk-estimator-doc-link:hover,\n",
              ".sk-estimator-doc-link:hover,\n",
              "div.sk-label-container:hover .sk-estimator-doc-link:hover,\n",
              ".sk-estimator-doc-link:hover {\n",
              "  /* unfitted */\n",
              "  background-color: var(--sklearn-color-unfitted-level-3);\n",
              "  color: var(--sklearn-color-background);\n",
              "  text-decoration: none;\n",
              "}\n",
              "\n",
              "div.sk-estimator.fitted:hover .sk-estimator-doc-link.fitted:hover,\n",
              ".sk-estimator-doc-link.fitted:hover,\n",
              "div.sk-label-container:hover .sk-estimator-doc-link.fitted:hover,\n",
              ".sk-estimator-doc-link.fitted:hover {\n",
              "  /* fitted */\n",
              "  background-color: var(--sklearn-color-fitted-level-3);\n",
              "  color: var(--sklearn-color-background);\n",
              "  text-decoration: none;\n",
              "}\n",
              "\n",
              "/* Span, style for the box shown on hovering the info icon */\n",
              ".sk-estimator-doc-link span {\n",
              "  display: none;\n",
              "  z-index: 9999;\n",
              "  position: relative;\n",
              "  font-weight: normal;\n",
              "  right: .2ex;\n",
              "  padding: .5ex;\n",
              "  margin: .5ex;\n",
              "  width: min-content;\n",
              "  min-width: 20ex;\n",
              "  max-width: 50ex;\n",
              "  color: var(--sklearn-color-text);\n",
              "  box-shadow: 2pt 2pt 4pt #999;\n",
              "  /* unfitted */\n",
              "  background: var(--sklearn-color-unfitted-level-0);\n",
              "  border: .5pt solid var(--sklearn-color-unfitted-level-3);\n",
              "}\n",
              "\n",
              ".sk-estimator-doc-link.fitted span {\n",
              "  /* fitted */\n",
              "  background: var(--sklearn-color-fitted-level-0);\n",
              "  border: var(--sklearn-color-fitted-level-3);\n",
              "}\n",
              "\n",
              ".sk-estimator-doc-link:hover span {\n",
              "  display: block;\n",
              "}\n",
              "\n",
              "/* \"?\"-specific style due to the `<a>` HTML tag */\n",
              "\n",
              "#sk-container-id-4 a.estimator_doc_link {\n",
              "  float: right;\n",
              "  font-size: 1rem;\n",
              "  line-height: 1em;\n",
              "  font-family: monospace;\n",
              "  background-color: var(--sklearn-color-background);\n",
              "  border-radius: 1rem;\n",
              "  height: 1rem;\n",
              "  width: 1rem;\n",
              "  text-decoration: none;\n",
              "  /* unfitted */\n",
              "  color: var(--sklearn-color-unfitted-level-1);\n",
              "  border: var(--sklearn-color-unfitted-level-1) 1pt solid;\n",
              "}\n",
              "\n",
              "#sk-container-id-4 a.estimator_doc_link.fitted {\n",
              "  /* fitted */\n",
              "  border: var(--sklearn-color-fitted-level-1) 1pt solid;\n",
              "  color: var(--sklearn-color-fitted-level-1);\n",
              "}\n",
              "\n",
              "/* On hover */\n",
              "#sk-container-id-4 a.estimator_doc_link:hover {\n",
              "  /* unfitted */\n",
              "  background-color: var(--sklearn-color-unfitted-level-3);\n",
              "  color: var(--sklearn-color-background);\n",
              "  text-decoration: none;\n",
              "}\n",
              "\n",
              "#sk-container-id-4 a.estimator_doc_link.fitted:hover {\n",
              "  /* fitted */\n",
              "  background-color: var(--sklearn-color-fitted-level-3);\n",
              "}\n",
              "</style><div id=\"sk-container-id-4\" class=\"sk-top-container\"><div class=\"sk-text-repr-fallback\"><pre>RandomForestClassifier(max_depth=5, random_state=42)</pre><b>In a Jupyter environment, please rerun this cell to show the HTML representation or trust the notebook. <br />On GitHub, the HTML representation is unable to render, please try loading this page with nbviewer.org.</b></div><div class=\"sk-container\" hidden><div class=\"sk-item\"><div class=\"sk-estimator fitted sk-toggleable\"><input class=\"sk-toggleable__control sk-hidden--visually\" id=\"sk-estimator-id-4\" type=\"checkbox\" checked><label for=\"sk-estimator-id-4\" class=\"sk-toggleable__label fitted sk-toggleable__label-arrow\"><div><div>RandomForestClassifier</div></div><div><a class=\"sk-estimator-doc-link fitted\" rel=\"noreferrer\" target=\"_blank\" href=\"https://scikit-learn.org/1.6/modules/generated/sklearn.ensemble.RandomForestClassifier.html\">?<span>Documentation for RandomForestClassifier</span></a><span class=\"sk-estimator-doc-link fitted\">i<span>Fitted</span></span></div></label><div class=\"sk-toggleable__content fitted\"><pre>RandomForestClassifier(max_depth=5, random_state=42)</pre></div> </div></div></div></div>"
            ]
          },
          "metadata": {},
          "execution_count": 238
        }
      ]
    },
    {
      "cell_type": "code",
      "source": [
        "train_missing = TRD[TRD[\"Deck\"].isnull()]\n",
        "X_missing = train_missing[[\"Fare\", \"Pclass\"]]\n",
        "Y_pred_deck = RF.predict(X_missing)"
      ],
      "metadata": {
        "id": "ZxlME9khuPBF"
      },
      "execution_count": 239,
      "outputs": []
    },
    {
      "cell_type": "code",
      "source": [
        "print (Y_pred_deck)"
      ],
      "metadata": {
        "colab": {
          "base_uri": "https://localhost:8080/"
        },
        "id": "Qm92JcljJPY-",
        "outputId": "79a591f6-82f4-4baa-c74c-51eea0e15249"
      },
      "execution_count": 240,
      "outputs": [
        {
          "output_type": "stream",
          "name": "stdout",
          "text": [
            "[5 4 4 4 5 6 5 4 5 5 3 5 3 6 5 5 4 5 5 5 5 5 2 5 4 0 2 5 4 6 6 6 5 5 5 5 4\n",
            " 6 5 5 6 5 5 5 4 5 5 5 5 5 2 6 4 4 4 4 5 5 6 5 5 4 5 4 4 6 5 2 4 6 5 4 4 4\n",
            " 5 5 5 4 5 5 5 5 4 4 5 5 5 5 5 6 4 6 6 4 5 5 5 5 4 5 6 5 5 5 5 5 6 5 3 3 4\n",
            " 6 5 6 5 4 5 5 5 3 4 4 6 5 1 5 4 4 5 6 3 5 4 5 5 5 3 5 5 6 4 5 5 3 5 5 3 5\n",
            " 5 6 2 6 5 3 3 5 5 4 5 3 6 5 5 5 4 6 6 5 5 5 5 3 5 4 5 4 4 3 4 5 6 4 5 3 5\n",
            " 5 3 5 4 5 5 5 4 4 6 6 4 5 5 5 3 5 5 6 5 6 1 1 5 5 5 5 4 5 5 0 5 3 5 5 5 5\n",
            " 5 5 5 6 4 4 6 5 3 5 1 4 5 2 5 5 5 5 4 2 5 5 5 5 5 5 3 5 5 4 5 5 5 5 5 6 1\n",
            " 5 4 3 3 3 3 6 6 4 4 5 6 5 6 3 5 5 5 5 6 5 6 5 5 5 5 4 2 5 0 5 5 5 2 6 4 2\n",
            " 5 5 5 3 5 4 5 4 5 5 5 4 3 4 4 6 6 4 5 5 3 5 5 5 5 5 4 4 5 3 3 5 5 5 5 6 5\n",
            " 5 5 5 5 6 5 5 5 3 4 5 6 5 3 4 3 2 6 5 5 4 5 4 5 4 3 4 5 5 2 5 6 5 4 5 6 5\n",
            " 5 5 4 5 5 4 6 5 4 6 5 5 2 4 6 6 5 4 5 5 6 5 2 5 5 5 4 1 5 5 5 5 5 5 5 5 4\n",
            " 4 4 5 5 5 5 4 5 2 6 5 5 5 3 5 3 5 5 5 5 5 5 2 2 6 5 5 3 4 4 5 5 5 5 5 4 5\n",
            " 4 6 3 6 4 5 5 4 3 4 4 5 5 5 5 5 5 5 5 5 5 0 4 2 6 5 2 5 5 5 6 5 4 5 6 6 4\n",
            " 6 6 5 6 4 5 5 5 1 5 3 4 5 5 6 5 5 5 6 5 5 5 5 5 4 5 5 5 5 6 3 1 5 5 4 5 3\n",
            " 5 4 5 4 3 5 5 4 6 5 4 4 5 5 5 5 6 5 6 5 5 2 3 4 5 6 5 5 5 3 2 6 6 3 6 5 5\n",
            " 5 3 3 4 5 5 5 4 6 5 3 3 6 5 5 5 6 4 5 3 5 5 6 5 5 3 5 4 4 6 5 5 5 0 5 5 4\n",
            " 6 5 5 5 5 4 5 5 5 5 5 5 5 5 5 5 5 2 5 3 4 5 5 3 5 4 5 5 5 3 5 5 4 5 4 4 5\n",
            " 5 5 4 1 5 5 5 5 5 6 3 5 5 4 4 4 5 4 4 0 5 4 5 5 5 5 5 5 6 5 6 2 6 5 6 4 5\n",
            " 3 3 3 6 6 5 4 5 5 6 5 5 5 5 6 4 5 5 3 5 5]\n"
          ]
        }
      ]
    },
    {
      "cell_type": "code",
      "source": [
        "TRD.loc[TRD['Deck'].isnull(), 'Deck'] = LE.inverse_transform(Y_pred_deck)"
      ],
      "metadata": {
        "id": "tUP4AAqKJSQ0"
      },
      "execution_count": 241,
      "outputs": []
    },
    {
      "cell_type": "code",
      "source": [
        "print(TRD['Deck'])"
      ],
      "metadata": {
        "colab": {
          "base_uri": "https://localhost:8080/"
        },
        "id": "O75yo4-Ip2v7",
        "outputId": "dd5f1bb0-2879-4fab-a82e-e024c9507197"
      },
      "execution_count": 242,
      "outputs": [
        {
          "output_type": "stream",
          "name": "stdout",
          "text": [
            "0      F\n",
            "1      C\n",
            "2      E\n",
            "3      C\n",
            "4      E\n",
            "      ..\n",
            "886    D\n",
            "887    B\n",
            "888    F\n",
            "889    C\n",
            "890    F\n",
            "Name: Deck, Length: 891, dtype: object\n"
          ]
        }
      ]
    },
    {
      "cell_type": "code",
      "source": [
        "from sklearn.preprocessing import LabelEncoder\n",
        "LE = LabelEncoder()\n",
        "TRD['Deck'] = LE.fit_transform(TRD['Deck'])\n",
        "print(TRD['Deck'])"
      ],
      "metadata": {
        "colab": {
          "base_uri": "https://localhost:8080/"
        },
        "id": "_CThsdunqKWV",
        "outputId": "679acf63-9219-4c97-8d8b-f1495e71f0fa"
      },
      "execution_count": 243,
      "outputs": [
        {
          "output_type": "stream",
          "name": "stdout",
          "text": [
            "0      5\n",
            "1      2\n",
            "2      4\n",
            "3      2\n",
            "4      4\n",
            "      ..\n",
            "886    3\n",
            "887    1\n",
            "888    5\n",
            "889    2\n",
            "890    5\n",
            "Name: Deck, Length: 891, dtype: int64\n"
          ]
        }
      ]
    },
    {
      "cell_type": "markdown",
      "source": [
        "**Family Size Feature:**\n",
        "\n",
        "To better capture group dynamics onboard the Titanic, I engineered a Family Size feature by aggregating the SibSp (siblings/spouses aboard), Parch (parents/children aboard), and the passenger themselves (+1). This derived feature represents the total number of immediate family members traveling with the passenger. The rationale stems from historical evacuation behavior, where passengers traveling in larger families may have experienced delayed escape due to coordination challenges or prioritizing family members."
      ],
      "metadata": {
        "id": "PWPw1cLxH14p"
      }
    },
    {
      "cell_type": "code",
      "source": [
        "TRD['Family Size'] = TRD['SibSp'] + TRD['Parch'] + 1"
      ],
      "metadata": {
        "id": "YyHv5uwgqjXY"
      },
      "execution_count": 244,
      "outputs": []
    },
    {
      "cell_type": "markdown",
      "source": [
        "**Is Alone Indicator:**\n",
        "\n",
        "From the Family Size feature, I derived a binary indicator Is Alone, identifying passengers who traveled without any family (Family Size == 1). This feature aimed to capture the impact of social isolation on survival outcomes, as lone travelers may have had greater mobility and fewer obligations during evacuation—potentially affecting their likelihood of survival. The result is a simplified yet informative variable that enhances model interpretability.\n",
        "\n",
        "\n",
        "**High Deck Indicator:**\n",
        "\n",
        "To reflect deck-level stratification on the ship, I introduced the High Deck binary feature. This flag identifies passengers whose cabin was on one of the upper decks (Deck values 0, 1, or 2), which were closer to the lifeboats and had easier access to exits. This categorization was grounded in domain intuition and visual exploration of survival patterns. By grouping decks rather than treating them as distinct categories, this feature avoids overfitting and improves generalizability.\n"
      ],
      "metadata": {
        "id": "fjEMwaxiH9NQ"
      }
    },
    {
      "cell_type": "markdown",
      "source": [
        "**BigFamily indicator:**\n",
        "\n",
        "This binary feature identifies whether a passenger belongs to a large family (more than 4 members, including themselves). The intuition is that passengers traveling in larger groups may have experienced more difficulty evacuating quickly or coordinating during the disaster, potentially affecting survival chances. This feature helps the model capture group-size-related behavioral dynamics."
      ],
      "metadata": {
        "id": "-YiNzl65JSVv"
      }
    },
    {
      "cell_type": "code",
      "source": [
        "TRD['Is Alone'] = (TRD['Family Size'] == 1).astype(int)\n",
        "TRD['BigFamily'] = (TRD['Family Size'] > 4).astype(int)\n",
        "TRD['High Deck'] = TRD['Deck'].isin([0,1,2]).astype(int)"
      ],
      "metadata": {
        "id": "8dPKE-Gq8XsK"
      },
      "execution_count": 245,
      "outputs": []
    },
    {
      "cell_type": "code",
      "source": [
        "features = ['Sex','Age','Fare','Pclass', 'Family Size','High Deck', 'Deck','Embarked', 'Is Alone', 'BigFamily']\n",
        "#features = ['Sex','Age','Fare','Pclass', 'Family Size','High Deck', 'Deck','Embarked']\n",
        "X = TRD[features]\n",
        "Y = TRD['Survived']"
      ],
      "metadata": {
        "id": "k0PJpuZT2zDB"
      },
      "execution_count": 246,
      "outputs": []
    },
    {
      "cell_type": "code",
      "source": [
        "X['Sex'] = LE.fit_transform(X['Sex'])\n",
        "X['Embarked'] = LE.fit_transform(X['Embarked'])\n",
        "X['Pclass']= LE.fit_transform(X['Pclass'])"
      ],
      "metadata": {
        "colab": {
          "base_uri": "https://localhost:8080/"
        },
        "id": "oFBRCN5P8z0E",
        "outputId": "ce1e1601-9617-4eae-c2f3-4bdf2c80c3b0"
      },
      "execution_count": 247,
      "outputs": [
        {
          "output_type": "stream",
          "name": "stderr",
          "text": [
            "<ipython-input-247-9a2028fda7e4>:1: SettingWithCopyWarning: \n",
            "A value is trying to be set on a copy of a slice from a DataFrame.\n",
            "Try using .loc[row_indexer,col_indexer] = value instead\n",
            "\n",
            "See the caveats in the documentation: https://pandas.pydata.org/pandas-docs/stable/user_guide/indexing.html#returning-a-view-versus-a-copy\n",
            "  X['Sex'] = LE.fit_transform(X['Sex'])\n",
            "<ipython-input-247-9a2028fda7e4>:2: SettingWithCopyWarning: \n",
            "A value is trying to be set on a copy of a slice from a DataFrame.\n",
            "Try using .loc[row_indexer,col_indexer] = value instead\n",
            "\n",
            "See the caveats in the documentation: https://pandas.pydata.org/pandas-docs/stable/user_guide/indexing.html#returning-a-view-versus-a-copy\n",
            "  X['Embarked'] = LE.fit_transform(X['Embarked'])\n",
            "<ipython-input-247-9a2028fda7e4>:3: SettingWithCopyWarning: \n",
            "A value is trying to be set on a copy of a slice from a DataFrame.\n",
            "Try using .loc[row_indexer,col_indexer] = value instead\n",
            "\n",
            "See the caveats in the documentation: https://pandas.pydata.org/pandas-docs/stable/user_guide/indexing.html#returning-a-view-versus-a-copy\n",
            "  X['Pclass']= LE.fit_transform(X['Pclass'])\n"
          ]
        }
      ]
    },
    {
      "cell_type": "code",
      "source": [
        "from sklearn.model_selection import train_test_split\n",
        "Xtrain, Xval, Ytrain, Yval = train_test_split(X, Y, test_size=0.2, random_state=42)"
      ],
      "metadata": {
        "id": "gd-0Krpf3_fG"
      },
      "execution_count": 248,
      "outputs": []
    },
    {
      "cell_type": "code",
      "source": [
        "from sklearn.preprocessing import StandardScaler\n",
        "Scaler = StandardScaler()\n",
        "X[['Fare', 'Age', 'Family Size']] = Scaler.fit_transform(X[['Fare', 'Age', 'Family Size']])"
      ],
      "metadata": {
        "colab": {
          "base_uri": "https://localhost:8080/"
        },
        "id": "45hOKDDFJv4y",
        "outputId": "2d993496-c5cb-4c97-a2b5-6b57e848fd1d"
      },
      "execution_count": 249,
      "outputs": [
        {
          "output_type": "stream",
          "name": "stderr",
          "text": [
            "<ipython-input-249-8b8987f2d16c>:3: SettingWithCopyWarning: \n",
            "A value is trying to be set on a copy of a slice from a DataFrame.\n",
            "Try using .loc[row_indexer,col_indexer] = value instead\n",
            "\n",
            "See the caveats in the documentation: https://pandas.pydata.org/pandas-docs/stable/user_guide/indexing.html#returning-a-view-versus-a-copy\n",
            "  X[['Fare', 'Age', 'Family Size']] = Scaler.fit_transform(X[['Fare', 'Age', 'Family Size']])\n"
          ]
        }
      ]
    },
    {
      "cell_type": "code",
      "source": [
        "from sklearn.ensemble import RandomForestClassifier\n",
        "RC = RandomForestClassifier(n_estimators=100, random_state=84, max_depth=5)\n",
        "RC.fit(Xtrain, Ytrain)\n",
        "preds = RC.predict(Xval)\n",
        "from sklearn.metrics import accuracy_score\n",
        "accuracy = accuracy_score(Yval, preds)\n",
        "print(f\"Validation Accuracy: {accuracy:.4f}\")"
      ],
      "metadata": {
        "colab": {
          "base_uri": "https://localhost:8080/"
        },
        "id": "CLJi0Mu3J1B1",
        "outputId": "9532af5b-61e4-42f5-9ebb-b331ba45559b"
      },
      "execution_count": 187,
      "outputs": [
        {
          "output_type": "stream",
          "name": "stdout",
          "text": [
            "Validation Accuracy: 0.7989\n"
          ]
        }
      ]
    },
    {
      "cell_type": "code",
      "source": [
        "from xgboost import XGBClassifier\n",
        "XG = XGBClassifier(subsample = 1.0, n_estimators= 300, max_depth= 3, learning_rate= 0.1, gamma= 0.2, colsample_bytree= 0.6)\n",
        "XG.fit(Xtrain, Ytrain)\n",
        "preds = XG.predict(Xval)\n",
        "from sklearn.metrics import accuracy_score\n",
        "acc = accuracy_score(Yval, preds)\n",
        "print(f\"Validation Accuracy: {acc:.4f}\")"
      ],
      "metadata": {
        "colab": {
          "base_uri": "https://localhost:8080/"
        },
        "id": "ZBbo61uaO1_W",
        "outputId": "2ac7a5dd-b416-490d-a39f-976bae4dfd12"
      },
      "execution_count": 193,
      "outputs": [
        {
          "output_type": "stream",
          "name": "stdout",
          "text": [
            "Validation Accuracy: 0.8156\n"
          ]
        }
      ]
    },
    {
      "cell_type": "markdown",
      "source": [
        "Ensemble Learning with VotingClassifier (Random Forest + XGBoost + Gradient Boosting)\n",
        "\n",
        "To further improve model robustness and generalization, I implemented a Voting Classifier, an ensemble strategy that combines predictions from multiple different models. This technique leverages the strengths of each individual model, resulting in better performance than any single model alone.\n",
        "\n",
        "\n",
        "Why Ensemble?\n",
        "\n",
        "Ensemble methods reduce model variance and bias by combining diverse learners, leading to higher accuracy and better generalization on unseen data.\n",
        "\n",
        "VotingClassifier:\n",
        "\t•\tType: Soft Voting\n",
        "\t•\tSoft Voting: Predicts the class label based on the average predicted probabilities from each classifier.\n",
        "\t•\tAdvantage: Soft voting often performs better than hard voting (which uses majority class votes), especially when classifiers are well-calibrated.\n",
        "\n",
        "Base Models:\n",
        "\t•\tRandom Forest (RF): Strong on reducing variance via bootstrap aggregating (bagging).\n",
        "\t•\tGradient Boosting (GBC): Focuses on reducing bias through boosting weak learners sequentially.\n",
        "\t•\tXGBoost (XG): A high-performance boosting method with regularization.\n",
        "\n",
        "Evaluation:\n",
        "\t•\tThe final prediction is made by averaging class probabilities from RF, XG, and GBC.\n",
        "\t•\taccuracy_score(Yval, preds) provides a reliable metric of performance on the validation set.\n",
        "\n",
        "⸻\n",
        "\n",
        "Key Benefits:\n",
        "\t•\tImproved accuracy: Leverages complementary strengths of each model.\n",
        "\t•\tReduced overfitting: Combines models to avoid relying too heavily on any one of them.\n",
        "\t•\tRobustness: Performs well even if one or two models underperform.\n"
      ],
      "metadata": {
        "id": "EBgWP0tZLIWz"
      }
    },
    {
      "cell_type": "code",
      "source": [
        "from sklearn.ensemble import VotingClassifier, RandomForestClassifier, GradientBoostingClassifier\n",
        "from xgboost import XGBClassifier\n",
        "RFC = RandomForestClassifier(n_estimators=100 , random_state= 84, max_depth=5)\n",
        "GBC = GradientBoostingClassifier(n_estimators=100, random_state= 84, max_depth=5)\n",
        "XG = XGBClassifier(n_estimators = 100, random_state = 84, max_depth = 5)\n",
        "\n",
        "voting = VotingClassifier(estimators=[('RF', RF), ('XG', XG), ('GBC', GBC)], voting='soft')\n",
        "voting.fit(Xtrain, Ytrain)\n",
        "from sklearn.metrics import accuracy_score\n",
        "accuracy = accuracy_score(Yval, preds)\n",
        "print(f\"Validation Accuracy: {accuracy:.4f}\")\n"
      ],
      "metadata": {
        "colab": {
          "base_uri": "https://localhost:8080/"
        },
        "id": "vEQeWIp6wPCb",
        "outputId": "853f5762-a80a-4b3b-aab5-b1278013deab"
      },
      "execution_count": 194,
      "outputs": [
        {
          "output_type": "stream",
          "name": "stdout",
          "text": [
            "Validation Accuracy: 0.8156\n"
          ]
        }
      ]
    },
    {
      "cell_type": "markdown",
      "source": [
        " Hyperparameter Tuning with GridSearchCV (Random Forest)\n",
        "\n",
        "To further optimize the performance of the Random Forest model, I applied Grid Search Cross Validation using GridSearchCV from Scikit-learn. This technique exhaustively searches through a specified parameter grid to identify the combination of hyperparameters that produces the best model performance based on cross-validation.\n",
        "\n",
        "Why these parameters?\n",
        "\t•\tn_estimators: Controls the number of trees. More trees generally improve performance but increase computation time.\n",
        "\t•\tmax_depth: Helps control overfitting by limiting tree complexity.\n",
        "\t•\tmin_samples_split: Prevents trees from learning very fine-grained splits, helping generalize better.\n",
        "\n",
        "Why cv=10?\n",
        "10-fold cross-validation splits the training data into 10 parts, using 9 for training and 1 for validation in each round. This improves the reliability of the accuracy score and prevents overfitting to a specific validation set.\n",
        "\n",
        "Outcome:\n",
        "This process helped identify the most effective combination of parameters based on validation accuracy. The final accuracy on the held-out validation set is printed using grid.score(Xval, Yval), reflecting the model’s generalization ability."
      ],
      "metadata": {
        "id": "cKRwtJ4OKLaj"
      }
    },
    {
      "cell_type": "code",
      "source": [
        "from sklearn.model_selection import GridSearchCV\n",
        "param_grid = {'n_estimators': [200, 300, 400], 'max_depth' : [7,9], 'min_samples_split': [5,7,9]}\n",
        "grid = GridSearchCV(estimator=RandomForestClassifier(random_state=42), param_grid=param_grid , cv=10, scoring = 'accuracy')\n",
        "grid.fit(Xtrain, Ytrain)\n",
        "print(grid.score(Xval, Yval))"
      ],
      "metadata": {
        "colab": {
          "base_uri": "https://localhost:8080/"
        },
        "id": "MlG-0W-4HLxb",
        "outputId": "e4acd390-ea72-4506-871f-f8300649b7cb"
      },
      "execution_count": 183,
      "outputs": [
        {
          "output_type": "stream",
          "name": "stdout",
          "text": [
            "0.8044692737430168\n"
          ]
        }
      ]
    },
    {
      "cell_type": "code",
      "source": [
        "print(grid.best_params_)"
      ],
      "metadata": {
        "id": "kuBVrdd-Or4X",
        "colab": {
          "base_uri": "https://localhost:8080/"
        },
        "outputId": "1c1d17de-37d8-4f16-fe9f-ccb4e01839cd"
      },
      "execution_count": 184,
      "outputs": [
        {
          "output_type": "stream",
          "name": "stdout",
          "text": [
            "{'max_depth': 7, 'min_samples_split': 9, 'n_estimators': 400}\n"
          ]
        }
      ]
    },
    {
      "cell_type": "code",
      "source": [
        "print(grid.best_score_)"
      ],
      "metadata": {
        "id": "px_7E4dmOvmx",
        "colab": {
          "base_uri": "https://localhost:8080/"
        },
        "outputId": "caad17de-fb2a-4727-f8bf-80c19a74fa58"
      },
      "execution_count": 185,
      "outputs": [
        {
          "output_type": "stream",
          "name": "stdout",
          "text": [
            "0.8285993740219093\n"
          ]
        }
      ]
    },
    {
      "cell_type": "code",
      "source": [
        "from sklearn.ensemble import RandomForestClassifier\n",
        "RC = RandomForestClassifier(n_estimators=200, random_state=42, max_depth=7, min_samples_split=3)\n",
        "RC.fit(Xtrain, Ytrain)\n",
        "preds = RC.predict(Xval)\n",
        "from sklearn.metrics import accuracy_score\n",
        "accuracy = accuracy_score(Yval, preds)\n",
        "print(f\"Validation Accuracy: {accuracy:.4f}\")"
      ],
      "metadata": {
        "colab": {
          "base_uri": "https://localhost:8080/"
        },
        "id": "WdsNY1va5KiE",
        "outputId": "89538e1c-c752-4431-ba76-453a6442df90"
      },
      "execution_count": 189,
      "outputs": [
        {
          "output_type": "stream",
          "name": "stdout",
          "text": [
            "Validation Accuracy: 0.8268\n"
          ]
        }
      ]
    },
    {
      "cell_type": "markdown",
      "source": [
        " Hyperparameter Tuning with RandomizedSearchCV (XGBoost)\n",
        "\n",
        "To enhance the performance and generalization capability of the XGBoost Classifier, I implemented RandomizedSearchCV, a more efficient alternative to exhaustive grid search. This approach randomly samples combinations of hyperparameters from a defined distribution, significantly reducing computation time while still exploring a wide parameter space.\n",
        "\n",
        "Why RandomizedSearchCV?\n",
        "\n",
        "Unlike GridSearchCV, which exhaustively tests every possible parameter combination, RandomizedSearchCV selects random combinations, making it significantly faster for large hyperparameter spaces.\n",
        "\n",
        "Explanation of Key Parameters:\n",
        "\t•\tn_estimators: Controls the number of trees in the ensemble.\n",
        "\t•\tmax_depth: Limits the depth of individual trees to prevent overfitting.\n",
        "\t•\tlearning_rate: Shrinks the contribution of each tree, allowing the model to learn slowly and prevent overfitting.\n",
        "\t•\tsubsample: Controls the fraction of the training samples used per tree.\n",
        "\t•\tcolsample_bytree: Controls the fraction of features used per tree.\n",
        "\t•\tgamma: Minimum loss reduction needed to make a split; higher values make the algorithm more conservative.\n",
        "\n",
        "Results Interpretation:\n",
        "\t•\tbest_params_: Displays the optimal hyperparameter combination found.\n",
        "\t•\tbest_score_: Shows the highest cross-validation accuracy during tuning.\n",
        "\t•\tscore(Xval, Yval): Evaluates the tuned model on the validation set to assess generalization performance.\n",
        "\n",
        "This approach provides a strong foundation for building high-performing models while minimizing the risk of overfitting.\n"
      ],
      "metadata": {
        "id": "cXQJNRZrKgzl"
      }
    },
    {
      "cell_type": "code",
      "source": [
        "from sklearn.model_selection import RandomizedSearchCV\n",
        "from xgboost import XGBClassifier\n",
        "import scipy.stats as stats\n",
        "\n",
        "param_dist = {\n",
        "    'n_estimators': [100, 150, 200, 250, 300],\n",
        "    'max_depth': [3, 4, 5, 6, 7, 8],\n",
        "    'learning_rate': [0.001, 0.01, 0.05, 0.1, 0.2],\n",
        "    'subsample': [0.6, 0.8, 1.0],\n",
        "    'colsample_bytree': [0.6, 0.8, 1.0],\n",
        "    'gamma': [0, 0.1, 0.2, 0.4],\n",
        "}\n",
        "\n",
        "xgb_model = XGBClassifier(use_label_encoder=False, eval_metric='logloss', random_state=42)\n",
        "\n",
        "random_search = RandomizedSearchCV(\n",
        "    estimator=xgb_model,\n",
        "    param_distributions=param_dist,\n",
        "    n_iter=30,  # tries 30 random combos\n",
        "    cv=5,\n",
        "    scoring='accuracy',\n",
        "    verbose=1,\n",
        "    n_jobs=-1,\n",
        "    random_state=42\n",
        ")\n",
        "\n",
        "random_search.fit(Xtrain, Ytrain)\n",
        "\n",
        "print(\"RandomSearch Best Parameters:\", random_search.best_params_)\n",
        "print(\"RandomSearch Best CV Score:\", random_search.best_score_)\n",
        "print(\"Validation Score on Xval:\", random_search.score(Xval, Yval))\n"
      ],
      "metadata": {
        "id": "dZNHmNglad_P",
        "colab": {
          "base_uri": "https://localhost:8080/"
        },
        "outputId": "780a756f-6cf1-4656-dd9d-cd0819c0d06e"
      },
      "execution_count": 190,
      "outputs": [
        {
          "output_type": "stream",
          "name": "stdout",
          "text": [
            "Fitting 5 folds for each of 30 candidates, totalling 150 fits\n",
            "RandomSearch Best Parameters: {'subsample': 0.6, 'n_estimators': 150, 'max_depth': 3, 'learning_rate': 0.05, 'gamma': 0.1, 'colsample_bytree': 0.8}\n",
            "RandomSearch Best CV Score: 0.837043238451689\n",
            "Validation Score on Xval: 0.8156424581005587\n"
          ]
        },
        {
          "output_type": "stream",
          "name": "stderr",
          "text": [
            "/usr/local/lib/python3.11/dist-packages/xgboost/core.py:158: UserWarning: [18:46:34] WARNING: /workspace/src/learner.cc:740: \n",
            "Parameters: { \"use_label_encoder\" } are not used.\n",
            "\n",
            "  warnings.warn(smsg, UserWarning)\n"
          ]
        }
      ]
    },
    {
      "cell_type": "code",
      "source": [
        "from xgboost import XGBClassifier\n",
        "#XG = XGBClassifier(n_estimators = 100, random_state = 84, max_depth = 5)\n",
        "#XG = XGBClassifier(subsample = 1.0, n_estimators= 300, max_depth= 3, learning_rate= 0.1, gamma= 0.2, colsample_bytree= 0.6)\n",
        "XG = XGBClassifier(random_state = 42, colsample_bytree= 0.7, gamma= 0.1, learning_rate= 0.05, max_depth= 2, n_estimators= 300, subsample= 0.9)\n",
        "#XG = XGBClassifier(random_state = 42,colsample_bytree= 0.8, gamma= 0.1, learning_rate= 0.05, max_depth= 3, n_estimators= 150, subsample= 0.6)\n",
        "XG.fit(Xtrain, Ytrain)\n",
        "preds = XG.predict(Xval)\n",
        "from sklearn.metrics import accuracy_score\n",
        "acc = accuracy_score(Yval, preds)\n",
        "print(f\"Validation Accuracy: {acc:.4f}\")"
      ],
      "metadata": {
        "colab": {
          "base_uri": "https://localhost:8080/"
        },
        "id": "QcIS0Y3761GX",
        "outputId": "ea9e9442-6195-4499-8e0c-9c391af0ec24"
      },
      "execution_count": 256,
      "outputs": [
        {
          "output_type": "stream",
          "name": "stdout",
          "text": [
            "Validation Accuracy: 0.8212\n"
          ]
        }
      ]
    },
    {
      "cell_type": "code",
      "source": [
        "from sklearn.metrics import classification_report, confusion_matrix\n",
        "print(classification_report(Yval, preds))"
      ],
      "metadata": {
        "colab": {
          "base_uri": "https://localhost:8080/"
        },
        "id": "Rg7dX_4auXEo",
        "outputId": "23e0180d-4b5e-464b-c48e-4a1bfafc8853"
      },
      "execution_count": 217,
      "outputs": [
        {
          "output_type": "stream",
          "name": "stdout",
          "text": [
            "              precision    recall  f1-score   support\n",
            "\n",
            "           0       0.82      0.89      0.85       105\n",
            "           1       0.82      0.73      0.77        74\n",
            "\n",
            "    accuracy                           0.82       179\n",
            "   macro avg       0.82      0.81      0.81       179\n",
            "weighted avg       0.82      0.82      0.82       179\n",
            "\n"
          ]
        }
      ]
    },
    {
      "cell_type": "markdown",
      "source": [
        "Introducing an Artificial Neural Network (ANN) for Titanic Classification\n",
        "\n",
        "After evaluating classical machine learning algorithms such as Random Forest, XGBoost, and Ridge Regression, I explored deep learning by implementing an Artificial Neural Network (ANN) to tackle the binary classification task of predicting passenger survival on the Titanic dataset.\n",
        "\n",
        "The motivation behind introducing an ANN was to:\n",
        "\t•\tCapture non-linear relationships between features that traditional models might miss.\n",
        "\t•\tBuild a customizable, deep model architecture capable of learning complex patterns.\n",
        "\t•\tExperiment with regularization techniques to avoid overfitting on small tabular datasets.\n",
        "\n",
        "\n",
        "Sequential model: A straightforward linear stack of layers, suitable for this feedforward ANN design.\n",
        "•\tAdam optimizer: Adaptive learning rate optimization algorithm well-suited for sparse gradients and noisy data.\n",
        "•\tBinary focal loss: Helps the model focus on harder-to-classify samples, especially useful for handling class imbalance in the dataset."
      ],
      "metadata": {
        "id": "wmDAlFt873jS"
      }
    },
    {
      "cell_type": "code",
      "source": [
        "from tensorflow.keras.models import Sequential\n",
        "from tensorflow.keras.layers import Dense, Dropout, BatchNormalization\n",
        "from tensorflow.keras.optimizers import Adam\n",
        "from tensorflow.keras.callbacks import EarlyStopping\n",
        "from tensorflow.keras.losses import binary_focal_crossentropy\n",
        "\n",
        "model = Sequential()\n",
        "\n",
        "model.add(Dense(512, activation='relu'))\n",
        "model.add(BatchNormalization())\n",
        "model.add(Dropout(0.3))\n",
        "\n",
        "model.add(Dense(256, activation='relu'))\n",
        "model.add(BatchNormalization())\n",
        "model.add(Dropout(0.3))\n",
        "\n",
        "model.add(Dense(128, activation='relu'))\n",
        "model.add(BatchNormalization())\n",
        "model.add(Dropout(0.3))\n",
        "\n",
        "model.add(Dense(1, activation='sigmoid'))\n",
        "\n",
        "ES = EarlyStopping(monitor = 'val_loss', patience = 7, restore_best_weights=True)\n",
        "\n",
        "model.compile(optimizer = 'Adam', loss = 'binary_focal_crossentropy', metrics=['accuracy'])\n"
      ],
      "metadata": {
        "id": "NDkK2XcZKb2J"
      },
      "execution_count": 205,
      "outputs": []
    },
    {
      "cell_type": "code",
      "source": [
        "history = model.fit(Xtrain, Ytrain, batch_size = 32, epochs = 100, callbacks=[ES], validation_split = 0.2 )"
      ],
      "metadata": {
        "colab": {
          "base_uri": "https://localhost:8080/"
        },
        "id": "6hvPc0URPxRS",
        "outputId": "1bc49ad5-8efb-407b-9d0a-dfda281ea346"
      },
      "execution_count": 206,
      "outputs": [
        {
          "output_type": "stream",
          "name": "stdout",
          "text": [
            "Epoch 1/100\n",
            "\u001b[1m18/18\u001b[0m \u001b[32m━━━━━━━━━━━━━━━━━━━━\u001b[0m\u001b[37m\u001b[0m \u001b[1m6s\u001b[0m 34ms/step - accuracy: 0.5189 - loss: 0.4477 - val_accuracy: 0.3916 - val_loss: 0.4353\n",
            "Epoch 2/100\n",
            "\u001b[1m18/18\u001b[0m \u001b[32m━━━━━━━━━━━━━━━━━━━━\u001b[0m\u001b[37m\u001b[0m \u001b[1m0s\u001b[0m 14ms/step - accuracy: 0.6148 - loss: 0.3363 - val_accuracy: 0.6643 - val_loss: 0.2712\n",
            "Epoch 3/100\n",
            "\u001b[1m18/18\u001b[0m \u001b[32m━━━━━━━━━━━━━━━━━━━━\u001b[0m\u001b[37m\u001b[0m \u001b[1m0s\u001b[0m 13ms/step - accuracy: 0.5938 - loss: 0.3206 - val_accuracy: 0.6993 - val_loss: 0.2361\n",
            "Epoch 4/100\n",
            "\u001b[1m18/18\u001b[0m \u001b[32m━━━━━━━━━━━━━━━━━━━━\u001b[0m\u001b[37m\u001b[0m \u001b[1m0s\u001b[0m 14ms/step - accuracy: 0.6605 - loss: 0.2491 - val_accuracy: 0.6643 - val_loss: 0.1901\n",
            "Epoch 5/100\n",
            "\u001b[1m18/18\u001b[0m \u001b[32m━━━━━━━━━━━━━━━━━━━━\u001b[0m\u001b[37m\u001b[0m \u001b[1m0s\u001b[0m 14ms/step - accuracy: 0.5967 - loss: 0.2580 - val_accuracy: 0.6853 - val_loss: 0.1640\n",
            "Epoch 6/100\n",
            "\u001b[1m18/18\u001b[0m \u001b[32m━━━━━━━━━━━━━━━━━━━━\u001b[0m\u001b[37m\u001b[0m \u001b[1m0s\u001b[0m 15ms/step - accuracy: 0.6112 - loss: 0.2541 - val_accuracy: 0.7063 - val_loss: 0.1475\n",
            "Epoch 7/100\n",
            "\u001b[1m18/18\u001b[0m \u001b[32m━━━━━━━━━━━━━━━━━━━━\u001b[0m\u001b[37m\u001b[0m \u001b[1m0s\u001b[0m 15ms/step - accuracy: 0.7122 - loss: 0.2094 - val_accuracy: 0.7203 - val_loss: 0.1475\n",
            "Epoch 8/100\n",
            "\u001b[1m18/18\u001b[0m \u001b[32m━━━━━━━━━━━━━━━━━━━━\u001b[0m\u001b[37m\u001b[0m \u001b[1m0s\u001b[0m 12ms/step - accuracy: 0.6726 - loss: 0.2129 - val_accuracy: 0.6643 - val_loss: 0.1478\n",
            "Epoch 9/100\n",
            "\u001b[1m18/18\u001b[0m \u001b[32m━━━━━━━━━━━━━━━━━━━━\u001b[0m\u001b[37m\u001b[0m \u001b[1m0s\u001b[0m 14ms/step - accuracy: 0.6755 - loss: 0.2358 - val_accuracy: 0.6853 - val_loss: 0.1609\n",
            "Epoch 10/100\n",
            "\u001b[1m18/18\u001b[0m \u001b[32m━━━━━━━━━━━━━━━━━━━━\u001b[0m\u001b[37m\u001b[0m \u001b[1m0s\u001b[0m 12ms/step - accuracy: 0.6774 - loss: 0.2475 - val_accuracy: 0.6993 - val_loss: 0.1713\n",
            "Epoch 11/100\n",
            "\u001b[1m18/18\u001b[0m \u001b[32m━━━━━━━━━━━━━━━━━━━━\u001b[0m\u001b[37m\u001b[0m \u001b[1m0s\u001b[0m 12ms/step - accuracy: 0.7316 - loss: 0.1842 - val_accuracy: 0.7063 - val_loss: 0.1690\n",
            "Epoch 12/100\n",
            "\u001b[1m18/18\u001b[0m \u001b[32m━━━━━━━━━━━━━━━━━━━━\u001b[0m\u001b[37m\u001b[0m \u001b[1m0s\u001b[0m 12ms/step - accuracy: 0.6929 - loss: 0.1943 - val_accuracy: 0.6853 - val_loss: 0.1343\n",
            "Epoch 13/100\n",
            "\u001b[1m18/18\u001b[0m \u001b[32m━━━━━━━━━━━━━━━━━━━━\u001b[0m\u001b[37m\u001b[0m \u001b[1m0s\u001b[0m 14ms/step - accuracy: 0.7407 - loss: 0.1499 - val_accuracy: 0.6783 - val_loss: 0.1366\n",
            "Epoch 14/100\n",
            "\u001b[1m18/18\u001b[0m \u001b[32m━━━━━━━━━━━━━━━━━━━━\u001b[0m\u001b[37m\u001b[0m \u001b[1m0s\u001b[0m 12ms/step - accuracy: 0.7022 - loss: 0.1973 - val_accuracy: 0.7063 - val_loss: 0.1592\n",
            "Epoch 15/100\n",
            "\u001b[1m18/18\u001b[0m \u001b[32m━━━━━━━━━━━━━━━━━━━━\u001b[0m\u001b[37m\u001b[0m \u001b[1m0s\u001b[0m 13ms/step - accuracy: 0.7640 - loss: 0.1691 - val_accuracy: 0.6853 - val_loss: 0.1709\n",
            "Epoch 16/100\n",
            "\u001b[1m18/18\u001b[0m \u001b[32m━━━━━━━━━━━━━━━━━━━━\u001b[0m\u001b[37m\u001b[0m \u001b[1m0s\u001b[0m 13ms/step - accuracy: 0.6903 - loss: 0.2085 - val_accuracy: 0.7343 - val_loss: 0.1326\n",
            "Epoch 17/100\n",
            "\u001b[1m18/18\u001b[0m \u001b[32m━━━━━━━━━━━━━━━━━━━━\u001b[0m\u001b[37m\u001b[0m \u001b[1m0s\u001b[0m 12ms/step - accuracy: 0.7094 - loss: 0.1809 - val_accuracy: 0.7063 - val_loss: 0.1538\n",
            "Epoch 18/100\n",
            "\u001b[1m18/18\u001b[0m \u001b[32m━━━━━━━━━━━━━━━━━━━━\u001b[0m\u001b[37m\u001b[0m \u001b[1m0s\u001b[0m 13ms/step - accuracy: 0.7575 - loss: 0.1663 - val_accuracy: 0.7622 - val_loss: 0.1325\n",
            "Epoch 19/100\n",
            "\u001b[1m18/18\u001b[0m \u001b[32m━━━━━━━━━━━━━━━━━━━━\u001b[0m\u001b[37m\u001b[0m \u001b[1m0s\u001b[0m 12ms/step - accuracy: 0.7130 - loss: 0.1661 - val_accuracy: 0.7203 - val_loss: 0.1444\n",
            "Epoch 20/100\n",
            "\u001b[1m18/18\u001b[0m \u001b[32m━━━━━━━━━━━━━━━━━━━━\u001b[0m\u001b[37m\u001b[0m \u001b[1m0s\u001b[0m 12ms/step - accuracy: 0.7416 - loss: 0.1545 - val_accuracy: 0.7483 - val_loss: 0.1289\n",
            "Epoch 21/100\n",
            "\u001b[1m18/18\u001b[0m \u001b[32m━━━━━━━━━━━━━━━━━━━━\u001b[0m\u001b[37m\u001b[0m \u001b[1m0s\u001b[0m 13ms/step - accuracy: 0.7389 - loss: 0.1667 - val_accuracy: 0.7483 - val_loss: 0.1251\n",
            "Epoch 22/100\n",
            "\u001b[1m18/18\u001b[0m \u001b[32m━━━━━━━━━━━━━━━━━━━━\u001b[0m\u001b[37m\u001b[0m \u001b[1m0s\u001b[0m 14ms/step - accuracy: 0.7568 - loss: 0.1792 - val_accuracy: 0.7413 - val_loss: 0.1273\n",
            "Epoch 23/100\n",
            "\u001b[1m18/18\u001b[0m \u001b[32m━━━━━━━━━━━━━━━━━━━━\u001b[0m\u001b[37m\u001b[0m \u001b[1m0s\u001b[0m 12ms/step - accuracy: 0.7189 - loss: 0.1713 - val_accuracy: 0.7413 - val_loss: 0.1222\n",
            "Epoch 24/100\n",
            "\u001b[1m18/18\u001b[0m \u001b[32m━━━━━━━━━━━━━━━━━━━━\u001b[0m\u001b[37m\u001b[0m \u001b[1m0s\u001b[0m 14ms/step - accuracy: 0.7359 - loss: 0.1682 - val_accuracy: 0.7552 - val_loss: 0.1309\n",
            "Epoch 25/100\n",
            "\u001b[1m18/18\u001b[0m \u001b[32m━━━━━━━━━━━━━━━━━━━━\u001b[0m\u001b[37m\u001b[0m \u001b[1m0s\u001b[0m 12ms/step - accuracy: 0.7716 - loss: 0.1276 - val_accuracy: 0.7762 - val_loss: 0.1328\n",
            "Epoch 26/100\n",
            "\u001b[1m18/18\u001b[0m \u001b[32m━━━━━━━━━━━━━━━━━━━━\u001b[0m\u001b[37m\u001b[0m \u001b[1m0s\u001b[0m 13ms/step - accuracy: 0.7878 - loss: 0.1333 - val_accuracy: 0.7902 - val_loss: 0.1209\n",
            "Epoch 27/100\n",
            "\u001b[1m18/18\u001b[0m \u001b[32m━━━━━━━━━━━━━━━━━━━━\u001b[0m\u001b[37m\u001b[0m \u001b[1m1s\u001b[0m 31ms/step - accuracy: 0.7949 - loss: 0.1492 - val_accuracy: 0.8042 - val_loss: 0.1193\n",
            "Epoch 28/100\n",
            "\u001b[1m18/18\u001b[0m \u001b[32m━━━━━━━━━━━━━━━━━━━━\u001b[0m\u001b[37m\u001b[0m \u001b[1m0s\u001b[0m 21ms/step - accuracy: 0.7753 - loss: 0.1516 - val_accuracy: 0.8042 - val_loss: 0.1214\n",
            "Epoch 29/100\n",
            "\u001b[1m18/18\u001b[0m \u001b[32m━━━━━━━━━━━━━━━━━━━━\u001b[0m\u001b[37m\u001b[0m \u001b[1m1s\u001b[0m 22ms/step - accuracy: 0.7982 - loss: 0.1484 - val_accuracy: 0.8112 - val_loss: 0.1186\n",
            "Epoch 30/100\n",
            "\u001b[1m18/18\u001b[0m \u001b[32m━━━━━━━━━━━━━━━━━━━━\u001b[0m\u001b[37m\u001b[0m \u001b[1m1s\u001b[0m 20ms/step - accuracy: 0.7755 - loss: 0.1394 - val_accuracy: 0.8182 - val_loss: 0.1189\n",
            "Epoch 31/100\n",
            "\u001b[1m18/18\u001b[0m \u001b[32m━━━━━━━━━━━━━━━━━━━━\u001b[0m\u001b[37m\u001b[0m \u001b[1m0s\u001b[0m 20ms/step - accuracy: 0.7620 - loss: 0.1538 - val_accuracy: 0.8182 - val_loss: 0.1228\n",
            "Epoch 32/100\n",
            "\u001b[1m18/18\u001b[0m \u001b[32m━━━━━━━━━━━━━━━━━━━━\u001b[0m\u001b[37m\u001b[0m \u001b[1m0s\u001b[0m 22ms/step - accuracy: 0.7955 - loss: 0.1281 - val_accuracy: 0.8182 - val_loss: 0.1144\n",
            "Epoch 33/100\n",
            "\u001b[1m18/18\u001b[0m \u001b[32m━━━━━━━━━━━━━━━━━━━━\u001b[0m\u001b[37m\u001b[0m \u001b[1m0s\u001b[0m 19ms/step - accuracy: 0.7986 - loss: 0.1353 - val_accuracy: 0.8182 - val_loss: 0.1214\n",
            "Epoch 34/100\n",
            "\u001b[1m18/18\u001b[0m \u001b[32m━━━━━━━━━━━━━━━━━━━━\u001b[0m\u001b[37m\u001b[0m \u001b[1m0s\u001b[0m 22ms/step - accuracy: 0.8069 - loss: 0.1362 - val_accuracy: 0.7972 - val_loss: 0.1249\n",
            "Epoch 35/100\n",
            "\u001b[1m18/18\u001b[0m \u001b[32m━━━━━━━━━━━━━━━━━━━━\u001b[0m\u001b[37m\u001b[0m \u001b[1m0s\u001b[0m 12ms/step - accuracy: 0.7793 - loss: 0.1433 - val_accuracy: 0.8112 - val_loss: 0.1146\n",
            "Epoch 36/100\n",
            "\u001b[1m18/18\u001b[0m \u001b[32m━━━━━━━━━━━━━━━━━━━━\u001b[0m\u001b[37m\u001b[0m \u001b[1m0s\u001b[0m 13ms/step - accuracy: 0.8034 - loss: 0.1219 - val_accuracy: 0.8112 - val_loss: 0.1197\n",
            "Epoch 37/100\n",
            "\u001b[1m18/18\u001b[0m \u001b[32m━━━━━━━━━━━━━━━━━━━━\u001b[0m\u001b[37m\u001b[0m \u001b[1m0s\u001b[0m 13ms/step - accuracy: 0.8205 - loss: 0.1319 - val_accuracy: 0.8182 - val_loss: 0.1132\n",
            "Epoch 38/100\n",
            "\u001b[1m18/18\u001b[0m \u001b[32m━━━━━━━━━━━━━━━━━━━━\u001b[0m\u001b[37m\u001b[0m \u001b[1m0s\u001b[0m 13ms/step - accuracy: 0.7754 - loss: 0.1313 - val_accuracy: 0.8252 - val_loss: 0.1125\n",
            "Epoch 39/100\n",
            "\u001b[1m18/18\u001b[0m \u001b[32m━━━━━━━━━━━━━━━━━━━━\u001b[0m\u001b[37m\u001b[0m \u001b[1m0s\u001b[0m 14ms/step - accuracy: 0.7810 - loss: 0.1283 - val_accuracy: 0.7832 - val_loss: 0.1320\n",
            "Epoch 40/100\n",
            "\u001b[1m18/18\u001b[0m \u001b[32m━━━━━━━━━━━━━━━━━━━━\u001b[0m\u001b[37m\u001b[0m \u001b[1m0s\u001b[0m 15ms/step - accuracy: 0.7384 - loss: 0.1411 - val_accuracy: 0.8322 - val_loss: 0.1129\n",
            "Epoch 41/100\n",
            "\u001b[1m18/18\u001b[0m \u001b[32m━━━━━━━━━━━━━━━━━━━━\u001b[0m\u001b[37m\u001b[0m \u001b[1m0s\u001b[0m 12ms/step - accuracy: 0.7996 - loss: 0.1172 - val_accuracy: 0.8252 - val_loss: 0.1131\n",
            "Epoch 42/100\n",
            "\u001b[1m18/18\u001b[0m \u001b[32m━━━━━━━━━━━━━━━━━━━━\u001b[0m\u001b[37m\u001b[0m \u001b[1m0s\u001b[0m 14ms/step - accuracy: 0.7964 - loss: 0.1239 - val_accuracy: 0.7902 - val_loss: 0.1159\n",
            "Epoch 43/100\n",
            "\u001b[1m18/18\u001b[0m \u001b[32m━━━━━━━━━━━━━━━━━━━━\u001b[0m\u001b[37m\u001b[0m \u001b[1m0s\u001b[0m 12ms/step - accuracy: 0.7622 - loss: 0.1312 - val_accuracy: 0.8042 - val_loss: 0.1182\n",
            "Epoch 44/100\n",
            "\u001b[1m18/18\u001b[0m \u001b[32m━━━━━━━━━━━━━━━━━━━━\u001b[0m\u001b[37m\u001b[0m \u001b[1m0s\u001b[0m 12ms/step - accuracy: 0.7930 - loss: 0.1242 - val_accuracy: 0.8392 - val_loss: 0.1134\n",
            "Epoch 45/100\n",
            "\u001b[1m18/18\u001b[0m \u001b[32m━━━━━━━━━━━━━━━━━━━━\u001b[0m\u001b[37m\u001b[0m \u001b[1m0s\u001b[0m 12ms/step - accuracy: 0.7728 - loss: 0.1320 - val_accuracy: 0.8392 - val_loss: 0.1145\n"
          ]
        }
      ]
    },
    {
      "cell_type": "code",
      "source": [
        "Yprob = model.predict(Xval)\n",
        "Y_pred = (Yprob > 0.5).astype(int)"
      ],
      "metadata": {
        "colab": {
          "base_uri": "https://localhost:8080/"
        },
        "id": "W25Hj1D5RC4q",
        "outputId": "a85761ce-3236-4671-960f-6cdd04a1cc21"
      },
      "execution_count": 207,
      "outputs": [
        {
          "output_type": "stream",
          "name": "stdout",
          "text": [
            "\u001b[1m6/6\u001b[0m \u001b[32m━━━━━━━━━━━━━━━━━━━━\u001b[0m\u001b[37m\u001b[0m \u001b[1m0s\u001b[0m 26ms/step\n"
          ]
        }
      ]
    },
    {
      "cell_type": "code",
      "source": [
        "from sklearn.metrics import confusion_matrix,  accuracy_score\n",
        "CM = confusion_matrix(Yval, Y_pred)\n",
        "acc = accuracy_score(Yval, Y_pred)\n",
        "print(\"Confusion Matrix:\\n\", CM)\n",
        "print(f\"Accuracy: {acc:.4f}\")"
      ],
      "metadata": {
        "colab": {
          "base_uri": "https://localhost:8080/"
        },
        "id": "p3Yxwf57Rhol",
        "outputId": "71560c27-1fbf-4599-8926-69b48b974cbe"
      },
      "execution_count": 208,
      "outputs": [
        {
          "output_type": "stream",
          "name": "stdout",
          "text": [
            "Confusion Matrix:\n",
            " [[94 11]\n",
            " [23 51]]\n",
            "Accuracy: 0.8101\n"
          ]
        }
      ]
    },
    {
      "cell_type": "code",
      "source": [
        "import matplotlib.pyplot as plt\n",
        "plt.plot(history.history['loss'], label='Train_loss')\n",
        "plt.plot(history.history['accuracy'], label='Train_accuracy')\n",
        "plt.legend()\n",
        "plt.title(\"Training vs Validation Loss vs accuracy\")\n",
        "plt.show()"
      ],
      "metadata": {
        "colab": {
          "base_uri": "https://localhost:8080/",
          "height": 452
        },
        "id": "1VbTBPWTU9aI",
        "outputId": "97ec6fb9-00be-4631-f2fd-78778d092f9d"
      },
      "execution_count": 118,
      "outputs": [
        {
          "output_type": "display_data",
          "data": {
            "text/plain": [
              "<Figure size 640x480 with 1 Axes>"
            ],
            "image/png": "[encoded data removed]"
          },
          "metadata": {}
        }
      ]
    },
    {
      "cell_type": "code",
      "source": [
        "import matplotlib.pyplot as plt\n",
        "plt.plot(history.history['val_loss'], label='Val_loss')\n",
        "plt.plot(history.history['val_accuracy'], label='Val_accuracy')\n",
        "plt.legend()\n",
        "plt.title(\"Training vs Validation Loss vs accuracy\")\n",
        "plt.show()"
      ],
      "metadata": {
        "colab": {
          "base_uri": "https://localhost:8080/",
          "height": 452
        },
        "id": "_c9RciixVHKk",
        "outputId": "8efccf5b-a6ed-4104-a2d5-01691c4229fd"
      },
      "execution_count": 119,
      "outputs": [
        {
          "output_type": "display_data",
          "data": {
            "text/plain": [
              "<Figure size 640x480 with 1 Axes>"
            ],
            "image/png": "[encoded data removed]"
          },
          "metadata": {}
        }
      ]
    },
    {
      "cell_type": "markdown",
      "source": [
        "In this version I used class weights as class_weight contains helpful utilities to automatically calculate how much weight to give to each class in your labels (like 0 and 1), based on how imbalanced they are. (esp in titanic most of the training data shows they perished comapred to survived)"
      ],
      "metadata": {
        "id": "xBcSK1BB3dbO"
      }
    },
    {
      "cell_type": "code",
      "source": [
        "from tensorflow.keras.models import Sequential\n",
        "from tensorflow.keras.layers import Dense, Dropout, BatchNormalization\n",
        "from tensorflow.keras.optimizers import Adam\n",
        "from tensorflow.keras.callbacks import EarlyStopping\n",
        "from tensorflow.keras.losses import binary_focal_crossentropy\n",
        "from sklearn.utils import class_weight\n",
        "\n",
        "class_weights = class_weight.compute_class_weight(class_weight='balanced', classes=np.unique(Ytrain), y=Ytrain)\n",
        "cw_dict = dict(enumerate(class_weights))\n",
        "print(cw_dict)\n",
        "\n",
        "model = Sequential()\n",
        "\n",
        "model.add(Dense(512, activation='relu'))\n",
        "model.add(BatchNormalization())\n",
        "model.add(Dropout(0.3))\n",
        "\n",
        "model.add(Dense(256, activation='relu'))\n",
        "model.add(BatchNormalization())\n",
        "model.add(Dropout(0.3))\n",
        "\n",
        "model.add(Dense(128, activation='relu'))\n",
        "model.add(BatchNormalization())\n",
        "model.add(Dropout(0.3))\n",
        "\n",
        "model.add(Dense(1, activation='sigmoid'))\n",
        "\n",
        "ES = EarlyStopping(monitor = 'val_loss', patience = 7, restore_best_weights=True)\n",
        "\n",
        "model.compile(optimizer = 'Adam', loss = 'binary_focal_crossentropy', metrics=['accuracy'])\n"
      ],
      "metadata": {
        "colab": {
          "base_uri": "https://localhost:8080/"
        },
        "id": "GAy95oEycH1h",
        "outputId": "33f165b9-6077-4be9-83e7-32315a1961bb"
      },
      "execution_count": 120,
      "outputs": [
        {
          "output_type": "stream",
          "name": "stdout",
          "text": [
            "{0: np.float64(0.8018018018018018), 1: np.float64(1.328358208955224)}\n"
          ]
        }
      ]
    },
    {
      "cell_type": "code",
      "source": [
        "history2 = model.fit(Xtrain, Ytrain, batch_size = 32, epochs = 100, callbacks=[ES], validation_split = 0.2, class_weight= cw_dict )"
      ],
      "metadata": {
        "colab": {
          "base_uri": "https://localhost:8080/"
        },
        "id": "9zGWRftVcVyx",
        "outputId": "5e1072d5-194b-4ee1-8c15-97c9a791dc8d"
      },
      "execution_count": 121,
      "outputs": [
        {
          "output_type": "stream",
          "name": "stdout",
          "text": [
            "Epoch 1/100\n",
            "\u001b[1m18/18\u001b[0m \u001b[32m━━━━━━━━━━━━━━━━━━━━\u001b[0m\u001b[37m\u001b[0m \u001b[1m5s\u001b[0m 34ms/step - accuracy: 0.5311 - loss: 0.4949 - val_accuracy: 0.3497 - val_loss: 0.7940\n",
            "Epoch 2/100\n",
            "\u001b[1m18/18\u001b[0m \u001b[32m━━━━━━━━━━━━━━━━━━━━\u001b[0m\u001b[37m\u001b[0m \u001b[1m0s\u001b[0m 14ms/step - accuracy: 0.5112 - loss: 0.3945 - val_accuracy: 0.4126 - val_loss: 0.2376\n",
            "Epoch 3/100\n",
            "\u001b[1m18/18\u001b[0m \u001b[32m━━━━━━━━━━━━━━━━━━━━\u001b[0m\u001b[37m\u001b[0m \u001b[1m0s\u001b[0m 12ms/step - accuracy: 0.5940 - loss: 0.3313 - val_accuracy: 0.6923 - val_loss: 0.2579\n",
            "Epoch 4/100\n",
            "\u001b[1m18/18\u001b[0m \u001b[32m━━━━━━━━━━━━━━━━━━━━\u001b[0m\u001b[37m\u001b[0m \u001b[1m0s\u001b[0m 14ms/step - accuracy: 0.5812 - loss: 0.2999 - val_accuracy: 0.5245 - val_loss: 0.2392\n",
            "Epoch 5/100\n",
            "\u001b[1m18/18\u001b[0m \u001b[32m━━━━━━━━━━━━━━━━━━━━\u001b[0m\u001b[37m\u001b[0m \u001b[1m0s\u001b[0m 15ms/step - accuracy: 0.5959 - loss: 0.2605 - val_accuracy: 0.5105 - val_loss: 0.2086\n",
            "Epoch 6/100\n",
            "\u001b[1m18/18\u001b[0m \u001b[32m━━━━━━━━━━━━━━━━━━━━\u001b[0m\u001b[37m\u001b[0m \u001b[1m0s\u001b[0m 14ms/step - accuracy: 0.6353 - loss: 0.2078 - val_accuracy: 0.7343 - val_loss: 0.1595\n",
            "Epoch 7/100\n",
            "\u001b[1m18/18\u001b[0m \u001b[32m━━━━━━━━━━━━━━━━━━━━\u001b[0m\u001b[37m\u001b[0m \u001b[1m0s\u001b[0m 15ms/step - accuracy: 0.6979 - loss: 0.2029 - val_accuracy: 0.6783 - val_loss: 0.2095\n",
            "Epoch 8/100\n",
            "\u001b[1m18/18\u001b[0m \u001b[32m━━━━━━━━━━━━━━━━━━━━\u001b[0m\u001b[37m\u001b[0m \u001b[1m0s\u001b[0m 13ms/step - accuracy: 0.6677 - loss: 0.2133 - val_accuracy: 0.6853 - val_loss: 0.1666\n",
            "Epoch 9/100\n",
            "\u001b[1m18/18\u001b[0m \u001b[32m━━━━━━━━━━━━━━━━━━━━\u001b[0m\u001b[37m\u001b[0m \u001b[1m0s\u001b[0m 13ms/step - accuracy: 0.6584 - loss: 0.2187 - val_accuracy: 0.6923 - val_loss: 0.1539\n",
            "Epoch 10/100\n",
            "\u001b[1m18/18\u001b[0m \u001b[32m━━━━━━━━━━━━━━━━━━━━\u001b[0m\u001b[37m\u001b[0m \u001b[1m0s\u001b[0m 13ms/step - accuracy: 0.6578 - loss: 0.2040 - val_accuracy: 0.7203 - val_loss: 0.1516\n",
            "Epoch 11/100\n",
            "\u001b[1m18/18\u001b[0m \u001b[32m━━━━━━━━━━━━━━━━━━━━\u001b[0m\u001b[37m\u001b[0m \u001b[1m0s\u001b[0m 13ms/step - accuracy: 0.6994 - loss: 0.2242 - val_accuracy: 0.7692 - val_loss: 0.1466\n",
            "Epoch 12/100\n",
            "\u001b[1m18/18\u001b[0m \u001b[32m━━━━━━━━━━━━━━━━━━━━\u001b[0m\u001b[37m\u001b[0m \u001b[1m0s\u001b[0m 12ms/step - accuracy: 0.6486 - loss: 0.2051 - val_accuracy: 0.7762 - val_loss: 0.1457\n",
            "Epoch 13/100\n",
            "\u001b[1m18/18\u001b[0m \u001b[32m━━━━━━━━━━━━━━━━━━━━\u001b[0m\u001b[37m\u001b[0m \u001b[1m0s\u001b[0m 13ms/step - accuracy: 0.6773 - loss: 0.2349 - val_accuracy: 0.7413 - val_loss: 0.1527\n",
            "Epoch 14/100\n",
            "\u001b[1m18/18\u001b[0m \u001b[32m━━━━━━━━━━━━━━━━━━━━\u001b[0m\u001b[37m\u001b[0m \u001b[1m0s\u001b[0m 12ms/step - accuracy: 0.6950 - loss: 0.1919 - val_accuracy: 0.7622 - val_loss: 0.1432\n",
            "Epoch 15/100\n",
            "\u001b[1m18/18\u001b[0m \u001b[32m━━━━━━━━━━━━━━━━━━━━\u001b[0m\u001b[37m\u001b[0m \u001b[1m0s\u001b[0m 15ms/step - accuracy: 0.6808 - loss: 0.1994 - val_accuracy: 0.7552 - val_loss: 0.1496\n",
            "Epoch 16/100\n",
            "\u001b[1m18/18\u001b[0m \u001b[32m━━━━━━━━━━━━━━━━━━━━\u001b[0m\u001b[37m\u001b[0m \u001b[1m0s\u001b[0m 15ms/step - accuracy: 0.7196 - loss: 0.1621 - val_accuracy: 0.7972 - val_loss: 0.1297\n",
            "Epoch 17/100\n",
            "\u001b[1m18/18\u001b[0m \u001b[32m━━━━━━━━━━━━━━━━━━━━\u001b[0m\u001b[37m\u001b[0m \u001b[1m1s\u001b[0m 20ms/step - accuracy: 0.7102 - loss: 0.1732 - val_accuracy: 0.7692 - val_loss: 0.1426\n",
            "Epoch 18/100\n",
            "\u001b[1m18/18\u001b[0m \u001b[32m━━━━━━━━━━━━━━━━━━━━\u001b[0m\u001b[37m\u001b[0m \u001b[1m1s\u001b[0m 20ms/step - accuracy: 0.7297 - loss: 0.1575 - val_accuracy: 0.7692 - val_loss: 0.1426\n",
            "Epoch 19/100\n",
            "\u001b[1m18/18\u001b[0m \u001b[32m━━━━━━━━━━━━━━━━━━━━\u001b[0m\u001b[37m\u001b[0m \u001b[1m1s\u001b[0m 22ms/step - accuracy: 0.6876 - loss: 0.1944 - val_accuracy: 0.7902 - val_loss: 0.1298\n",
            "Epoch 20/100\n",
            "\u001b[1m18/18\u001b[0m \u001b[32m━━━━━━━━━━━━━━━━━━━━\u001b[0m\u001b[37m\u001b[0m \u001b[1m0s\u001b[0m 14ms/step - accuracy: 0.7496 - loss: 0.1682 - val_accuracy: 0.7622 - val_loss: 0.1307\n",
            "Epoch 21/100\n",
            "\u001b[1m18/18\u001b[0m \u001b[32m━━━━━━━━━━━━━━━━━━━━\u001b[0m\u001b[37m\u001b[0m \u001b[1m0s\u001b[0m 16ms/step - accuracy: 0.7166 - loss: 0.1665 - val_accuracy: 0.7692 - val_loss: 0.1384\n",
            "Epoch 22/100\n",
            "\u001b[1m18/18\u001b[0m \u001b[32m━━━━━━━━━━━━━━━━━━━━\u001b[0m\u001b[37m\u001b[0m \u001b[1m0s\u001b[0m 13ms/step - accuracy: 0.7666 - loss: 0.1562 - val_accuracy: 0.7832 - val_loss: 0.1301\n",
            "Epoch 23/100\n",
            "\u001b[1m18/18\u001b[0m \u001b[32m━━━━━━━━━━━━━━━━━━━━\u001b[0m\u001b[37m\u001b[0m \u001b[1m0s\u001b[0m 13ms/step - accuracy: 0.7173 - loss: 0.1676 - val_accuracy: 0.7692 - val_loss: 0.1328\n"
          ]
        }
      ]
    },
    {
      "cell_type": "code",
      "source": [
        "Yprob = model.predict(Xval)\n",
        "Y_pred = (Yprob > 0.5).astype(int)"
      ],
      "metadata": {
        "colab": {
          "base_uri": "https://localhost:8080/"
        },
        "id": "U1yk0j6kcXYA",
        "outputId": "6ce2da64-4f8e-423c-a1e9-f734aef693e6"
      },
      "execution_count": 122,
      "outputs": [
        {
          "output_type": "stream",
          "name": "stdout",
          "text": [
            "\u001b[1m6/6\u001b[0m \u001b[32m━━━━━━━━━━━━━━━━━━━━\u001b[0m\u001b[37m\u001b[0m \u001b[1m0s\u001b[0m 27ms/step\n"
          ]
        }
      ]
    },
    {
      "cell_type": "code",
      "source": [
        "from sklearn.metrics import confusion_matrix,  accuracy_score\n",
        "CM = confusion_matrix(Yval, Y_pred)\n",
        "acc = accuracy_score(Yval, Y_pred)\n",
        "print(\"Confusion Matrix:\\n\", CM)\n",
        "print(f\"Accuracy: {acc:.4f}\")"
      ],
      "metadata": {
        "colab": {
          "base_uri": "https://localhost:8080/"
        },
        "id": "b324He6vcaGC",
        "outputId": "4131ecc8-455f-493e-f520-01d9f977720b"
      },
      "execution_count": 123,
      "outputs": [
        {
          "output_type": "stream",
          "name": "stdout",
          "text": [
            "Confusion Matrix:\n",
            " [[90 15]\n",
            " [18 56]]\n",
            "Accuracy: 0.8156\n"
          ]
        }
      ]
    },
    {
      "cell_type": "code",
      "source": [
        "import matplotlib.pyplot as plt\n",
        "plt.plot(history2.history['loss'], label='Train_loss')\n",
        "plt.plot(history2.history['accuracy'], label='Train_accuracy')\n",
        "plt.legend()\n",
        "plt.title(\"Training vs Validation Loss vs accuracy\")\n",
        "plt.show()"
      ],
      "metadata": {
        "colab": {
          "base_uri": "https://localhost:8080/",
          "height": 452
        },
        "id": "p5gC4KV7iWoo",
        "outputId": "d0252118-25e3-499e-fb52-2f3283305417"
      },
      "execution_count": 124,
      "outputs": [
        {
          "output_type": "display_data",
          "data": {
            "text/plain": [
              "<Figure size 640x480 with 1 Axes>"
            ],
            "image/png": "[encoded data removed]"
          },
          "metadata": {}
        }
      ]
    },
    {
      "cell_type": "code",
      "source": [
        "import matplotlib.pyplot as plt\n",
        "plt.plot(history2.history['val_loss'], label='Val_loss')\n",
        "plt.plot(history2.history['val_accuracy'], label='Val_accuracy')\n",
        "plt.legend()\n",
        "plt.title(\"Training vs Validation Loss vs accuracy\")\n",
        "plt.show()"
      ],
      "metadata": {
        "colab": {
          "base_uri": "https://localhost:8080/",
          "height": 452
        },
        "id": "uoDI94ddicZS",
        "outputId": "f92b4af0-42a6-4a08-ad7e-68b90d4dee87"
      },
      "execution_count": 125,
      "outputs": [
        {
          "output_type": "display_data",
          "data": {
            "text/plain": [
              "<Figure size 640x480 with 1 Axes>"
            ],
            "image/png": "[encoded data removed]"
          },
          "metadata": {}
        }
      ]
    },
    {
      "cell_type": "markdown",
      "source": [
        "In this version i increased the units on the layers to try and see if it learns better"
      ],
      "metadata": {
        "id": "OcI3_Lzc3ShD"
      }
    },
    {
      "cell_type": "code",
      "source": [
        "from tensorflow.keras.models import Sequential\n",
        "from tensorflow.keras.layers import Dense, Dropout, BatchNormalization\n",
        "from tensorflow.keras.optimizers import Adam\n",
        "from tensorflow.keras.callbacks import EarlyStopping\n",
        "from tensorflow.keras.losses import binary_focal_crossentropy\n",
        "from sklearn.utils import class_weight\n",
        "\n",
        "class_weights = class_weight.compute_class_weight(class_weight='balanced', classes=np.unique(Ytrain), y=Ytrain)\n",
        "cw_dict = dict(enumerate(class_weights))\n",
        "print(cw_dict)\n",
        "\n",
        "model = Sequential()\n",
        "\n",
        "model.add(Dense(1024, activation='relu'))\n",
        "model.add(BatchNormalization())\n",
        "model.add(Dropout(0.3))\n",
        "\n",
        "model.add(Dense(512, activation='relu'))\n",
        "model.add(BatchNormalization())\n",
        "model.add(Dropout(0.3))\n",
        "\n",
        "model.add(Dense(256, activation='relu'))\n",
        "model.add(BatchNormalization())\n",
        "model.add(Dropout(0.3))\n",
        "\n",
        "model.add(Dense(1, activation='sigmoid'))\n",
        "\n",
        "ES = EarlyStopping(monitor = 'val_loss', patience = 7, restore_best_weights=True)\n",
        "\n",
        "model.compile(optimizer = 'Adam', loss = 'binary_focal_crossentropy', metrics=['accuracy'])\n"
      ],
      "metadata": {
        "colab": {
          "base_uri": "https://localhost:8080/"
        },
        "id": "nrk0vRImiiDo",
        "outputId": "80b26e60-980e-45a5-bbf9-5b3bf773813e"
      },
      "execution_count": 151,
      "outputs": [
        {
          "output_type": "stream",
          "name": "stdout",
          "text": [
            "{0: np.float64(0.8018018018018018), 1: np.float64(1.328358208955224)}\n"
          ]
        }
      ]
    },
    {
      "cell_type": "code",
      "source": [
        "history3 = model.fit(Xtrain, Ytrain, batch_size = 16, epochs = 100, callbacks=[ES], validation_split = 0.2, class_weight= cw_dict )"
      ],
      "metadata": {
        "colab": {
          "base_uri": "https://localhost:8080/"
        },
        "id": "oQQ8Zr--isNJ",
        "outputId": "b5960e8e-85c2-41f9-e68c-0bd61557517f"
      },
      "execution_count": 147,
      "outputs": [
        {
          "output_type": "stream",
          "name": "stdout",
          "text": [
            "Epoch 1/100\n",
            "\u001b[1m36/36\u001b[0m \u001b[32m━━━━━━━━━━━━━━━━━━━━\u001b[0m\u001b[37m\u001b[0m \u001b[1m6s\u001b[0m 25ms/step - accuracy: 0.5970 - loss: 0.4405 - val_accuracy: 0.6503 - val_loss: 0.3328\n",
            "Epoch 2/100\n",
            "\u001b[1m36/36\u001b[0m \u001b[32m━━━━━━━━━━━━━━━━━━━━\u001b[0m\u001b[37m\u001b[0m \u001b[1m1s\u001b[0m 16ms/step - accuracy: 0.5575 - loss: 0.3083 - val_accuracy: 0.6993 - val_loss: 0.3495\n",
            "Epoch 3/100\n",
            "\u001b[1m36/36\u001b[0m \u001b[32m━━━━━━━━━━━━━━━━━━━━\u001b[0m\u001b[37m\u001b[0m \u001b[1m1s\u001b[0m 17ms/step - accuracy: 0.5675 - loss: 0.2873 - val_accuracy: 0.6853 - val_loss: 0.2372\n",
            "Epoch 4/100\n",
            "\u001b[1m36/36\u001b[0m \u001b[32m━━━━━━━━━━━━━━━━━━━━\u001b[0m\u001b[37m\u001b[0m \u001b[1m1s\u001b[0m 16ms/step - accuracy: 0.6175 - loss: 0.2811 - val_accuracy: 0.7832 - val_loss: 0.1491\n",
            "Epoch 5/100\n",
            "\u001b[1m36/36\u001b[0m \u001b[32m━━━━━━━━━━━━━━━━━━━━\u001b[0m\u001b[37m\u001b[0m \u001b[1m1s\u001b[0m 16ms/step - accuracy: 0.6123 - loss: 0.2591 - val_accuracy: 0.6713 - val_loss: 0.1702\n",
            "Epoch 6/100\n",
            "\u001b[1m36/36\u001b[0m \u001b[32m━━━━━━━━━━━━━━━━━━━━\u001b[0m\u001b[37m\u001b[0m \u001b[1m1s\u001b[0m 16ms/step - accuracy: 0.5829 - loss: 0.3052 - val_accuracy: 0.7762 - val_loss: 0.1990\n",
            "Epoch 7/100\n",
            "\u001b[1m36/36\u001b[0m \u001b[32m━━━━━━━━━━━━━━━━━━━━\u001b[0m\u001b[37m\u001b[0m \u001b[1m1s\u001b[0m 17ms/step - accuracy: 0.6647 - loss: 0.1964 - val_accuracy: 0.7692 - val_loss: 0.1486\n",
            "Epoch 8/100\n",
            "\u001b[1m36/36\u001b[0m \u001b[32m━━━━━━━━━━━━━━━━━━━━\u001b[0m\u001b[37m\u001b[0m \u001b[1m1s\u001b[0m 16ms/step - accuracy: 0.6905 - loss: 0.1946 - val_accuracy: 0.5245 - val_loss: 0.1891\n",
            "Epoch 9/100\n",
            "\u001b[1m36/36\u001b[0m \u001b[32m━━━━━━━━━━━━━━━━━━━━\u001b[0m\u001b[37m\u001b[0m \u001b[1m1s\u001b[0m 17ms/step - accuracy: 0.6654 - loss: 0.1922 - val_accuracy: 0.7273 - val_loss: 0.1438\n",
            "Epoch 10/100\n",
            "\u001b[1m36/36\u001b[0m \u001b[32m━━━━━━━━━━━━━━━━━━━━\u001b[0m\u001b[37m\u001b[0m \u001b[1m1s\u001b[0m 17ms/step - accuracy: 0.6678 - loss: 0.2021 - val_accuracy: 0.7063 - val_loss: 0.1800\n",
            "Epoch 11/100\n",
            "\u001b[1m36/36\u001b[0m \u001b[32m━━━━━━━━━━━━━━━━━━━━\u001b[0m\u001b[37m\u001b[0m \u001b[1m1s\u001b[0m 24ms/step - accuracy: 0.6779 - loss: 0.1982 - val_accuracy: 0.8252 - val_loss: 0.1312\n",
            "Epoch 12/100\n",
            "\u001b[1m36/36\u001b[0m \u001b[32m━━━━━━━━━━━━━━━━━━━━\u001b[0m\u001b[37m\u001b[0m \u001b[1m1s\u001b[0m 26ms/step - accuracy: 0.6616 - loss: 0.2190 - val_accuracy: 0.8112 - val_loss: 0.1304\n",
            "Epoch 13/100\n",
            "\u001b[1m36/36\u001b[0m \u001b[32m━━━━━━━━━━━━━━━━━━━━\u001b[0m\u001b[37m\u001b[0m \u001b[1m1s\u001b[0m 17ms/step - accuracy: 0.6831 - loss: 0.1748 - val_accuracy: 0.7832 - val_loss: 0.1470\n",
            "Epoch 14/100\n",
            "\u001b[1m36/36\u001b[0m \u001b[32m━━━━━━━━━━━━━━━━━━━━\u001b[0m\u001b[37m\u001b[0m \u001b[1m1s\u001b[0m 16ms/step - accuracy: 0.7266 - loss: 0.1729 - val_accuracy: 0.6853 - val_loss: 0.1516\n",
            "Epoch 15/100\n",
            "\u001b[1m36/36\u001b[0m \u001b[32m━━━━━━━━━━━━━━━━━━━━\u001b[0m\u001b[37m\u001b[0m \u001b[1m1s\u001b[0m 16ms/step - accuracy: 0.6860 - loss: 0.1995 - val_accuracy: 0.7902 - val_loss: 0.1583\n",
            "Epoch 16/100\n",
            "\u001b[1m36/36\u001b[0m \u001b[32m━━━━━━━━━━━━━━━━━━━━\u001b[0m\u001b[37m\u001b[0m \u001b[1m1s\u001b[0m 17ms/step - accuracy: 0.7354 - loss: 0.1691 - val_accuracy: 0.6923 - val_loss: 0.1465\n",
            "Epoch 17/100\n",
            "\u001b[1m36/36\u001b[0m \u001b[32m━━━━━━━━━━━━━━━━━━━━\u001b[0m\u001b[37m\u001b[0m \u001b[1m1s\u001b[0m 16ms/step - accuracy: 0.6758 - loss: 0.1880 - val_accuracy: 0.7273 - val_loss: 0.1594\n",
            "Epoch 18/100\n",
            "\u001b[1m36/36\u001b[0m \u001b[32m━━━━━━━━━━━━━━━━━━━━\u001b[0m\u001b[37m\u001b[0m \u001b[1m1s\u001b[0m 16ms/step - accuracy: 0.7641 - loss: 0.1453 - val_accuracy: 0.7622 - val_loss: 0.1412\n",
            "Epoch 19/100\n",
            "\u001b[1m36/36\u001b[0m \u001b[32m━━━━━━━━━━━━━━━━━━━━\u001b[0m\u001b[37m\u001b[0m \u001b[1m1s\u001b[0m 16ms/step - accuracy: 0.7003 - loss: 0.1735 - val_accuracy: 0.8042 - val_loss: 0.1382\n"
          ]
        }
      ]
    },
    {
      "cell_type": "code",
      "source": [
        "Yprob = model.predict(Xval)\n",
        "Y_pred = (Yprob > 0.5).astype(int)"
      ],
      "metadata": {
        "colab": {
          "base_uri": "https://localhost:8080/"
        },
        "id": "0HaoB_Vvivtv",
        "outputId": "74466e83-2bad-45f4-cd5b-01e461ba7100"
      },
      "execution_count": 148,
      "outputs": [
        {
          "output_type": "stream",
          "name": "stdout",
          "text": [
            "\u001b[1m6/6\u001b[0m \u001b[32m━━━━━━━━━━━━━━━━━━━━\u001b[0m\u001b[37m\u001b[0m \u001b[1m0s\u001b[0m 27ms/step\n"
          ]
        }
      ]
    },
    {
      "cell_type": "code",
      "source": [
        "from sklearn.metrics import confusion_matrix,  accuracy_score\n",
        "CM = confusion_matrix(Yval, Y_pred)\n",
        "acc = accuracy_score(Yval, Y_pred)\n",
        "print(\"Confusion Matrix:\\n\", CM)\n",
        "print(f\"Accuracy: {acc:.4f}\")"
      ],
      "metadata": {
        "colab": {
          "base_uri": "https://localhost:8080/"
        },
        "id": "I5764oCgiySi",
        "outputId": "3300e3b4-c95c-4a93-c9ca-81b3d564486b"
      },
      "execution_count": 149,
      "outputs": [
        {
          "output_type": "stream",
          "name": "stdout",
          "text": [
            "Confusion Matrix:\n",
            " [[85 20]\n",
            " [11 63]]\n",
            "Accuracy: 0.8268\n"
          ]
        }
      ]
    },
    {
      "cell_type": "code",
      "source": [
        "import matplotlib.pyplot as plt\n",
        "plt.plot(history3.history['loss'], label='Train_loss')\n",
        "plt.plot(history3.history['accuracy'], label='Train_accuracy')\n",
        "plt.legend()\n",
        "plt.title(\"Training vs Validation Loss vs accuracy\")\n",
        "plt.show()"
      ],
      "metadata": {
        "colab": {
          "base_uri": "https://localhost:8080/",
          "height": 452
        },
        "id": "P0p4LcqikFV6",
        "outputId": "10b89a65-4ea0-409b-ac75-2ee4ccf0505e"
      },
      "execution_count": 135,
      "outputs": [
        {
          "output_type": "display_data",
          "data": {
            "text/plain": [
              "<Figure size 640x480 with 1 Axes>"
            ],
            "image/png": "[encoded data removed]"
          },
          "metadata": {}
        }
      ]
    },
    {
      "cell_type": "code",
      "source": [
        "import matplotlib.pyplot as plt\n",
        "plt.plot(history3.history['val_loss'], label='Val_loss')\n",
        "plt.plot(history3.history['val_accuracy'], label='Val_accuracy')\n",
        "plt.legend()\n",
        "plt.title(\"Training vs Validation Loss vs accuracy\")\n",
        "plt.show()"
      ],
      "metadata": {
        "colab": {
          "base_uri": "https://localhost:8080/",
          "height": 452
        },
        "id": "jj-s40jMkJBt",
        "outputId": "84e6b60d-f1af-4296-cd1b-20d51ec2ab72"
      },
      "execution_count": 136,
      "outputs": [
        {
          "output_type": "display_data",
          "data": {
            "text/plain": [
              "<Figure size 640x480 with 1 Axes>"
            ],
            "image/png": "[encoded data removed]"
          },
          "metadata": {}
        }
      ]
    },
    {
      "cell_type": "markdown",
      "source": [
        "In this version, I experimented with deeper layers, LeakyReLU activations, and advanced loss handling using binary focal loss with class weighting to handle data imbalance. While the overall accuracy was slightly lower (81%), the recall and precision for predicting survivors significantly improved — showcasing my ability to tune models not just for accuracy, but for real-world class imbalance performance."
      ],
      "metadata": {
        "id": "cLcZfFHn3IHN"
      }
    },
    {
      "cell_type": "code",
      "source": [
        "from tensorflow.keras.models import Sequential\n",
        "from tensorflow.keras.layers import Dense, Dropout, BatchNormalization, LeakyReLU\n",
        "from tensorflow.keras.optimizers import Adam\n",
        "from tensorflow.keras.callbacks import EarlyStopping\n",
        "from tensorflow.keras.losses import binary_focal_crossentropy\n",
        "from sklearn.utils import class_weight\n",
        "\n",
        "class_weights = class_weight.compute_class_weight(class_weight='balanced', classes=np.unique(Ytrain), y=Ytrain)\n",
        "cw_dict = dict(enumerate(class_weights))\n",
        "print(cw_dict)\n",
        "\n",
        "model = Sequential()\n",
        "\n",
        "model.add(Dense(1024, activation='relu'))\n",
        "model.add(LeakyReLU(alpha=0.01))\n",
        "model.add(BatchNormalization())\n",
        "model.add(Dropout(0.3))\n",
        "\n",
        "model.add(Dense(512, activation='relu'))\n",
        "model.add(LeakyReLU(alpha=0.01))\n",
        "model.add(BatchNormalization())\n",
        "model.add(Dropout(0.3))\n",
        "\n",
        "model.add(Dense(256, activation='relu'))\n",
        "model.add(LeakyReLU(alpha=0.01))\n",
        "model.add(BatchNormalization())\n",
        "model.add(Dropout(0.3))\n",
        "\n",
        "model.add(Dense(1, activation='sigmoid'))\n",
        "\n",
        "ES = EarlyStopping(monitor = 'val_loss', patience = 7, restore_best_weights=True)\n",
        "\n",
        "model.compile(optimizer = 'Adam', loss = 'binary_focal_crossentropy', metrics=['accuracy'])\n"
      ],
      "metadata": {
        "colab": {
          "base_uri": "https://localhost:8080/"
        },
        "id": "LiSqIPFz1-BD",
        "outputId": "acfab359-dec9-4c29-c42e-c9445bfa2d30"
      },
      "execution_count": 152,
      "outputs": [
        {
          "output_type": "stream",
          "name": "stdout",
          "text": [
            "{0: np.float64(0.8018018018018018), 1: np.float64(1.328358208955224)}\n"
          ]
        },
        {
          "output_type": "stream",
          "name": "stderr",
          "text": [
            "/usr/local/lib/python3.11/dist-packages/keras/src/layers/activations/leaky_relu.py:41: UserWarning: Argument `alpha` is deprecated. Use `negative_slope` instead.\n",
            "  warnings.warn(\n"
          ]
        }
      ]
    },
    {
      "cell_type": "code",
      "source": [
        "history4 = model.fit(Xtrain, Ytrain, batch_size = 16, epochs = 100, callbacks=[ES], validation_split = 0.2, class_weight= cw_dict )"
      ],
      "metadata": {
        "colab": {
          "base_uri": "https://localhost:8080/"
        },
        "id": "mN7-eNRe2Arr",
        "outputId": "292c44b9-8581-4ecb-e01e-04c2a08d75b0"
      },
      "execution_count": 153,
      "outputs": [
        {
          "output_type": "stream",
          "name": "stdout",
          "text": [
            "Epoch 1/100\n",
            "\u001b[1m36/36\u001b[0m \u001b[32m━━━━━━━━━━━━━━━━━━━━\u001b[0m\u001b[37m\u001b[0m \u001b[1m7s\u001b[0m 40ms/step - accuracy: 0.5327 - loss: 0.5557 - val_accuracy: 0.6993 - val_loss: 0.2544\n",
            "Epoch 2/100\n",
            "\u001b[1m36/36\u001b[0m \u001b[32m━━━━━━━━━━━━━━━━━━━━\u001b[0m\u001b[37m\u001b[0m \u001b[1m2s\u001b[0m 20ms/step - accuracy: 0.5508 - loss: 0.4065 - val_accuracy: 0.6923 - val_loss: 0.3159\n",
            "Epoch 3/100\n",
            "\u001b[1m36/36\u001b[0m \u001b[32m━━━━━━━━━━━━━━━━━━━━\u001b[0m\u001b[37m\u001b[0m \u001b[1m1s\u001b[0m 16ms/step - accuracy: 0.6770 - loss: 0.2379 - val_accuracy: 0.6224 - val_loss: 0.1660\n",
            "Epoch 4/100\n",
            "\u001b[1m36/36\u001b[0m \u001b[32m━━━━━━━━━━━━━━━━━━━━\u001b[0m\u001b[37m\u001b[0m \u001b[1m1s\u001b[0m 16ms/step - accuracy: 0.5265 - loss: 0.3116 - val_accuracy: 0.7133 - val_loss: 0.3007\n",
            "Epoch 5/100\n",
            "\u001b[1m36/36\u001b[0m \u001b[32m━━━━━━━━━━━━━━━━━━━━\u001b[0m\u001b[37m\u001b[0m \u001b[1m1s\u001b[0m 16ms/step - accuracy: 0.6690 - loss: 0.2627 - val_accuracy: 0.6923 - val_loss: 0.1595\n",
            "Epoch 6/100\n",
            "\u001b[1m36/36\u001b[0m \u001b[32m━━━━━━━━━━━━━━━━━━━━\u001b[0m\u001b[37m\u001b[0m \u001b[1m1s\u001b[0m 17ms/step - accuracy: 0.6182 - loss: 0.2523 - val_accuracy: 0.6643 - val_loss: 0.1694\n",
            "Epoch 7/100\n",
            "\u001b[1m36/36\u001b[0m \u001b[32m━━━━━━━━━━━━━━━━━━━━\u001b[0m\u001b[37m\u001b[0m \u001b[1m1s\u001b[0m 16ms/step - accuracy: 0.6639 - loss: 0.2338 - val_accuracy: 0.6993 - val_loss: 0.1506\n",
            "Epoch 8/100\n",
            "\u001b[1m36/36\u001b[0m \u001b[32m━━━━━━━━━━━━━━━━━━━━\u001b[0m\u001b[37m\u001b[0m \u001b[1m1s\u001b[0m 15ms/step - accuracy: 0.6366 - loss: 0.2253 - val_accuracy: 0.6294 - val_loss: 0.1600\n",
            "Epoch 9/100\n",
            "\u001b[1m36/36\u001b[0m \u001b[32m━━━━━━━━━━━━━━━━━━━━\u001b[0m\u001b[37m\u001b[0m \u001b[1m1s\u001b[0m 17ms/step - accuracy: 0.6914 - loss: 0.2297 - val_accuracy: 0.4755 - val_loss: 0.2063\n",
            "Epoch 10/100\n",
            "\u001b[1m36/36\u001b[0m \u001b[32m━━━━━━━━━━━━━━━━━━━━\u001b[0m\u001b[37m\u001b[0m \u001b[1m1s\u001b[0m 17ms/step - accuracy: 0.6931 - loss: 0.2252 - val_accuracy: 0.7413 - val_loss: 0.1739\n",
            "Epoch 11/100\n",
            "\u001b[1m36/36\u001b[0m \u001b[32m━━━━━━━━━━━━━━━━━━━━\u001b[0m\u001b[37m\u001b[0m \u001b[1m1s\u001b[0m 17ms/step - accuracy: 0.7308 - loss: 0.1549 - val_accuracy: 0.7552 - val_loss: 0.1695\n",
            "Epoch 12/100\n",
            "\u001b[1m36/36\u001b[0m \u001b[32m━━━━━━━━━━━━━━━━━━━━\u001b[0m\u001b[37m\u001b[0m \u001b[1m1s\u001b[0m 16ms/step - accuracy: 0.6975 - loss: 0.1854 - val_accuracy: 0.7413 - val_loss: 0.1585\n",
            "Epoch 13/100\n",
            "\u001b[1m36/36\u001b[0m \u001b[32m━━━━━━━━━━━━━━━━━━━━\u001b[0m\u001b[37m\u001b[0m \u001b[1m1s\u001b[0m 16ms/step - accuracy: 0.6830 - loss: 0.1964 - val_accuracy: 0.7413 - val_loss: 0.1674\n",
            "Epoch 14/100\n",
            "\u001b[1m36/36\u001b[0m \u001b[32m━━━━━━━━━━━━━━━━━━━━\u001b[0m\u001b[37m\u001b[0m \u001b[1m2s\u001b[0m 26ms/step - accuracy: 0.6747 - loss: 0.2070 - val_accuracy: 0.7622 - val_loss: 0.1420\n",
            "Epoch 15/100\n",
            "\u001b[1m36/36\u001b[0m \u001b[32m━━━━━━━━━━━━━━━━━━━━\u001b[0m\u001b[37m\u001b[0m \u001b[1m1s\u001b[0m 24ms/step - accuracy: 0.6885 - loss: 0.1993 - val_accuracy: 0.7622 - val_loss: 0.1456\n",
            "Epoch 16/100\n",
            "\u001b[1m36/36\u001b[0m \u001b[32m━━━━━━━━━━━━━━━━━━━━\u001b[0m\u001b[37m\u001b[0m \u001b[1m1s\u001b[0m 21ms/step - accuracy: 0.7636 - loss: 0.1617 - val_accuracy: 0.7832 - val_loss: 0.1370\n",
            "Epoch 17/100\n",
            "\u001b[1m36/36\u001b[0m \u001b[32m━━━━━━━━━━━━━━━━━━━━\u001b[0m\u001b[37m\u001b[0m \u001b[1m1s\u001b[0m 17ms/step - accuracy: 0.7152 - loss: 0.1833 - val_accuracy: 0.7413 - val_loss: 0.1432\n",
            "Epoch 18/100\n",
            "\u001b[1m36/36\u001b[0m \u001b[32m━━━━━━━━━━━━━━━━━━━━\u001b[0m\u001b[37m\u001b[0m \u001b[1m1s\u001b[0m 16ms/step - accuracy: 0.7296 - loss: 0.1494 - val_accuracy: 0.7483 - val_loss: 0.1433\n",
            "Epoch 19/100\n",
            "\u001b[1m36/36\u001b[0m \u001b[32m━━━━━━━━━━━━━━━━━━━━\u001b[0m\u001b[37m\u001b[0m \u001b[1m1s\u001b[0m 17ms/step - accuracy: 0.6981 - loss: 0.1897 - val_accuracy: 0.7762 - val_loss: 0.1383\n",
            "Epoch 20/100\n",
            "\u001b[1m36/36\u001b[0m \u001b[32m━━━━━━━━━━━━━━━━━━━━\u001b[0m\u001b[37m\u001b[0m \u001b[1m1s\u001b[0m 17ms/step - accuracy: 0.6932 - loss: 0.1764 - val_accuracy: 0.7692 - val_loss: 0.1749\n",
            "Epoch 21/100\n",
            "\u001b[1m36/36\u001b[0m \u001b[32m━━━━━━━━━━━━━━━━━━━━\u001b[0m\u001b[37m\u001b[0m \u001b[1m1s\u001b[0m 17ms/step - accuracy: 0.6967 - loss: 0.1742 - val_accuracy: 0.7972 - val_loss: 0.1356\n",
            "Epoch 22/100\n",
            "\u001b[1m36/36\u001b[0m \u001b[32m━━━━━━━━━━━━━━━━━━━━\u001b[0m\u001b[37m\u001b[0m \u001b[1m1s\u001b[0m 17ms/step - accuracy: 0.7505 - loss: 0.1535 - val_accuracy: 0.7552 - val_loss: 0.1447\n",
            "Epoch 23/100\n",
            "\u001b[1m36/36\u001b[0m \u001b[32m━━━━━━━━━━━━━━━━━━━━\u001b[0m\u001b[37m\u001b[0m \u001b[1m1s\u001b[0m 16ms/step - accuracy: 0.7085 - loss: 0.1639 - val_accuracy: 0.7552 - val_loss: 0.1425\n",
            "Epoch 24/100\n",
            "\u001b[1m36/36\u001b[0m \u001b[32m━━━━━━━━━━━━━━━━━━━━\u001b[0m\u001b[37m\u001b[0m \u001b[1m1s\u001b[0m 16ms/step - accuracy: 0.7424 - loss: 0.1439 - val_accuracy: 0.7622 - val_loss: 0.1482\n",
            "Epoch 25/100\n",
            "\u001b[1m36/36\u001b[0m \u001b[32m━━━━━━━━━━━━━━━━━━━━\u001b[0m\u001b[37m\u001b[0m \u001b[1m1s\u001b[0m 15ms/step - accuracy: 0.7407 - loss: 0.1542 - val_accuracy: 0.7762 - val_loss: 0.1451\n",
            "Epoch 26/100\n",
            "\u001b[1m36/36\u001b[0m \u001b[32m━━━━━━━━━━━━━━━━━━━━\u001b[0m\u001b[37m\u001b[0m \u001b[1m1s\u001b[0m 17ms/step - accuracy: 0.7073 - loss: 0.1649 - val_accuracy: 0.7902 - val_loss: 0.1248\n",
            "Epoch 27/100\n",
            "\u001b[1m36/36\u001b[0m \u001b[32m━━━━━━━━━━━━━━━━━━━━\u001b[0m\u001b[37m\u001b[0m \u001b[1m1s\u001b[0m 16ms/step - accuracy: 0.7298 - loss: 0.1474 - val_accuracy: 0.7762 - val_loss: 0.1533\n",
            "Epoch 28/100\n",
            "\u001b[1m36/36\u001b[0m \u001b[32m━━━━━━━━━━━━━━━━━━━━\u001b[0m\u001b[37m\u001b[0m \u001b[1m1s\u001b[0m 19ms/step - accuracy: 0.7860 - loss: 0.1491 - val_accuracy: 0.8322 - val_loss: 0.1229\n",
            "Epoch 29/100\n",
            "\u001b[1m36/36\u001b[0m \u001b[32m━━━━━━━━━━━━━━━━━━━━\u001b[0m\u001b[37m\u001b[0m \u001b[1m1s\u001b[0m 25ms/step - accuracy: 0.6907 - loss: 0.1645 - val_accuracy: 0.7972 - val_loss: 0.1311\n",
            "Epoch 30/100\n",
            "\u001b[1m36/36\u001b[0m \u001b[32m━━━━━━━━━━━━━━━━━━━━\u001b[0m\u001b[37m\u001b[0m \u001b[1m1s\u001b[0m 25ms/step - accuracy: 0.7165 - loss: 0.1603 - val_accuracy: 0.7692 - val_loss: 0.1360\n",
            "Epoch 31/100\n",
            "\u001b[1m36/36\u001b[0m \u001b[32m━━━━━━━━━━━━━━━━━━━━\u001b[0m\u001b[37m\u001b[0m \u001b[1m1s\u001b[0m 16ms/step - accuracy: 0.7547 - loss: 0.1491 - val_accuracy: 0.8112 - val_loss: 0.1261\n",
            "Epoch 32/100\n",
            "\u001b[1m36/36\u001b[0m \u001b[32m━━━━━━━━━━━━━━━━━━━━\u001b[0m\u001b[37m\u001b[0m \u001b[1m1s\u001b[0m 16ms/step - accuracy: 0.7587 - loss: 0.1425 - val_accuracy: 0.7902 - val_loss: 0.1262\n",
            "Epoch 33/100\n",
            "\u001b[1m36/36\u001b[0m \u001b[32m━━━━━━━━━━━━━━━━━━━━\u001b[0m\u001b[37m\u001b[0m \u001b[1m1s\u001b[0m 16ms/step - accuracy: 0.7391 - loss: 0.1566 - val_accuracy: 0.7832 - val_loss: 0.1294\n",
            "Epoch 34/100\n",
            "\u001b[1m36/36\u001b[0m \u001b[32m━━━━━━━━━━━━━━━━━━━━\u001b[0m\u001b[37m\u001b[0m \u001b[1m1s\u001b[0m 16ms/step - accuracy: 0.7196 - loss: 0.1578 - val_accuracy: 0.7832 - val_loss: 0.1365\n",
            "Epoch 35/100\n",
            "\u001b[1m36/36\u001b[0m \u001b[32m━━━━━━━━━━━━━━━━━━━━\u001b[0m\u001b[37m\u001b[0m \u001b[1m1s\u001b[0m 15ms/step - accuracy: 0.7327 - loss: 0.1527 - val_accuracy: 0.8112 - val_loss: 0.1197\n",
            "Epoch 36/100\n",
            "\u001b[1m36/36\u001b[0m \u001b[32m━━━━━━━━━━━━━━━━━━━━\u001b[0m\u001b[37m\u001b[0m \u001b[1m1s\u001b[0m 16ms/step - accuracy: 0.7835 - loss: 0.1362 - val_accuracy: 0.7902 - val_loss: 0.1252\n",
            "Epoch 37/100\n",
            "\u001b[1m36/36\u001b[0m \u001b[32m━━━━━━━━━━━━━━━━━━━━\u001b[0m\u001b[37m\u001b[0m \u001b[1m1s\u001b[0m 17ms/step - accuracy: 0.7514 - loss: 0.1462 - val_accuracy: 0.8252 - val_loss: 0.1206\n",
            "Epoch 38/100\n",
            "\u001b[1m36/36\u001b[0m \u001b[32m━━━━━━━━━━━━━━━━━━━━\u001b[0m\u001b[37m\u001b[0m \u001b[1m1s\u001b[0m 17ms/step - accuracy: 0.7340 - loss: 0.1525 - val_accuracy: 0.7902 - val_loss: 0.1355\n",
            "Epoch 39/100\n",
            "\u001b[1m36/36\u001b[0m \u001b[32m━━━━━━━━━━━━━━━━━━━━\u001b[0m\u001b[37m\u001b[0m \u001b[1m1s\u001b[0m 18ms/step - accuracy: 0.7666 - loss: 0.1378 - val_accuracy: 0.7972 - val_loss: 0.1353\n",
            "Epoch 40/100\n",
            "\u001b[1m36/36\u001b[0m \u001b[32m━━━━━━━━━━━━━━━━━━━━\u001b[0m\u001b[37m\u001b[0m \u001b[1m1s\u001b[0m 17ms/step - accuracy: 0.8043 - loss: 0.1213 - val_accuracy: 0.7832 - val_loss: 0.1303\n",
            "Epoch 41/100\n",
            "\u001b[1m36/36\u001b[0m \u001b[32m━━━━━━━━━━━━━━━━━━━━\u001b[0m\u001b[37m\u001b[0m \u001b[1m1s\u001b[0m 16ms/step - accuracy: 0.7771 - loss: 0.1404 - val_accuracy: 0.7902 - val_loss: 0.1382\n",
            "Epoch 42/100\n",
            "\u001b[1m36/36\u001b[0m \u001b[32m━━━━━━━━━━━━━━━━━━━━\u001b[0m\u001b[37m\u001b[0m \u001b[1m1s\u001b[0m 16ms/step - accuracy: 0.7626 - loss: 0.1332 - val_accuracy: 0.7622 - val_loss: 0.1427\n"
          ]
        }
      ]
    },
    {
      "cell_type": "code",
      "source": [
        "Yprob = model.predict(Xval)\n",
        "Y_pred = (Yprob > 0.5).astype(int)"
      ],
      "metadata": {
        "colab": {
          "base_uri": "https://localhost:8080/"
        },
        "id": "UB0Eq9462Ea8",
        "outputId": "d027145a-b718-402b-833f-a85dd3c94b31"
      },
      "execution_count": 154,
      "outputs": [
        {
          "output_type": "stream",
          "name": "stdout",
          "text": [
            "\u001b[1m6/6\u001b[0m \u001b[32m━━━━━━━━━━━━━━━━━━━━\u001b[0m\u001b[37m\u001b[0m \u001b[1m0s\u001b[0m 28ms/step\n"
          ]
        }
      ]
    },
    {
      "cell_type": "code",
      "source": [
        "from sklearn.metrics import confusion_matrix,  accuracy_score\n",
        "CM = confusion_matrix(Yval, Y_pred)\n",
        "acc = accuracy_score(Yval, Y_pred)\n",
        "print(\"Confusion Matrix:\\n\", CM)\n",
        "print(f\"Accuracy: {acc:.4f}\")"
      ],
      "metadata": {
        "colab": {
          "base_uri": "https://localhost:8080/"
        },
        "id": "r3K605432Hev",
        "outputId": "02ca9a06-464e-4032-b4ed-e03ec1225e41"
      },
      "execution_count": 155,
      "outputs": [
        {
          "output_type": "stream",
          "name": "stdout",
          "text": [
            "Confusion Matrix:\n",
            " [[87 18]\n",
            " [16 58]]\n",
            "Accuracy: 0.8101\n"
          ]
        }
      ]
    },
    {
      "cell_type": "markdown",
      "source": [
        "Exploring CNN on Tabular Data (Experimental Approach)\n",
        "\n",
        "Although Convolutional Neural Networks (CNNs) are traditionally used for image and spatial data, I experimented with applying 1D convolutions on the Titanic dataset by reshaping the tabular input into a pseudo-sequential format.\n",
        "\n",
        "The idea was to treat each feature as a timestep and apply Conv1D layers to detect feature patterns and interactions that may not be captured by standard fully connected layers. I implemented:\n",
        "\t•\tTwo Conv1D layers with ReLU activation\n",
        "\t•\tBatch normalization and dropout for regularization\n",
        "\t•\tA fully connected output layer with sigmoid activation for binary classification\n",
        "\n",
        "I used EarlyStopping and class_weight to avoid overfitting and handle class imbalance. The resulting model produced comparable accuracy to the ANN version (~82%), demonstrating that even unconventional architectures can be explored when carefully framed.\n",
        "\n",
        "However, I note that CNN is not ideal for flat tabular data, and this experiment is more valuable as a demonstration of architecture flexibility and creative thinking in deep learning model design.\n"
      ],
      "metadata": {
        "id": "7ox4oPzbB7JH"
      }
    },
    {
      "cell_type": "code",
      "source": [
        "import numpy as np\n",
        "from tensorflow.keras.models import Sequential\n",
        "from tensorflow.keras.layers import Conv1D, MaxPooling1D, Flatten, Dense, Dropout, BatchNormalization\n",
        "from tensorflow.keras.optimizers import Adam\n",
        "from tensorflow.keras.callbacks import EarlyStopping\n",
        "from tensorflow.keras.losses import binary_crossentropy\n",
        "from sklearn.metrics import confusion_matrix, accuracy_score\n",
        "from sklearn.utils import class_weight\n",
        "\n",
        "# Reshape tabular data to 3D for Conv1D (samples, timesteps, features)\n",
        "Xtrain_cnn = np.expand_dims(Xtrain.values, axis=2)\n",
        "Xval_cnn   = np.expand_dims(Xval.values, axis=2)\n",
        "\n",
        "# Class weights to handle imbalance\n",
        "class_weights = class_weight.compute_class_weight(class_weight='balanced', classes=np.unique(Ytrain), y=Ytrain)\n",
        "cw_dict = dict(enumerate(class_weights))\n",
        "\n",
        "# CNN Model\n",
        "model = Sequential()\n",
        "model.add(Conv1D(filters=64, kernel_size=2, activation='relu', input_shape=(Xtrain.shape[1], 1)))\n",
        "model.add(BatchNormalization())\n",
        "model.add(MaxPooling1D(pool_size=2))\n",
        "model.add(Dropout(0.3))\n",
        "\n",
        "model.add(Conv1D(filters=32, kernel_size=2, activation='relu'))\n",
        "model.add(BatchNormalization())\n",
        "model.add(MaxPooling1D(pool_size=2))\n",
        "model.add(Dropout(0.3))\n",
        "\n",
        "model.add(Flatten())\n",
        "model.add(Dense(64, activation='relu'))\n",
        "model.add(Dropout(0.3))\n",
        "model.add(Dense(1, activation='sigmoid'))\n",
        "\n",
        "# Compile\n",
        "model.compile(optimizer=Adam(learning_rate=0.001),\n",
        "              loss=binary_crossentropy,\n",
        "              metrics=['accuracy'])\n",
        "\n",
        "# Early stopping\n",
        "ES = EarlyStopping(monitor='val_loss', patience=7, restore_best_weights=True)\n",
        "\n",
        "model.summary()"
      ],
      "metadata": {
        "colab": {
          "base_uri": "https://localhost:8080/",
          "height": 617
        },
        "id": "AthgnqyFB54K",
        "outputId": "5c5496ad-0179-4218-efe2-2c1ec3367283"
      },
      "execution_count": 250,
      "outputs": [
        {
          "output_type": "stream",
          "name": "stderr",
          "text": [
            "/usr/local/lib/python3.11/dist-packages/keras/src/layers/convolutional/base_conv.py:107: UserWarning: Do not pass an `input_shape`/`input_dim` argument to a layer. When using Sequential models, prefer using an `Input(shape)` object as the first layer in the model instead.\n",
            "  super().__init__(activity_regularizer=activity_regularizer, **kwargs)\n"
          ]
        },
        {
          "output_type": "display_data",
          "data": {
            "text/plain": [
              "\u001b[1mModel: \"sequential_21\"\u001b[0m\n"
            ],
            "text/html": [
              "<pre style=\"white-space:pre;overflow-x:auto;line-height:normal;font-family:Menlo,'DejaVu Sans Mono',consolas,'Courier New',monospace\"><span style=\"font-weight: bold\">Model: \"sequential_21\"</span>\n",
              "</pre>\n"
            ]
          },
          "metadata": {}
        },
        {
          "output_type": "display_data",
          "data": {
            "text/plain": [
              "┏━━━━━━━━━━━━━━━━━━━━━━━━━━━━━━━━━┳━━━━━━━━━━━━━━━━━━━━━━━━┳━━━━━━━━━━━━━━━┓\n",
              "┃\u001b[1m \u001b[0m\u001b[1mLayer (type)                   \u001b[0m\u001b[1m \u001b[0m┃\u001b[1m \u001b[0m\u001b[1mOutput Shape          \u001b[0m\u001b[1m \u001b[0m┃\u001b[1m \u001b[0m\u001b[1m      Param #\u001b[0m\u001b[1m \u001b[0m┃\n",
              "┡━━━━━━━━━━━━━━━━━━━━━━━━━━━━━━━━━╇━━━━━━━━━━━━━━━━━━━━━━━━╇━━━━━━━━━━━━━━━┩\n",
              "│ conv1d_4 (\u001b[38;5;33mConv1D\u001b[0m)               │ (\u001b[38;5;45mNone\u001b[0m, \u001b[38;5;34m9\u001b[0m, \u001b[38;5;34m64\u001b[0m)          │           \u001b[38;5;34m192\u001b[0m │\n",
              "├─────────────────────────────────┼────────────────────────┼───────────────┤\n",
              "│ batch_normalization_58          │ (\u001b[38;5;45mNone\u001b[0m, \u001b[38;5;34m9\u001b[0m, \u001b[38;5;34m64\u001b[0m)          │           \u001b[38;5;34m256\u001b[0m │\n",
              "│ (\u001b[38;5;33mBatchNormalization\u001b[0m)            │                        │               │\n",
              "├─────────────────────────────────┼────────────────────────┼───────────────┤\n",
              "│ max_pooling1d_4 (\u001b[38;5;33mMaxPooling1D\u001b[0m)  │ (\u001b[38;5;45mNone\u001b[0m, \u001b[38;5;34m4\u001b[0m, \u001b[38;5;34m64\u001b[0m)          │             \u001b[38;5;34m0\u001b[0m │\n",
              "├─────────────────────────────────┼────────────────────────┼───────────────┤\n",
              "│ dropout_60 (\u001b[38;5;33mDropout\u001b[0m)            │ (\u001b[38;5;45mNone\u001b[0m, \u001b[38;5;34m4\u001b[0m, \u001b[38;5;34m64\u001b[0m)          │             \u001b[38;5;34m0\u001b[0m │\n",
              "├─────────────────────────────────┼────────────────────────┼───────────────┤\n",
              "│ conv1d_5 (\u001b[38;5;33mConv1D\u001b[0m)               │ (\u001b[38;5;45mNone\u001b[0m, \u001b[38;5;34m3\u001b[0m, \u001b[38;5;34m32\u001b[0m)          │         \u001b[38;5;34m4,128\u001b[0m │\n",
              "├─────────────────────────────────┼────────────────────────┼───────────────┤\n",
              "│ batch_normalization_59          │ (\u001b[38;5;45mNone\u001b[0m, \u001b[38;5;34m3\u001b[0m, \u001b[38;5;34m32\u001b[0m)          │           \u001b[38;5;34m128\u001b[0m │\n",
              "│ (\u001b[38;5;33mBatchNormalization\u001b[0m)            │                        │               │\n",
              "├─────────────────────────────────┼────────────────────────┼───────────────┤\n",
              "│ max_pooling1d_5 (\u001b[38;5;33mMaxPooling1D\u001b[0m)  │ (\u001b[38;5;45mNone\u001b[0m, \u001b[38;5;34m1\u001b[0m, \u001b[38;5;34m32\u001b[0m)          │             \u001b[38;5;34m0\u001b[0m │\n",
              "├─────────────────────────────────┼────────────────────────┼───────────────┤\n",
              "│ dropout_61 (\u001b[38;5;33mDropout\u001b[0m)            │ (\u001b[38;5;45mNone\u001b[0m, \u001b[38;5;34m1\u001b[0m, \u001b[38;5;34m32\u001b[0m)          │             \u001b[38;5;34m0\u001b[0m │\n",
              "├─────────────────────────────────┼────────────────────────┼───────────────┤\n",
              "│ flatten_2 (\u001b[38;5;33mFlatten\u001b[0m)             │ (\u001b[38;5;45mNone\u001b[0m, \u001b[38;5;34m32\u001b[0m)             │             \u001b[38;5;34m0\u001b[0m │\n",
              "├─────────────────────────────────┼────────────────────────┼───────────────┤\n",
              "│ dense_77 (\u001b[38;5;33mDense\u001b[0m)                │ (\u001b[38;5;45mNone\u001b[0m, \u001b[38;5;34m64\u001b[0m)             │         \u001b[38;5;34m2,112\u001b[0m │\n",
              "├─────────────────────────────────┼────────────────────────┼───────────────┤\n",
              "│ dropout_62 (\u001b[38;5;33mDropout\u001b[0m)            │ (\u001b[38;5;45mNone\u001b[0m, \u001b[38;5;34m64\u001b[0m)             │             \u001b[38;5;34m0\u001b[0m │\n",
              "├─────────────────────────────────┼────────────────────────┼───────────────┤\n",
              "│ dense_78 (\u001b[38;5;33mDense\u001b[0m)                │ (\u001b[38;5;45mNone\u001b[0m, \u001b[38;5;34m1\u001b[0m)              │            \u001b[38;5;34m65\u001b[0m │\n",
              "└─────────────────────────────────┴────────────────────────┴───────────────┘\n"
            ],
            "text/html": [
              "<pre style=\"white-space:pre;overflow-x:auto;line-height:normal;font-family:Menlo,'DejaVu Sans Mono',consolas,'Courier New',monospace\">┏━━━━━━━━━━━━━━━━━━━━━━━━━━━━━━━━━┳━━━━━━━━━━━━━━━━━━━━━━━━┳━━━━━━━━━━━━━━━┓\n",
              "┃<span style=\"font-weight: bold\"> Layer (type)                    </span>┃<span style=\"font-weight: bold\"> Output Shape           </span>┃<span style=\"font-weight: bold\">       Param # </span>┃\n",
              "┡━━━━━━━━━━━━━━━━━━━━━━━━━━━━━━━━━╇━━━━━━━━━━━━━━━━━━━━━━━━╇━━━━━━━━━━━━━━━┩\n",
              "│ conv1d_4 (<span style=\"color: #0087ff; text-decoration-color: #0087ff\">Conv1D</span>)               │ (<span style=\"color: #00d7ff; text-decoration-color: #00d7ff\">None</span>, <span style=\"color: #00af00; text-decoration-color: #00af00\">9</span>, <span style=\"color: #00af00; text-decoration-color: #00af00\">64</span>)          │           <span style=\"color: #00af00; text-decoration-color: #00af00\">192</span> │\n",
              "├─────────────────────────────────┼────────────────────────┼───────────────┤\n",
              "│ batch_normalization_58          │ (<span style=\"color: #00d7ff; text-decoration-color: #00d7ff\">None</span>, <span style=\"color: #00af00; text-decoration-color: #00af00\">9</span>, <span style=\"color: #00af00; text-decoration-color: #00af00\">64</span>)          │           <span style=\"color: #00af00; text-decoration-color: #00af00\">256</span> │\n",
              "│ (<span style=\"color: #0087ff; text-decoration-color: #0087ff\">BatchNormalization</span>)            │                        │               │\n",
              "├─────────────────────────────────┼────────────────────────┼───────────────┤\n",
              "│ max_pooling1d_4 (<span style=\"color: #0087ff; text-decoration-color: #0087ff\">MaxPooling1D</span>)  │ (<span style=\"color: #00d7ff; text-decoration-color: #00d7ff\">None</span>, <span style=\"color: #00af00; text-decoration-color: #00af00\">4</span>, <span style=\"color: #00af00; text-decoration-color: #00af00\">64</span>)          │             <span style=\"color: #00af00; text-decoration-color: #00af00\">0</span> │\n",
              "├─────────────────────────────────┼────────────────────────┼───────────────┤\n",
              "│ dropout_60 (<span style=\"color: #0087ff; text-decoration-color: #0087ff\">Dropout</span>)            │ (<span style=\"color: #00d7ff; text-decoration-color: #00d7ff\">None</span>, <span style=\"color: #00af00; text-decoration-color: #00af00\">4</span>, <span style=\"color: #00af00; text-decoration-color: #00af00\">64</span>)          │             <span style=\"color: #00af00; text-decoration-color: #00af00\">0</span> │\n",
              "├─────────────────────────────────┼────────────────────────┼───────────────┤\n",
              "│ conv1d_5 (<span style=\"color: #0087ff; text-decoration-color: #0087ff\">Conv1D</span>)               │ (<span style=\"color: #00d7ff; text-decoration-color: #00d7ff\">None</span>, <span style=\"color: #00af00; text-decoration-color: #00af00\">3</span>, <span style=\"color: #00af00; text-decoration-color: #00af00\">32</span>)          │         <span style=\"color: #00af00; text-decoration-color: #00af00\">4,128</span> │\n",
              "├─────────────────────────────────┼────────────────────────┼───────────────┤\n",
              "│ batch_normalization_59          │ (<span style=\"color: #00d7ff; text-decoration-color: #00d7ff\">None</span>, <span style=\"color: #00af00; text-decoration-color: #00af00\">3</span>, <span style=\"color: #00af00; text-decoration-color: #00af00\">32</span>)          │           <span style=\"color: #00af00; text-decoration-color: #00af00\">128</span> │\n",
              "│ (<span style=\"color: #0087ff; text-decoration-color: #0087ff\">BatchNormalization</span>)            │                        │               │\n",
              "├─────────────────────────────────┼────────────────────────┼───────────────┤\n",
              "│ max_pooling1d_5 (<span style=\"color: #0087ff; text-decoration-color: #0087ff\">MaxPooling1D</span>)  │ (<span style=\"color: #00d7ff; text-decoration-color: #00d7ff\">None</span>, <span style=\"color: #00af00; text-decoration-color: #00af00\">1</span>, <span style=\"color: #00af00; text-decoration-color: #00af00\">32</span>)          │             <span style=\"color: #00af00; text-decoration-color: #00af00\">0</span> │\n",
              "├─────────────────────────────────┼────────────────────────┼───────────────┤\n",
              "│ dropout_61 (<span style=\"color: #0087ff; text-decoration-color: #0087ff\">Dropout</span>)            │ (<span style=\"color: #00d7ff; text-decoration-color: #00d7ff\">None</span>, <span style=\"color: #00af00; text-decoration-color: #00af00\">1</span>, <span style=\"color: #00af00; text-decoration-color: #00af00\">32</span>)          │             <span style=\"color: #00af00; text-decoration-color: #00af00\">0</span> │\n",
              "├─────────────────────────────────┼────────────────────────┼───────────────┤\n",
              "│ flatten_2 (<span style=\"color: #0087ff; text-decoration-color: #0087ff\">Flatten</span>)             │ (<span style=\"color: #00d7ff; text-decoration-color: #00d7ff\">None</span>, <span style=\"color: #00af00; text-decoration-color: #00af00\">32</span>)             │             <span style=\"color: #00af00; text-decoration-color: #00af00\">0</span> │\n",
              "├─────────────────────────────────┼────────────────────────┼───────────────┤\n",
              "│ dense_77 (<span style=\"color: #0087ff; text-decoration-color: #0087ff\">Dense</span>)                │ (<span style=\"color: #00d7ff; text-decoration-color: #00d7ff\">None</span>, <span style=\"color: #00af00; text-decoration-color: #00af00\">64</span>)             │         <span style=\"color: #00af00; text-decoration-color: #00af00\">2,112</span> │\n",
              "├─────────────────────────────────┼────────────────────────┼───────────────┤\n",
              "│ dropout_62 (<span style=\"color: #0087ff; text-decoration-color: #0087ff\">Dropout</span>)            │ (<span style=\"color: #00d7ff; text-decoration-color: #00d7ff\">None</span>, <span style=\"color: #00af00; text-decoration-color: #00af00\">64</span>)             │             <span style=\"color: #00af00; text-decoration-color: #00af00\">0</span> │\n",
              "├─────────────────────────────────┼────────────────────────┼───────────────┤\n",
              "│ dense_78 (<span style=\"color: #0087ff; text-decoration-color: #0087ff\">Dense</span>)                │ (<span style=\"color: #00d7ff; text-decoration-color: #00d7ff\">None</span>, <span style=\"color: #00af00; text-decoration-color: #00af00\">1</span>)              │            <span style=\"color: #00af00; text-decoration-color: #00af00\">65</span> │\n",
              "└─────────────────────────────────┴────────────────────────┴───────────────┘\n",
              "</pre>\n"
            ]
          },
          "metadata": {}
        },
        {
          "output_type": "display_data",
          "data": {
            "text/plain": [
              "\u001b[1m Total params: \u001b[0m\u001b[38;5;34m6,881\u001b[0m (26.88 KB)\n"
            ],
            "text/html": [
              "<pre style=\"white-space:pre;overflow-x:auto;line-height:normal;font-family:Menlo,'DejaVu Sans Mono',consolas,'Courier New',monospace\"><span style=\"font-weight: bold\"> Total params: </span><span style=\"color: #00af00; text-decoration-color: #00af00\">6,881</span> (26.88 KB)\n",
              "</pre>\n"
            ]
          },
          "metadata": {}
        },
        {
          "output_type": "display_data",
          "data": {
            "text/plain": [
              "\u001b[1m Trainable params: \u001b[0m\u001b[38;5;34m6,689\u001b[0m (26.13 KB)\n"
            ],
            "text/html": [
              "<pre style=\"white-space:pre;overflow-x:auto;line-height:normal;font-family:Menlo,'DejaVu Sans Mono',consolas,'Courier New',monospace\"><span style=\"font-weight: bold\"> Trainable params: </span><span style=\"color: #00af00; text-decoration-color: #00af00\">6,689</span> (26.13 KB)\n",
              "</pre>\n"
            ]
          },
          "metadata": {}
        },
        {
          "output_type": "display_data",
          "data": {
            "text/plain": [
              "\u001b[1m Non-trainable params: \u001b[0m\u001b[38;5;34m192\u001b[0m (768.00 B)\n"
            ],
            "text/html": [
              "<pre style=\"white-space:pre;overflow-x:auto;line-height:normal;font-family:Menlo,'DejaVu Sans Mono',consolas,'Courier New',monospace\"><span style=\"font-weight: bold\"> Non-trainable params: </span><span style=\"color: #00af00; text-decoration-color: #00af00\">192</span> (768.00 B)\n",
              "</pre>\n"
            ]
          },
          "metadata": {}
        }
      ]
    },
    {
      "cell_type": "code",
      "source": [
        "history5= model.fit(Xtrain, Ytrain, batch_size=32, epochs=100,validation_split=0.2,class_weight=cw_dict,callbacks=[ES])"
      ],
      "metadata": {
        "colab": {
          "base_uri": "https://localhost:8080/"
        },
        "id": "jBUgLWNNCIsj",
        "outputId": "8492e750-0fd2-441a-e92d-fbe77f08325b"
      },
      "execution_count": 251,
      "outputs": [
        {
          "output_type": "stream",
          "name": "stdout",
          "text": [
            "Epoch 1/100\n",
            "\u001b[1m18/18\u001b[0m \u001b[32m━━━━━━━━━━━━━━━━━━━━\u001b[0m\u001b[37m\u001b[0m \u001b[1m4s\u001b[0m 44ms/step - accuracy: 0.4560 - loss: 0.8324 - val_accuracy: 0.6434 - val_loss: 0.7527\n",
            "Epoch 2/100\n",
            "\u001b[1m18/18\u001b[0m \u001b[32m━━━━━━━━━━━━━━━━━━━━\u001b[0m\u001b[37m\u001b[0m \u001b[1m0s\u001b[0m 16ms/step - accuracy: 0.5631 - loss: 0.7054 - val_accuracy: 0.6434 - val_loss: 0.7363\n",
            "Epoch 3/100\n",
            "\u001b[1m18/18\u001b[0m \u001b[32m━━━━━━━━━━━━━━━━━━━━\u001b[0m\u001b[37m\u001b[0m \u001b[1m1s\u001b[0m 15ms/step - accuracy: 0.5640 - loss: 0.7714 - val_accuracy: 0.6573 - val_loss: 0.7084\n",
            "Epoch 4/100\n",
            "\u001b[1m18/18\u001b[0m \u001b[32m━━━━━━━━━━━━━━━━━━━━\u001b[0m\u001b[37m\u001b[0m \u001b[1m0s\u001b[0m 12ms/step - accuracy: 0.5588 - loss: 0.7511 - val_accuracy: 0.6783 - val_loss: 0.6855\n",
            "Epoch 5/100\n",
            "\u001b[1m18/18\u001b[0m \u001b[32m━━━━━━━━━━━━━━━━━━━━\u001b[0m\u001b[37m\u001b[0m \u001b[1m0s\u001b[0m 12ms/step - accuracy: 0.6172 - loss: 0.6803 - val_accuracy: 0.6503 - val_loss: 0.6697\n",
            "Epoch 6/100\n",
            "\u001b[1m18/18\u001b[0m \u001b[32m━━━━━━━━━━━━━━━━━━━━\u001b[0m\u001b[37m\u001b[0m \u001b[1m0s\u001b[0m 10ms/step - accuracy: 0.6219 - loss: 0.7380 - val_accuracy: 0.6503 - val_loss: 0.6605\n",
            "Epoch 7/100\n",
            "\u001b[1m18/18\u001b[0m \u001b[32m━━━━━━━━━━━━━━━━━━━━\u001b[0m\u001b[37m\u001b[0m \u001b[1m0s\u001b[0m 11ms/step - accuracy: 0.6261 - loss: 0.6690 - val_accuracy: 0.6434 - val_loss: 0.6592\n",
            "Epoch 8/100\n",
            "\u001b[1m18/18\u001b[0m \u001b[32m━━━━━━━━━━━━━━━━━━━━\u001b[0m\u001b[37m\u001b[0m \u001b[1m0s\u001b[0m 12ms/step - accuracy: 0.6184 - loss: 0.6929 - val_accuracy: 0.6573 - val_loss: 0.6414\n",
            "Epoch 9/100\n",
            "\u001b[1m18/18\u001b[0m \u001b[32m━━━━━━━━━━━━━━━━━━━━\u001b[0m\u001b[37m\u001b[0m \u001b[1m0s\u001b[0m 10ms/step - accuracy: 0.6247 - loss: 0.6986 - val_accuracy: 0.6573 - val_loss: 0.6425\n",
            "Epoch 10/100\n",
            "\u001b[1m18/18\u001b[0m \u001b[32m━━━━━━━━━━━━━━━━━━━━\u001b[0m\u001b[37m\u001b[0m \u001b[1m0s\u001b[0m 9ms/step - accuracy: 0.6350 - loss: 0.6581 - val_accuracy: 0.6573 - val_loss: 0.6435\n",
            "Epoch 11/100\n",
            "\u001b[1m18/18\u001b[0m \u001b[32m━━━━━━━━━━━━━━━━━━━━\u001b[0m\u001b[37m\u001b[0m \u001b[1m0s\u001b[0m 10ms/step - accuracy: 0.5614 - loss: 0.7357 - val_accuracy: 0.6573 - val_loss: 0.6430\n",
            "Epoch 12/100\n",
            "\u001b[1m18/18\u001b[0m \u001b[32m━━━━━━━━━━━━━━━━━━━━\u001b[0m\u001b[37m\u001b[0m \u001b[1m0s\u001b[0m 10ms/step - accuracy: 0.5736 - loss: 0.7012 - val_accuracy: 0.6434 - val_loss: 0.6419\n",
            "Epoch 13/100\n",
            "\u001b[1m18/18\u001b[0m \u001b[32m━━━━━━━━━━━━━━━━━━━━\u001b[0m\u001b[37m\u001b[0m \u001b[1m0s\u001b[0m 10ms/step - accuracy: 0.6163 - loss: 0.6775 - val_accuracy: 0.6434 - val_loss: 0.6372\n",
            "Epoch 14/100\n",
            "\u001b[1m18/18\u001b[0m \u001b[32m━━━━━━━━━━━━━━━━━━━━\u001b[0m\u001b[37m\u001b[0m \u001b[1m0s\u001b[0m 9ms/step - accuracy: 0.6189 - loss: 0.6598 - val_accuracy: 0.6503 - val_loss: 0.6344\n",
            "Epoch 15/100\n",
            "\u001b[1m18/18\u001b[0m \u001b[32m━━━━━━━━━━━━━━━━━━━━\u001b[0m\u001b[37m\u001b[0m \u001b[1m0s\u001b[0m 10ms/step - accuracy: 0.6305 - loss: 0.6628 - val_accuracy: 0.6434 - val_loss: 0.6263\n",
            "Epoch 16/100\n",
            "\u001b[1m18/18\u001b[0m \u001b[32m━━━━━━━━━━━━━━━━━━━━\u001b[0m\u001b[37m\u001b[0m \u001b[1m0s\u001b[0m 12ms/step - accuracy: 0.6068 - loss: 0.6631 - val_accuracy: 0.6503 - val_loss: 0.6231\n",
            "Epoch 17/100\n",
            "\u001b[1m18/18\u001b[0m \u001b[32m━━━━━━━━━━━━━━━━━━━━\u001b[0m\u001b[37m\u001b[0m \u001b[1m0s\u001b[0m 11ms/step - accuracy: 0.5951 - loss: 0.6778 - val_accuracy: 0.6434 - val_loss: 0.6311\n",
            "Epoch 18/100\n",
            "\u001b[1m18/18\u001b[0m \u001b[32m━━━━━━━━━━━━━━━━━━━━\u001b[0m\u001b[37m\u001b[0m \u001b[1m0s\u001b[0m 10ms/step - accuracy: 0.6641 - loss: 0.6556 - val_accuracy: 0.6434 - val_loss: 0.6274\n",
            "Epoch 19/100\n",
            "\u001b[1m18/18\u001b[0m \u001b[32m━━━━━━━━━━━━━━━━━━━━\u001b[0m\u001b[37m\u001b[0m \u001b[1m0s\u001b[0m 11ms/step - accuracy: 0.6320 - loss: 0.6456 - val_accuracy: 0.6573 - val_loss: 0.6223\n",
            "Epoch 20/100\n",
            "\u001b[1m18/18\u001b[0m \u001b[32m━━━━━━━━━━━━━━━━━━━━\u001b[0m\u001b[37m\u001b[0m \u001b[1m0s\u001b[0m 12ms/step - accuracy: 0.6485 - loss: 0.6266 - val_accuracy: 0.6573 - val_loss: 0.6198\n",
            "Epoch 21/100\n",
            "\u001b[1m18/18\u001b[0m \u001b[32m━━━━━━━━━━━━━━━━━━━━\u001b[0m\u001b[37m\u001b[0m \u001b[1m0s\u001b[0m 10ms/step - accuracy: 0.6231 - loss: 0.6584 - val_accuracy: 0.6573 - val_loss: 0.6238\n",
            "Epoch 22/100\n",
            "\u001b[1m18/18\u001b[0m \u001b[32m━━━━━━━━━━━━━━━━━━━━\u001b[0m\u001b[37m\u001b[0m \u001b[1m0s\u001b[0m 11ms/step - accuracy: 0.6603 - loss: 0.6511 - val_accuracy: 0.6503 - val_loss: 0.6219\n",
            "Epoch 23/100\n",
            "\u001b[1m18/18\u001b[0m \u001b[32m━━━━━━━━━━━━━━━━━━━━\u001b[0m\u001b[37m\u001b[0m \u001b[1m0s\u001b[0m 12ms/step - accuracy: 0.5988 - loss: 0.7006 - val_accuracy: 0.6503 - val_loss: 0.6198\n",
            "Epoch 24/100\n",
            "\u001b[1m18/18\u001b[0m \u001b[32m━━━━━━━━━━━━━━━━━━━━\u001b[0m\u001b[37m\u001b[0m \u001b[1m0s\u001b[0m 11ms/step - accuracy: 0.6494 - loss: 0.6555 - val_accuracy: 0.6713 - val_loss: 0.6164\n",
            "Epoch 25/100\n",
            "\u001b[1m18/18\u001b[0m \u001b[32m━━━━━━━━━━━━━━━━━━━━\u001b[0m\u001b[37m\u001b[0m \u001b[1m0s\u001b[0m 10ms/step - accuracy: 0.6058 - loss: 0.6678 - val_accuracy: 0.6643 - val_loss: 0.6145\n",
            "Epoch 26/100\n",
            "\u001b[1m18/18\u001b[0m \u001b[32m━━━━━━━━━━━━━━━━━━━━\u001b[0m\u001b[37m\u001b[0m \u001b[1m0s\u001b[0m 12ms/step - accuracy: 0.6091 - loss: 0.6382 - val_accuracy: 0.6853 - val_loss: 0.6128\n",
            "Epoch 27/100\n",
            "\u001b[1m18/18\u001b[0m \u001b[32m━━━━━━━━━━━━━━━━━━━━\u001b[0m\u001b[37m\u001b[0m \u001b[1m0s\u001b[0m 10ms/step - accuracy: 0.5992 - loss: 0.6499 - val_accuracy: 0.6853 - val_loss: 0.6147\n",
            "Epoch 28/100\n",
            "\u001b[1m18/18\u001b[0m \u001b[32m━━━━━━━━━━━━━━━━━━━━\u001b[0m\u001b[37m\u001b[0m \u001b[1m0s\u001b[0m 11ms/step - accuracy: 0.6006 - loss: 0.6579 - val_accuracy: 0.6783 - val_loss: 0.6122\n",
            "Epoch 29/100\n",
            "\u001b[1m18/18\u001b[0m \u001b[32m━━━━━━━━━━━━━━━━━━━━\u001b[0m\u001b[37m\u001b[0m \u001b[1m0s\u001b[0m 9ms/step - accuracy: 0.6308 - loss: 0.6472 - val_accuracy: 0.6643 - val_loss: 0.6167\n",
            "Epoch 30/100\n",
            "\u001b[1m18/18\u001b[0m \u001b[32m━━━━━━━━━━━━━━━━━━━━\u001b[0m\u001b[37m\u001b[0m \u001b[1m0s\u001b[0m 10ms/step - accuracy: 0.6377 - loss: 0.6645 - val_accuracy: 0.6713 - val_loss: 0.6199\n",
            "Epoch 31/100\n",
            "\u001b[1m18/18\u001b[0m \u001b[32m━━━━━━━━━━━━━━━━━━━━\u001b[0m\u001b[37m\u001b[0m \u001b[1m0s\u001b[0m 10ms/step - accuracy: 0.6213 - loss: 0.6549 - val_accuracy: 0.6154 - val_loss: 0.6247\n",
            "Epoch 32/100\n",
            "\u001b[1m18/18\u001b[0m \u001b[32m━━━━━━━━━━━━━━━━━━━━\u001b[0m\u001b[37m\u001b[0m \u001b[1m0s\u001b[0m 10ms/step - accuracy: 0.6371 - loss: 0.6474 - val_accuracy: 0.6364 - val_loss: 0.6203\n",
            "Epoch 33/100\n",
            "\u001b[1m18/18\u001b[0m \u001b[32m━━━━━━━━━━━━━━━━━━━━\u001b[0m\u001b[37m\u001b[0m \u001b[1m0s\u001b[0m 9ms/step - accuracy: 0.6124 - loss: 0.6783 - val_accuracy: 0.6154 - val_loss: 0.6223\n",
            "Epoch 34/100\n",
            "\u001b[1m18/18\u001b[0m \u001b[32m━━━━━━━━━━━━━━━━━━━━\u001b[0m\u001b[37m\u001b[0m \u001b[1m0s\u001b[0m 10ms/step - accuracy: 0.6337 - loss: 0.6449 - val_accuracy: 0.6364 - val_loss: 0.6194\n",
            "Epoch 35/100\n",
            "\u001b[1m18/18\u001b[0m \u001b[32m━━━━━━━━━━━━━━━━━━━━\u001b[0m\u001b[37m\u001b[0m \u001b[1m0s\u001b[0m 10ms/step - accuracy: 0.6040 - loss: 0.6854 - val_accuracy: 0.6503 - val_loss: 0.6196\n"
          ]
        }
      ]
    },
    {
      "cell_type": "code",
      "source": [
        "# Predict\n",
        "Yprob_cnn = model.predict(Xval_cnn)\n",
        "Ypred_cnn = (Yprob_cnn > 0.5).astype(int)\n",
        "\n",
        "# Evaluate\n",
        "CM = confusion_matrix(Yval, Ypred_cnn)\n",
        "acc = accuracy_score(Yval, Ypred_cnn)\n",
        "\n",
        "print(\"Confusion Matrix:\\n\", CM)\n",
        "print(f\"Accuracy: {acc:.4f}\")"
      ],
      "metadata": {
        "colab": {
          "base_uri": "https://localhost:8080/"
        },
        "id": "RYoLW1lVCZin",
        "outputId": "03329ce6-0245-4e9a-8e46-070de461b9f2"
      },
      "execution_count": 252,
      "outputs": [
        {
          "output_type": "stream",
          "name": "stdout",
          "text": [
            "\u001b[1m6/6\u001b[0m \u001b[32m━━━━━━━━━━━━━━━━━━━━\u001b[0m\u001b[37m\u001b[0m \u001b[1m0s\u001b[0m 42ms/step\n",
            "Confusion Matrix:\n",
            " [[77 28]\n",
            " [22 52]]\n",
            "Accuracy: 0.7207\n"
          ]
        }
      ]
    },
    {
      "cell_type": "markdown",
      "source": [
        "Why CNN Did Not Work Well Here\n",
        "\n",
        "I experimented with applying a 1D Convolutional Neural Network to the Titanic dataset by reshaping the tabular features into a pseudo-sequential format. However, the model performed noticeably worse (~72% accuracy) compared to both ANN and ensemble models.\n",
        "\n",
        "This highlights an important concept in model selection: CNNs are optimized for spatially coherent data, such as images or audio, where nearby data points are contextually related. In contrast, the Titanic dataset is a flat tabular structure, where features are independent and unordered.\n",
        "\n",
        "While the experiment was insightful and demonstrated architectural flexibility, it reinforced that model choice must align with data structure. For this problem, fully connected networks or gradient boosting techniques are far better suited."
      ],
      "metadata": {
        "id": "KHBwpZpSD2_a"
      }
    }
  ]
}